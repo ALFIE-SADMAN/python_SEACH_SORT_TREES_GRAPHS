{
 "cells": [
  {
   "cell_type": "markdown",
   "id": "4040364b",
   "metadata": {},
   "source": [
    "# Q1: Algorithm Complexity\n",
    "Evaluate the following code and determine its time and space complexity in Big O notation."
   ]
  },
  {
   "cell_type": "code",
   "execution_count": null,
   "id": "ebe33a11",
   "metadata": {},
   "outputs": [],
   "source": [
    "import random\n",
    "\n",
    "n = 256\n",
    "X_RES, Y_RES = (n, n)\n",
    "\n",
    "pixel_data = [[0 for x in range(X_RES)] for y in range(Y_RES)]\n",
    "\n",
    "def preprocess_origin(data):\n",
    "    pixel_data[0][0] = 1\n",
    "\n",
    "def preprocess_noise(data, x=1):\n",
    "    n = random.uniform(1.5, 1.9)\n",
    "    for y in data:\n",
    "        y[x] = x + n\n",
    "\n",
    "preprocess_origin(pixel_data)\n",
    "\n",
    "for x in range(1, X_RES):\n",
    "    preprocess_noise(pixel_data, x)"
   ]
  },
  {
   "cell_type": "markdown",
   "id": "8581bc8c",
   "metadata": {},
   "source": [
    "### Answer:\n",
    "- Creating `pixel_data`: **O(n²)** time and space.\n",
    "- `preprocess_origin`: **O(1)**\n",
    "- `preprocess_noise` per call: **O(n)** due to the loop.\n",
    "- Loop calls `preprocess_noise` `n` times: **O(n²)** total.\n",
    "- **Total complexity: O(n²)** time and **O(n²)** space.\n"
   ]
  },
  {
   "cell_type": "markdown",
   "id": "10c24f2a",
   "metadata": {},
   "source": [
    "# Q2: Recursion\n",
    "Write a recursive function that returns the starting index of `pattern` inside `number`, or -1 if not found."
   ]
  },
  {
   "cell_type": "code",
   "execution_count": null,
   "id": "b28b395e",
   "metadata": {},
   "outputs": [],
   "source": [
    "def contains(number, pattern):\n",
    "    def digit_match(num_str, left, match):\n",
    "        length = len(match)\n",
    "        right = left + length\n",
    "        if num_str[left:right] == match:\n",
    "            return left\n",
    "        elif right <= len(num_str):\n",
    "            return digit_match(num_str, left + 1, match)\n",
    "        else:\n",
    "            return -1\n",
    "    return digit_match(number, 0, pattern)\n",
    "\n",
    "# Test cases\n",
    "assert contains(\"1011\", \"1\") == 0\n",
    "assert contains(\"1011\", \"01\") == 1\n",
    "assert contains(\"101101101\", \"1101\") == 2\n",
    "assert contains(\"101110111\", \"01011\") == -1"
   ]
  },
  {
   "cell_type": "markdown",
   "id": "75fc891d",
   "metadata": {},
   "source": [
    "# Q3: Sorting Tuples by Numeric Sum\n",
    "Implement a custom quicksort to sort a list of tuples in descending order based on their numeric sum."
   ]
  },
  {
   "cell_type": "code",
   "execution_count": null,
   "id": "8a9fb39c",
   "metadata": {},
   "outputs": [],
   "source": [
    "import random\n",
    "\n",
    "def numeric_sum(t):\n",
    "    total = 0\n",
    "    for item in t:\n",
    "        if isinstance(item, (int, float)):\n",
    "            total += item\n",
    "    return total\n",
    "\n",
    "def quicksort(arr, left, right):\n",
    "    if left >= right:\n",
    "        return\n",
    "\n",
    "    pivot_idx = random.randrange(left, right + 1)\n",
    "    pivot_val = arr[pivot_idx][0]\n",
    "\n",
    "    arr[pivot_idx], arr[right] = arr[right], arr[pivot_idx]\n",
    "\n",
    "    i = left\n",
    "    for j in range(left, right):\n",
    "        if arr[j][0] > pivot_val:\n",
    "            arr[i], arr[j] = arr[j], arr[i]\n",
    "            i += 1\n",
    "\n",
    "    arr[i], arr[right] = arr[right], arr[i]\n",
    "    quicksort(arr, left, i - 1)\n",
    "    quicksort(arr, i + 1, right)\n",
    "\n",
    "def sort_tup_list(data):\n",
    "    combined = []\n",
    "    for tup in data:\n",
    "        s = numeric_sum(tup)\n",
    "        combined.append([s, tup])\n",
    "    quicksort(combined, 0, len(combined) - 1)\n",
    "    return [item[1] for item in combined]\n",
    "\n",
    "# Test\n",
    "print(sort_tup_list([(2.4, 88, 2, \"bee:\"), (1, \"s\", None), (1, 1, 1, 1, 6), (1, 6.8)]))"
   ]
  },
  {
   "cell_type": "markdown",
   "id": "f9464a91",
   "metadata": {},
   "source": [
    "# Q4: Password Existence in File\n",
    "Implement a function that checks if a password exists using insertion sort and jump search."
   ]
  },
  {
   "cell_type": "code",
   "execution_count": null,
   "id": "f873f9ac",
   "metadata": {},
   "outputs": [],
   "source": [
    "import math\n",
    "\n",
    "def password_exists_in_file(filename, password):\n",
    "    lines = []\n",
    "    with open(filename, 'r') as f:\n",
    "        for i, line in enumerate(f, start=1):\n",
    "            lines.append([line.strip(), i])\n",
    "\n",
    "    for i in range(1, len(lines)):\n",
    "        key = lines[i]\n",
    "        j = i - 1\n",
    "        while j >= 0 and lines[j][0] > key[0]:\n",
    "            lines[j + 1] = lines[j]\n",
    "            j -= 1\n",
    "        lines[j + 1] = key\n",
    "\n",
    "    n = len(lines)\n",
    "    step = int(math.sqrt(n))\n",
    "    prev = 0\n",
    "\n",
    "    while prev < n and lines[min(step, n) - 1][0] < password:\n",
    "        prev = step\n",
    "        step += int(math.sqrt(n))\n",
    "        if prev >= n:\n",
    "            return False, -1\n",
    "\n",
    "    for i in range(prev, min(step, n)):\n",
    "        if lines[i][0] == password:\n",
    "            return True, lines[i][1]\n",
    "\n",
    "    return False, -1\n",
    "\n",
    "# Test (mocked as file interaction)\n",
    "# assert password_exists_in_file(\"passwords.txt\", 'f0adec04df23e2d4') == (True, 378)\n",
    "# assert password_exists_in_file(\"passwords.txt\", 'b0ad2c04d3c3e210') == (False, -1)"
   ]
  }
 ],
 "metadata": {},
 "nbformat": 4,
 "nbformat_minor": 5
}
