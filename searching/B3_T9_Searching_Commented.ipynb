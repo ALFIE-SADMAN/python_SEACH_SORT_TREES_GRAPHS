{
 "cells": [
  {
   "cell_type": "markdown",
   "metadata": {},
   "source": [
    "### Instructions:\n",
    "\n",
    "- You can attempt any number of questions and in any order.  \n",
    "  See the assignment page for a description of the hurdle requirement for this assessment.\n",
    "- You may submit your practical for autograding as many times as you like to check on progress, however you will save time by checking and testing your own code before submitting.\n",
    "- Develop and check your answers in the spaces provided.\n",
    "- **Replace** the code `raise NotImplementedError()` with your solution to the question.\n",
    "- Do **NOT** remove any variables other provided markings already provided in the answer spaces.\n",
    "- Do **NOT** make any changes to this notebook outside of the spaces indicated.  \n",
    "  (If you do this, the submission system might not accept your work)\n",
    "\n",
    "### Submitting:\n",
    "\n",
    "1. Before you turn this problem in, make sure everything runs as expected by resetting this notebook.    \n",
    "   (You can do this from the menubar above by selecting `Kernel`&#8594;`Restart Kernel and Run All Cells...`)\n",
    "1. Don't forget to save your notebook after this step.\n",
    "1. Submit your .ipynb file to Gradescope via file upload or GitHub repository.\n",
    "1. You can submit as many times as needed.\n",
    "1. You **must** give your submitted file the **identical** filename to that which you downloaded without changing **any** aspects - spaces, underscores, capitalisation etc. If your operating system has changed the filename because you downloaded the file twice or more you **must** also fix this.  \n",
    "\n"
   ]
  },
  {
   "cell_type": "markdown",
   "metadata": {},
   "source": [
    "---"
   ]
  },
  {
   "cell_type": "markdown",
   "metadata": {
    "tags": []
   },
   "source": [
    "# <mark style=\"background: #2dc26b; color: #ffffff;\" >&nbsp;B3&nbsp;</mark>&ensp;Topic 9: Searching\n"
   ]
  },
  {
   "cell_type": "code",
   "execution_count": 1,
   "metadata": {},
   "outputs": [],
   "source": [
    "from string import ascii_uppercase"
   ]
  },
  {
   "cell_type": "markdown",
   "metadata": {},
   "source": [
    "#### Question 01 &nbsp;&nbsp;&nbsp;&nbsp;&nbsp;&nbsp;(5 Points)\n",
    "\n",
    "Write a function defined as:\n",
    "```python\n",
    "def reverse_linear (un_list, match):\n",
    "```\n",
    "that performs a linear search on the list from the last element to the first returning the index of the first matching element as a tuple `(True, index)` or `(False, -1)` if not found.\n",
    "\n",
    "For example:\n",
    "```python\n",
    "reverse_linear ([7, 7], 7) # returns (True, 1)\n",
    "```"
   ]
  },
  {
   "cell_type": "code",
   "execution_count": 2,
   "metadata": {
    "deletable": false,
    "nbgrader": {
     "cell_type": "code",
     "checksum": "d9033e05da7eb91727253d5a2299257e",
     "grade": false,
     "grade_id": "q1",
     "locked": false,
     "schema_version": 3,
     "solution": true,
     "task": false
    },
    "tags": []
   },
   "outputs": [
    {
     "data": {
      "text/plain": [
       "((True, 1), (True, 0), (False, -1))"
      ]
     },
     "execution_count": 2,
     "metadata": {},
     "output_type": "execute_result"
    }
   ],
   "source": [
    "# ✅ Q1. Reverse linear search function implementation\n",
    "# Function definition starts here\n",
    "def reverse_linear(un_list, match):\n",
    "    \"\"\"\n",
    "    Performs a reverse linear search from end to start.\n",
    "\n",
    "    Parameters:\n",
    "    - un_list: list of elements to search\n",
    "    - match: element to search for\n",
    "\n",
    "    Returns:\n",
    "    - (True, index) if match is found\n",
    "    - (False, -1) otherwise\n",
    "    \"\"\"\n",
    "# Loop to iterate through a sequence\n",
    "    for i in range(len(un_list) - 1, -1, -1):  # loop from end to start\n",
    "# Conditional check\n",
    "        if un_list[i] == match:\n",
    "# Returning the result\n",
    "            return (True, i)\n",
    "# Returning the result\n",
    "    return (False, -1)\n",
    "\n",
    "# ✅ Test Cases\n",
    "test1 = reverse_linear([7, 7], 7)              # ➝ (True, 1)\n",
    "test2 = reverse_linear(['a', 'b', 'c'], 'a')   # ➝ (True, 0)\n",
    "test3 = reverse_linear(['a', 'b', 'c'], 'x')   # ➝ (False, -1)\n",
    "\n",
    "test1, test2, test3\n"
   ]
  },
  {
   "cell_type": "code",
   "execution_count": 3,
   "metadata": {
    "deletable": false,
    "editable": false,
    "nbgrader": {
     "cell_type": "code",
     "checksum": "bc699076e9c694f950ae7c014b30f6e1",
     "grade": true,
     "grade_id": "q1-reverse-linea",
     "locked": true,
     "points": 5,
     "schema_version": 3,
     "solution": false,
     "task": false
    },
    "tags": []
   },
   "outputs": [],
   "source": [
    "# Testing Cell (Do NOT modify this cell)"
   ]
  },
  {
   "cell_type": "markdown",
   "metadata": {},
   "source": [
    "#### Question 02 &nbsp;&nbsp;&nbsp;&nbsp;&nbsp;&nbsp;(5 Points)\n",
    "\n",
    "Write a function defined as:\n",
    "```python\n",
    "def weighted_binary_search (or_list, match):\n",
    "```\n",
    "that performs a **iterative binary search** on an ordered list of ints that returns the `index x value` (index multiplied by value) or `False` if the element is not found.\n",
    "\n",
    "For example:\n",
    "```python\n",
    "weighted_binary_search ([0, 3, 6], 6) == 12 # because (value) = 6 * (index) 2\n",
    "```"
   ]
  },
  {
   "cell_type": "code",
   "execution_count": 1,
   "metadata": {
    "deletable": false,
    "nbgrader": {
     "cell_type": "code",
     "checksum": "f4def7ca9d085c3f6c30536594ece005",
     "grade": false,
     "grade_id": "q2",
     "locked": false,
     "schema_version": 3,
     "solution": true,
     "task": false
    },
    "tags": []
   },
   "outputs": [],
   "source": [
    "# Function definition starts here\n",
    "def weighted_binary_search(sorted_list, match):\n",
    "    \"\"\"\n",
    "# Returning the result\n",
    "    Perform binary search and return match * index if found, else False.\n",
    "\n",
    "    Parameters:\n",
    "    - sorted_list (list): A sorted list of numbers.\n",
    "    - match (number): The target value to search for.\n",
    "\n",
    "    Returns:\n",
    "    - match * index if found\n",
    "    - False if not found\n",
    "    \"\"\"\n",
    "# Calculating the length of a list/string\n",
    "    low, high = 0, len(sorted_list) - 1\n",
    "\n",
    "# Loop continues as long as the condition is True\n",
    "    while low <= high:\n",
    "        mid = (low + high) // 2\n",
    "# Conditional check\n",
    "        if sorted_list[mid] == match:\n",
    "# Returning the result\n",
    "            return match * mid\n",
    "        elif match < sorted_list[mid]:\n",
    "            high = mid - 1\n",
    "        else:\n",
    "            low = mid + 1\n",
    "\n",
    "# Returning the result\n",
    "    return False\n"
   ]
  },
  {
   "cell_type": "code",
   "execution_count": 5,
   "metadata": {
    "deletable": false,
    "editable": false,
    "nbgrader": {
     "cell_type": "code",
     "checksum": "d9d9d27cb3776888c72e14d91b093209",
     "grade": true,
     "grade_id": "q2-weighted-binary",
     "locked": true,
     "points": 5,
     "schema_version": 3,
     "solution": false,
     "task": false
    },
    "tags": []
   },
   "outputs": [],
   "source": [
    "# Testing Cell (Do NOT modify this cell)"
   ]
  },
  {
   "cell_type": "markdown",
   "metadata": {},
   "source": [
    "#### Question 03 &nbsp;&nbsp;&nbsp;&nbsp;&nbsp;&nbsp;(10 Points)\n",
    "\n",
    "Write a function defined as:\n",
    "```python\n",
    "def num_matches_jump_search (or_list, match, jump = 1):\n",
    "```\n",
    "\n",
    "that implements a **jump search** that takes the size of the jump (`jump >= 1`) as an input parameter to find the value `match`. If that value is found, the function should then use linear search to discover all adjacent values that also match to the `match` parameter. The search should return the number of items in the ordered list that match the search value (rather than the index) or `False` if the item was not found.\n",
    "\n",
    "For example:\n",
    "```python\n",
    "num_matches_jump_search ([0, 2, 3, 5, 5, 6, 8, 11, 12, 12, 12], 5, 2) == 2\n",
    "```"
   ]
  },
  {
   "cell_type": "code",
   "execution_count": 23,
   "metadata": {
    "deletable": false,
    "nbgrader": {
     "cell_type": "code",
     "checksum": "8f301466336ea10ada1001b1aaa81e4f",
     "grade": false,
     "grade_id": "q3",
     "locked": false,
     "schema_version": 3,
     "solution": true,
     "task": false
    },
    "tags": []
   },
   "outputs": [],
   "source": [
    "\n",
    "# ✅ Q3. num_matches_jump_search\n",
    "import math\n",
    "\n",
    "# Function definition starts here\n",
    "def num_matches_jump_search(values, match):\n",
    "    \"\"\"\n",
    "# Checking membership in a list or string\n",
    "    Jump search to count how many times match appears in a sorted list.\n",
    "    \"\"\"\n",
    "# Calculating the length of a list/string\n",
    "    n = len(values)\n",
    "    step = int(math.sqrt(n))\n",
    "    prev = 0\n",
    "\n",
    "# Loop continues as long as the condition is True\n",
    "    while prev < n and values[min(n - 1, prev + step)] < match:\n",
    "        prev += step\n",
    "\n",
    "# Loop to iterate through a sequence\n",
    "    for i in range(prev, min(prev + step, n)):\n",
    "# Conditional check\n",
    "        if values[i] == match:\n",
    "            count = 0\n",
    "# Checking for equality\n",
    "            while i < n and values[i] == match:\n",
    "                count += 1\n",
    "                i += 1\n",
    "# Returning the result\n",
    "            return count\n",
    "# Returning the result\n",
    "    return 0"
   ]
  },
  {
   "cell_type": "code",
   "execution_count": 7,
   "metadata": {
    "deletable": false,
    "editable": false,
    "nbgrader": {
     "cell_type": "code",
     "checksum": "2cf033d94797c764a1bc48310ccc38b2",
     "grade": true,
     "grade_id": "q3-jump",
     "locked": true,
     "points": 10,
     "schema_version": 3,
     "solution": false,
     "task": false
    },
    "tags": []
   },
   "outputs": [],
   "source": [
    "# Testing Cell (Do NOT modify this cell)"
   ]
  },
  {
   "cell_type": "markdown",
   "metadata": {},
   "source": [
    "#### Question 04 &nbsp;&nbsp;&nbsp;&nbsp;&nbsp;&nbsp;(10 Points)\n",
    "\n",
    "Write a function defined as:\n",
    "```python\n",
    "def binary_search_tuples_by_second_value (tu_list,  match):\n",
    "```\n",
    "that implements a binary search to find the second element in a list of tuples sorted by the second value in the tuple returning the tuple found at the index of the first match or `False` when the match is not found.\n",
    "\n",
    "For example:\n",
    "```python\n",
    "# because the tuple (1,2) has '2' in the second position.\n",
    "binary_search_tuples_by_second_value ([(1,2),(1,4),(3,5),(5,7)], 2) == (1, 2)\n",
    "```"
   ]
  },
  {
   "cell_type": "code",
   "execution_count": 2,
   "metadata": {
    "deletable": false,
    "nbgrader": {
     "cell_type": "code",
     "checksum": "5ecefc6747e5b4c592e4ce57d69972de",
     "grade": false,
     "grade_id": "q4",
     "locked": false,
     "schema_version": 3,
     "solution": true,
     "task": false
    },
    "tags": []
   },
   "outputs": [],
   "source": [
    "# Function definition starts here\n",
    "def binary_search_tuples_by_second_value(data, match):\n",
    "    \"\"\"\n",
    "# Returning the result\n",
    "    Binary search for a tuple by second value, return the full tuple if found.\n",
    "    \"\"\"\n",
    "# Calculating the length of a list/string\n",
    "    low, high = 0, len(data) - 1\n",
    "# Loop continues as long as the condition is True\n",
    "    while low <= high:\n",
    "        mid = (low + high) // 2\n",
    "# Conditional check\n",
    "        if data[mid][1] == match:\n",
    "# Returning the result\n",
    "            return data[mid]\n",
    "        elif match < data[mid][1]:\n",
    "            high = mid - 1\n",
    "        else:\n",
    "            low = mid + 1\n",
    "# Returning the result\n",
    "    return None\n"
   ]
  },
  {
   "cell_type": "code",
   "execution_count": 9,
   "metadata": {
    "deletable": false,
    "editable": false,
    "nbgrader": {
     "cell_type": "code",
     "checksum": "327dc6a1b2fea1e465c06253b576b4b6",
     "grade": true,
     "grade_id": "q4-binary-tuples",
     "locked": true,
     "points": 10,
     "schema_version": 3,
     "solution": false,
     "task": false
    }
   },
   "outputs": [],
   "source": [
    "# Testing Cell (Do NOT modify this cell)"
   ]
  },
  {
   "cell_type": "markdown",
   "metadata": {},
   "source": [
    "#### Question 05 &nbsp;&nbsp;&nbsp;&nbsp;&nbsp;&nbsp;(10 Points)\n",
    "\n",
    "Write a function defined as: \n",
    "```python\n",
    "def search_float_with_tolerance (or_list, match, tolerance = 0.5):\n",
    "```\n",
    "that will accepts an ordered list of floats and a tolerance that performs a search of any type for a float and returns the first of any values that matches plus or minus the tolerance or returns `False` if no value is found within that tolerance such that:\n",
    "```python\n",
    "(match - tolerance) <= match <= (match + tolerance)\n",
    "````    "
   ]
  },
  {
   "cell_type": "code",
   "execution_count": 3,
   "metadata": {
    "deletable": false,
    "nbgrader": {
     "cell_type": "code",
     "checksum": "a663c2473284e39ae0b45b3a676ce2d5",
     "grade": false,
     "grade_id": "q5",
     "locked": false,
     "schema_version": 3,
     "solution": true,
     "task": false
    },
    "tags": []
   },
   "outputs": [],
   "source": [
    "# Function definition starts here\n",
    "def search_float_with_tolerance(data, match, tolerance):\n",
    "    \"\"\"\n",
    "# Checking membership in a list or string\n",
    "    Return the first float in the list within the given tolerance of match.\n",
    "    \"\"\"\n",
    "# Loop to iterate through a sequence\n",
    "    for val in data:\n",
    "# Conditional check\n",
    "        if abs(val - match) <= tolerance:\n",
    "# Returning the result\n",
    "            return val\n",
    "# Returning the result\n",
    "    return None\n"
   ]
  },
  {
   "cell_type": "code",
   "execution_count": 11,
   "metadata": {
    "deletable": false,
    "editable": false,
    "nbgrader": {
     "cell_type": "code",
     "checksum": "f17b1b982b44a59a1aa48e82144033fd",
     "grade": true,
     "grade_id": "q5-float-with-tolerance",
     "locked": true,
     "points": 10,
     "schema_version": 3,
     "solution": false,
     "task": false
    }
   },
   "outputs": [],
   "source": [
    "# Testing Cell (Do NOT modify this cell)"
   ]
  },
  {
   "cell_type": "markdown",
   "metadata": {},
   "source": [
    "#### Question 06 &nbsp;&nbsp;&nbsp;&nbsp;&nbsp;&nbsp;(10 Points)\n",
    "\n",
    "Write a function defined as:\n",
    "```python\n",
    "def search_num_matches (or_list, match):\n",
    "```\n",
    "that implements a search of any type on ordered data and returns the number of elements that match a value or False if no match is found. For a non-linear search, attempt to find a first match and then search linearly forwards and backwards in the list from the initial match or adopt your own hybrid approach.\n"
   ]
  },
  {
   "cell_type": "code",
   "execution_count": 4,
   "metadata": {
    "deletable": false,
    "nbgrader": {
     "cell_type": "code",
     "checksum": "169c01de6c7d320cb5e06d09d7357ae3",
     "grade": false,
     "grade_id": "q6",
     "locked": false,
     "schema_version": 3,
     "solution": true,
     "task": false
    },
    "tags": []
   },
   "outputs": [],
   "source": [
    "# Function definition starts here\n",
    "def search_num_matches(data, match):\n",
    "    \"\"\"\n",
    "# Checking membership in a list or string\n",
    "    Return the number of times `match` appears in the list.\n",
    "    \"\"\"\n",
    "# Returning the result\n",
    "    return data.count(match)\n"
   ]
  },
  {
   "cell_type": "code",
   "execution_count": 13,
   "metadata": {
    "deletable": false,
    "editable": false,
    "nbgrader": {
     "cell_type": "code",
     "checksum": "9667713ffcfd32ce4bc254f129e3e492",
     "grade": true,
     "grade_id": "q6-num-matches",
     "locked": true,
     "points": 10,
     "schema_version": 3,
     "solution": false,
     "task": false
    },
    "tags": []
   },
   "outputs": [],
   "source": [
    "# Testing Cell (Do NOT modify this cell)"
   ]
  },
  {
   "cell_type": "markdown",
   "metadata": {},
   "source": [
    "#### Question 07 &nbsp;&nbsp;&nbsp;&nbsp;&nbsp;&nbsp;(10 Points)\n",
    "\n",
    "Write a function defined as:\n",
    "```python\n",
    "def binary_search_for_string (filename, match):\n",
    "```\n",
    "that reads a file consisting of an ordered list of fruit and vegetables (one per line, including some space separated values) and uses a **binary search** to return a tuple `(True, line_number)` if the `match` string exactly matches one line (excluding EOL) and `(False, -1)` otherwise. A file of test data, `fruit-and-veg.txt` is available from the MyUni assignment page for this practical."
   ]
  },
  {
   "cell_type": "code",
   "execution_count": 14,
   "metadata": {
    "deletable": false,
    "nbgrader": {
     "cell_type": "code",
     "checksum": "d6cb851dd0a979be002cfde30ff3bca8",
     "grade": false,
     "grade_id": "q7",
     "locked": false,
     "schema_version": 3,
     "solution": true,
     "task": false
    },
    "tags": []
   },
   "outputs": [
    {
     "data": {
      "text/plain": [
       "((True, 122), (True, 9), (True, 93), (False, -1))"
      ]
     },
     "execution_count": 14,
     "metadata": {},
     "output_type": "execute_result"
    }
   ],
   "source": [
    "# ✅ Q7 (Revised). Binary search for a string from a sorted file\n",
    "# Function definition starts here\n",
    "def binary_search_for_string(filename, match):\n",
    "    \"\"\"\n",
    "    Performs binary search for a string inside a sorted file (one item per line).\n",
    "\n",
    "    Parameters:\n",
    "    - filename: path to the sorted file\n",
    "    - match: string to search for\n",
    "\n",
    "    Returns:\n",
    "    - (True, index) if found\n",
    "    - (False, -1) if not found\n",
    "    \"\"\"\n",
    "    with open(filename, \"r\") as file:\n",
    "        lines = [line.strip() for line in file if line.strip()]\n",
    "\n",
    "    low = 0\n",
    "# Calculating the length of a list/string\n",
    "    high = len(lines) - 1\n",
    "\n",
    "# Loop continues as long as the condition is True\n",
    "    while low <= high:\n",
    "        mid = (low + high) // 2\n",
    "# Conditional check\n",
    "        if lines[mid] == match:\n",
    "# Returning the result\n",
    "            return (True, mid)\n",
    "        elif match < lines[mid]:\n",
    "            high = mid - 1\n",
    "        else:\n",
    "            low = mid + 1\n",
    "\n",
    "# Returning the result\n",
    "    return (False, -1)\n",
    "\n",
    "# ✅ Test the function with existing file\n",
    "test1 = binary_search_for_string(\"fruit-and-veg.txt\", \"Tomato\")     # should be found\n",
    "test2 = binary_search_for_string(\"fruit-and-veg.txt\", \"Banana\")     # should be found\n",
    "test3 = binary_search_for_string(\"fruit-and-veg.txt\", \"Pineapple\")  # should be found\n",
    "test4 = binary_search_for_string(\"fruit-and-veg.txt\", \"Dragonfruit\")# should NOT be found\n",
    "\n",
    "test1, test2, test3, test4\n"
   ]
  },
  {
   "cell_type": "code",
   "execution_count": 15,
   "metadata": {
    "deletable": false,
    "editable": false,
    "nbgrader": {
     "cell_type": "code",
     "checksum": "591305cab19e5226c24686a56aade7e6",
     "grade": true,
     "grade_id": "q7-binary-for-string",
     "locked": true,
     "points": 10,
     "schema_version": 3,
     "solution": false,
     "task": false
    }
   },
   "outputs": [],
   "source": [
    "# Testing Cell (Do NOT modify this cell)"
   ]
  },
  {
   "cell_type": "markdown",
   "metadata": {},
   "source": [
    "#### Question 08 &nbsp;&nbsp;&nbsp;&nbsp;&nbsp;&nbsp;(10 Points)\n",
    "\n",
    "Write a function defined as:\n",
    "```python\n",
    "def linear_interpolate_index (slist, match_value, low_index, high_index):\n",
    "```\n",
    "that takes an ordered list of ascending numbers and a desired 'match'  value to search for in the list. \n",
    "\n",
    "The partition of interest in the list is defined by the index of the low and high values in the list. The function uses linear interpolation between `slist[high]` and `slist[low]` to return the index to try interpolation searching for the match value or `None` if the desired match falls outside the range `slist[low]` to `slist[high-1)]`.\n",
    "\n",
    "For example, a call to `linear_interpolate_index(list(range(0, 20, 2)), 6, 0, 9)` would return an index value of `3`."
   ]
  },
  {
   "cell_type": "code",
   "execution_count": 5,
   "metadata": {
    "deletable": false,
    "nbgrader": {
     "cell_type": "code",
     "checksum": "4a808879b1bfa21f76407e41cc3af64d",
     "grade": false,
     "grade_id": "q8",
     "locked": false,
     "schema_version": 3,
     "solution": true,
     "task": false
    },
    "tags": []
   },
   "outputs": [],
   "source": [
    "# Function definition starts here\n",
    "def linear_interpolate_index(slist, match_value, low_index, high_index):\n",
    "    \"\"\"\n",
    "    Return interpolated index of match_value, or None if out of bounds.\n",
    "    \"\"\"\n",
    "# Conditional check\n",
    "    if not (0 <= low_index < len(slist)) or not (0 <= high_index < len(slist)):\n",
    "# Returning the result\n",
    "        return None\n",
    "\n",
    "    low_value = slist[low_index]\n",
    "    high_value = slist[high_index]\n",
    "\n",
    "# Conditional check\n",
    "    if high_value == low_value or match_value < low_value or match_value > high_value:\n",
    "# Returning the result\n",
    "        return None\n",
    "\n",
    "    proportion = (match_value - low_value) / (high_value - low_value)\n",
    "    estimated_index = low_index + int(proportion * (high_index - low_index))\n",
    "\n",
    "# Checking membership in a list or string\n",
    "    # Clamp within bounds\n",
    "# Conditional check\n",
    "    if estimated_index < low_index or estimated_index > high_index:\n",
    "# Returning the result\n",
    "        return None\n",
    "\n",
    "# Returning the result\n",
    "    return estimated_index\n"
   ]
  },
  {
   "cell_type": "code",
   "execution_count": 17,
   "metadata": {
    "deletable": false,
    "editable": false,
    "nbgrader": {
     "cell_type": "code",
     "checksum": "bc329668d29993130aac97355d31e2f0",
     "grade": true,
     "grade_id": "q8-interpolate",
     "locked": true,
     "points": 10,
     "schema_version": 3,
     "solution": false,
     "task": false
    }
   },
   "outputs": [],
   "source": [
    "# Testing Cell (Do NOT modify this cell)"
   ]
  },
  {
   "cell_type": "markdown",
   "metadata": {
    "tags": []
   },
   "source": [
    "#### Question 09 &nbsp;&nbsp;&nbsp;&nbsp;&nbsp;&nbsp;(15 Points)\n",
    "\n",
    "Write a function defined as:\n",
    "```python\n",
    "def interpolate_sort_and_search (filename, integer_match):\n",
    "```\n",
    "that loads a file of unordered floats and:\n",
    "- sorts the file contents using a quicksort with random partition scheme,\n",
    "- uses the function `linear_interpolate_index` in Question 8 to perform an interpolation search (or any other linear interpolation approach if you have not yet completed Question 8),\n",
    "- searches the contents of the file for a number where the whole number portion of the float matches the parameter `integer_match`,\n",
    "- returns a tuple `(True, line_number)` where `line_number` is the line number of the match in the file *prior to sorting* or `(False, -1)` depending if the search was unsuccessful.\n",
    "Sample test data is available as a text file, `random-floats.txt` from the MyUni assignment page for this practical."
   ]
  },
  {
   "cell_type": "code",
   "execution_count": 18,
   "metadata": {
    "deletable": false,
    "nbgrader": {
     "cell_type": "code",
     "checksum": "0b0341bf87fe1946fa5825abf98854fd",
     "grade": false,
     "grade_id": "q9",
     "locked": false,
     "schema_version": 3,
     "solution": true,
     "task": false
    },
    "tags": []
   },
   "outputs": [
    {
     "data": {
      "text/plain": [
       "(True, 22)"
      ]
     },
     "execution_count": 18,
     "metadata": {},
     "output_type": "execute_result"
    }
   ],
   "source": [
    "import random\n",
    "\n",
    "# ✅ Helper: Quicksort with random pivot for sorting float-index pairs\n",
    "# Function definition starts here\n",
    "def quicksort_with_index(arr):\n",
    "# Conditional check\n",
    "    if len(arr) <= 1:\n",
    "# Returning the result\n",
    "        return arr\n",
    "    pivot = random.choice(arr)\n",
    "    less = [x for x in arr if x[0] < pivot[0]]\n",
    "    equal = [x for x in arr if x[0] == pivot[0]]\n",
    "    greater = [x for x in arr if x[0] > pivot[0]]\n",
    "# Returning the result\n",
    "    return quicksort_with_index(less) + equal + quicksort_with_index(greater)\n",
    "\n",
    "# ✅ Q9. Full implementation\n",
    "# Function definition starts here\n",
    "def interpolate_sort_and_search(filename, integer_match):\n",
    "    # Step 1: Load floats with original index\n",
    "    with open(filename, \"r\") as file:\n",
    "        raw_lines = file.readlines()\n",
    "    \n",
    "    float_data = [(float(value.strip()), idx) for idx, value in enumerate(raw_lines) if value.strip()]\n",
    "\n",
    "    # Step 2: Sort using quicksort with random pivot\n",
    "    sorted_data = quicksort_with_index(float_data)\n",
    "    sorted_floats = [val for val, _ in sorted_data]\n",
    "\n",
    "    # Step 3: Use linear interpolation to estimate index\n",
    "    low_index = 0\n",
    "# Calculating the length of a list/string\n",
    "    high_index = len(sorted_floats) - 1\n",
    "\n",
    "    estimated_index = linear_interpolate_index(sorted_floats, integer_match, low_index, high_index)\n",
    "\n",
    "# Conditional check\n",
    "    if estimated_index is None:\n",
    "# Returning the result\n",
    "        return (False, -1)\n",
    "\n",
    "    # Step 4: Check estimated index and scan outward for matching int portion\n",
    "# Calculating the length of a list/string\n",
    "    search_indices = list(range(estimated_index, len(sorted_floats))) + list(range(estimated_index - 1, -1, -1))\n",
    "\n",
    "# Loop to iterate through a sequence\n",
    "    for i in search_indices:\n",
    "        val, original_index = sorted_data[i]\n",
    "# Conditional check\n",
    "        if int(val) == integer_match:\n",
    "# Returning the result\n",
    "            return (True, original_index)\n",
    "\n",
    "# Returning the result\n",
    "    return (False, -1)\n",
    "\n",
    "# ✅ Try it with the uploaded random-floats.txt file\n",
    "interpolate_sort_and_search(\"random-floats.txt\", 10)  # Should find a float like 10.5 or 10.9\n"
   ]
  },
  {
   "cell_type": "code",
   "execution_count": 19,
   "metadata": {
    "deletable": false,
    "editable": false,
    "nbgrader": {
     "cell_type": "code",
     "checksum": "db294c4cb3ff7eef7bff10a702c57d0a",
     "grade": true,
     "grade_id": "q9-sort-and-search",
     "locked": true,
     "points": 15,
     "schema_version": 3,
     "solution": false,
     "task": false
    }
   },
   "outputs": [],
   "source": [
    "# Testing Cell (Do NOT modify this cell)"
   ]
  },
  {
   "cell_type": "markdown",
   "metadata": {},
   "source": [
    "#### Question 10 &nbsp;&nbsp;&nbsp;&nbsp;&nbsp;&nbsp;(15 Points)\n",
    "\n",
    "Following on from Question 09, write a function defined as:\n",
    "```python\n",
    "def binary_sort_and_search (filename, integer_match):\n",
    "```\n",
    "that loads the same file of unordered floats and:\n",
    "- sorts the file contents using a bubble scheme,\n",
    "- uses a binary search for a number where the whole number portion of the float matches the parameter `integer_match`,\n",
    "- returns a tuple `(True, line_number)` where `line_number` is the line number of the match in the file *prior to sorting* or `(False, -1)` depending if the search was unsuccessful."
   ]
  },
  {
   "cell_type": "code",
   "execution_count": 20,
   "metadata": {
    "deletable": false,
    "nbgrader": {
     "cell_type": "code",
     "checksum": "6855c48ed383741c6dfc96cbc4eec405",
     "grade": false,
     "grade_id": "q10",
     "locked": false,
     "schema_version": 3,
     "solution": true,
     "task": false
    },
    "tags": []
   },
   "outputs": [
    {
     "data": {
      "text/plain": [
       "(True, 35)"
      ]
     },
     "execution_count": 20,
     "metadata": {},
     "output_type": "execute_result"
    }
   ],
   "source": [
    "# ✅ Helper: Bubble sort implementation (in-place)\n",
    "# Function definition starts here\n",
    "def bubble_sort_with_index(arr):\n",
    "# Calculating the length of a list/string\n",
    "    n = len(arr)\n",
    "    arr = arr.copy()  # avoid modifying original list\n",
    "# Loop to iterate through a sequence\n",
    "    for i in range(n):\n",
    "# Loop to iterate through a sequence\n",
    "        for j in range(0, n - i - 1):\n",
    "# Conditional check\n",
    "            if arr[j][0] > arr[j + 1][0]:\n",
    "                arr[j], arr[j + 1] = arr[j + 1], arr[j]\n",
    "# Returning the result\n",
    "    return arr\n",
    "\n",
    "# ✅ Q10. Final function\n",
    "# Function definition starts here\n",
    "def binary_sort_and_search(filename, integer_match):\n",
    "    # Step 1: Load data with original index\n",
    "    with open(filename, \"r\") as file:\n",
    "        lines = file.readlines()\n",
    "    float_data = [(float(line.strip()), idx) for idx, line in enumerate(lines) if line.strip()]\n",
    "\n",
    "    # Step 2: Sort using bubble sort\n",
    "    sorted_data = bubble_sort_with_index(float_data)\n",
    "    sorted_floats = [val for val, _ in sorted_data]\n",
    "\n",
    "# Checking for equality\n",
    "    # Step 3: Binary search for int(value) == integer_match\n",
    "    low = 0\n",
    "# Calculating the length of a list/string\n",
    "    high = len(sorted_floats) - 1\n",
    "\n",
    "# Loop continues as long as the condition is True\n",
    "    while low <= high:\n",
    "        mid = (low + high) // 2\n",
    "        val, original_index = sorted_data[mid]\n",
    "        val_int = int(val)\n",
    "\n",
    "# Conditional check\n",
    "        if val_int == integer_match:\n",
    "# Returning the result\n",
    "            return (True, original_index)\n",
    "        elif integer_match < val_int:\n",
    "            high = mid - 1\n",
    "        else:\n",
    "            low = mid + 1\n",
    "\n",
    "# Returning the result\n",
    "    return (False, -1)\n",
    "\n",
    "# ✅ Test with random-floats.txt for integer_match = 10\n",
    "binary_sort_and_search(\"random-floats.txt\", 10)\n"
   ]
  },
  {
   "cell_type": "code",
   "execution_count": 21,
   "metadata": {
    "deletable": false,
    "editable": false,
    "nbgrader": {
     "cell_type": "code",
     "checksum": "a69eec620ac762584bd81579dcfb7cf8",
     "grade": true,
     "grade_id": "q10-binary-sort-and-search",
     "locked": true,
     "points": 15,
     "schema_version": 3,
     "solution": false,
     "task": false
    },
    "tags": []
   },
   "outputs": [],
   "source": [
    "# Testing Cell (Do NOT modify this cell)"
   ]
  }
 ],
 "metadata": {
  "kernelspec": {
   "display_name": "first_test",
   "language": "python",
   "name": "python3"
  },
  "language_info": {
   "codemirror_mode": {
    "name": "ipython",
    "version": 3
   },
   "file_extension": ".py",
   "mimetype": "text/x-python",
   "name": "python",
   "nbconvert_exporter": "python",
   "pygments_lexer": "ipython3",
   "version": "3.10.13"
  },
  "otter": {
   "tests": {
    "q1": {
     "name": "q1",
     "points": 1,
     "suites": [
      {
       "cases": [],
       "scored": true,
       "setup": "",
       "teardown": "",
       "type": "doctest"
      }
     ]
    },
    "q10": {
     "name": "q10",
     "points": 4,
     "suites": [
      {
       "cases": [],
       "scored": true,
       "setup": "",
       "teardown": "",
       "type": "doctest"
      }
     ]
    },
    "q11": {
     "name": "q11",
     "points": 6,
     "suites": [
      {
       "cases": [],
       "scored": true,
       "setup": "",
       "teardown": "",
       "type": "doctest"
      }
     ]
    },
    "q12": {
     "name": "q12",
     "points": 6,
     "suites": [
      {
       "cases": [],
       "scored": true,
       "setup": "",
       "teardown": "",
       "type": "doctest"
      }
     ]
    },
    "q13": {
     "name": "q13",
     "points": 6,
     "suites": [
      {
       "cases": [],
       "scored": true,
       "setup": "",
       "teardown": "",
       "type": "doctest"
      }
     ]
    },
    "q14": {
     "name": "q14",
     "points": 6,
     "suites": [
      {
       "cases": [],
       "scored": true,
       "setup": "",
       "teardown": "",
       "type": "doctest"
      }
     ]
    },
    "q15": {
     "name": "q15",
     "points": 6,
     "suites": [
      {
       "cases": [],
       "scored": true,
       "setup": "",
       "teardown": "",
       "type": "doctest"
      }
     ]
    },
    "q16": {
     "name": "q16",
     "points": 6,
     "suites": [
      {
       "cases": [],
       "scored": true,
       "setup": "",
       "teardown": "",
       "type": "doctest"
      }
     ]
    },
    "q17": {
     "name": "q17",
     "points": 8,
     "suites": [
      {
       "cases": [],
       "scored": true,
       "setup": "",
       "teardown": "",
       "type": "doctest"
      }
     ]
    },
    "q18": {
     "name": "q18",
     "points": 8,
     "suites": [
      {
       "cases": [],
       "scored": true,
       "setup": "",
       "teardown": "",
       "type": "doctest"
      }
     ]
    },
    "q19": {
     "name": "q19",
     "points": 12,
     "suites": [
      {
       "cases": [],
       "scored": true,
       "setup": "",
       "teardown": "",
       "type": "doctest"
      }
     ]
    },
    "q2": {
     "name": "q2",
     "points": 1,
     "suites": [
      {
       "cases": [],
       "scored": true,
       "setup": "",
       "teardown": "",
       "type": "doctest"
      }
     ]
    },
    "q20": {
     "name": "q20",
     "points": 12,
     "suites": [
      {
       "cases": [],
       "scored": true,
       "setup": "",
       "teardown": "",
       "type": "doctest"
      }
     ]
    },
    "q3": {
     "name": "q3",
     "points": 1,
     "suites": [
      {
       "cases": [],
       "scored": true,
       "setup": "",
       "teardown": "",
       "type": "doctest"
      }
     ]
    },
    "q4": {
     "name": "q4",
     "points": 1,
     "suites": [
      {
       "cases": [],
       "scored": true,
       "setup": "",
       "teardown": "",
       "type": "doctest"
      }
     ]
    },
    "q5": {
     "name": "q5",
     "points": 2,
     "suites": [
      {
       "cases": [],
       "scored": true,
       "setup": "",
       "teardown": "",
       "type": "doctest"
      }
     ]
    },
    "q6": {
     "name": "q6",
     "points": 2,
     "suites": [
      {
       "cases": [],
       "scored": true,
       "setup": "",
       "teardown": "",
       "type": "doctest"
      }
     ]
    },
    "q7": {
     "name": "q7",
     "points": 4,
     "suites": [
      {
       "cases": [],
       "scored": true,
       "setup": "",
       "teardown": "",
       "type": "doctest"
      }
     ]
    },
    "q8": {
     "name": "q8",
     "points": 4,
     "suites": [
      {
       "cases": [],
       "scored": true,
       "setup": "",
       "teardown": "",
       "type": "doctest"
      }
     ]
    },
    "q9": {
     "name": "q9",
     "points": 4,
     "suites": [
      {
       "cases": [],
       "scored": true,
       "setup": "",
       "teardown": "",
       "type": "doctest"
      }
     ]
    }
   }
  },
  "varInspector": {
   "cols": {
    "lenName": 16,
    "lenType": 16,
    "lenVar": 40
   },
   "kernels_config": {
    "python": {
     "delete_cmd_postfix": "",
     "delete_cmd_prefix": "del ",
     "library": "var_list.py",
     "varRefreshCmd": "print(var_dic_list())"
    },
    "r": {
     "delete_cmd_postfix": ") ",
     "delete_cmd_prefix": "rm(",
     "library": "var_list.r",
     "varRefreshCmd": "cat(var_dic_list()) "
    }
   },
   "types_to_exclude": [
    "module",
    "function",
    "builtin_function_or_method",
    "instance",
    "_Feature"
   ],
   "window_display": false
  }
 },
 "nbformat": 4,
 "nbformat_minor": 4
}
