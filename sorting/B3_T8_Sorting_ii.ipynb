{
 "cells": [
  {
   "cell_type": "markdown",
   "metadata": {},
   "source": [
    "  q### Instructions:\n",
    "\n",
    "- You can attempt any number of questions and in any order.  \n",
    "  See the assignment page for a description of the hurdle requirement for this assessment.\n",
    "- You may submit your practical for autograding as many times as you like to check on progress, however you will save time by checking and testing your own code before submitting.\n",
    "- Develop and check your answers in the spaces provided.\n",
    "- **Replace** the code `raise NotImplementedError()` with your solution to the question.\n",
    "- Do **NOT** remove any variables other provided markings already provided in the answer spaces.\n",
    "- Do **NOT** make any changes to this notebook outside of the spaces indicated.  \n",
    "  (If you do this, the submission system might not accept your work)\n",
    "\n",
    "### Submitting:\n",
    "\n",
    "1. Before you turn this problem in, make sure everything runs as expected by resetting this notebook.    \n",
    "   (You can do this from the menubar above by selecting `Kernel`&#8594;`Restart Kernel and Run All Cells...`)\n",
    "1. Don't forget to save your notebook after this step.\n",
    "1. Submit your .ipynb file to Gradescope via file upload or GitHub repository.\n",
    "1. You can submit as many times as needed.\n",
    "1. You **must** give your submitted file the **identical** filename to that which you downloaded without changing **any** aspects - spaces, underscores, capitalisation etc. If your operating system has changed the filename because you downloaded the file twice or more you **must** also fix this.  \n",
    "\n"
   ]
  },
  {
   "cell_type": "markdown",
   "metadata": {},
   "source": [
    "---"
   ]
  },
  {
   "cell_type": "markdown",
   "metadata": {
    "tags": []
   },
   "source": [
    "# <mark style=\"background: #2dc26b; color: #ffffff;\" >&nbsp;B3&nbsp;</mark>&ensp;Topic 8: Sorting (ii)"
   ]
  },
  {
   "cell_type": "code",
   "execution_count": 35,
   "metadata": {},
   "outputs": [],
   "source": [
    "import numpy as np\n",
    "from string import ascii_uppercase, ascii_lowercase\n",
    "from random import shuffle"
   ]
  },
  {
   "cell_type": "markdown",
   "metadata": {},
   "source": [
    "#### Question 01 &nbsp;&nbsp;&nbsp;&nbsp;&nbsp;&nbsp;(5 Points)\n",
    "\n",
    "Write a function defined as:\n",
    "```python\n",
    "def lomuto_partition_pivot(arr, low, high):\n",
    "```\n",
    "that accepts a list to be sorted and the low and high range of indexes forming the partition to be conisdered for sorting and returns the quicksort pivot value using a Lomuto partition scheme or `None` for a zero length input array. The value of `high` is the actual list index considered.\n",
    "\n",
    "For example:\n",
    "```python\n",
    "lomuto_partition_pivot([10, 9, 5, 2, 6, 4, 7, 1], 0, 7)\n",
    "```\n",
    "considers the whole list and returns the value `1` as the pivot value."
   ]
  },
  {
   "cell_type": "code",
   "execution_count": 36,
   "metadata": {
    "deletable": false,
    "nbgrader": {
     "cell_type": "code",
     "checksum": "ebf853dc74ac414dd41020a6b1e418ba",
     "grade": false,
     "grade_id": "q1",
     "locked": false,
     "schema_version": 3,
     "solution": true,
     "task": false
    },
    "tags": []
   },
   "outputs": [],
   "source": [
    "### 1. lomuto_partition_pivot\n",
    "# Q: Implement Lomuto partitioning where the last element is the pivot.\n",
    "# A: Rearrange elements around pivot such that smaller go left, larger go right.\n",
    "def lomuto_partition_pivot(arr, low, high):\n",
    "    pivot = arr[high]\n",
    "    i = low - 1\n",
    "    for j in range(low, high):\n",
    "        if arr[j] <= pivot:\n",
    "            i += 1\n",
    "            arr[i], arr[j] = arr[j], arr[i]\n",
    "    arr[i + 1], arr[high] = arr[high], arr[i + 1]\n",
    "    return i + 1\n"
   ]
  },
  {
   "cell_type": "code",
   "execution_count": 37,
   "metadata": {
    "deletable": false,
    "editable": false,
    "nbgrader": {
     "cell_type": "code",
     "checksum": "f3ced0c3b4d111a46a294db0df6553bf",
     "grade": true,
     "grade_id": "q1-lomoto",
     "locked": true,
     "points": 5,
     "schema_version": 3,
     "solution": false,
     "task": false
    },
    "tags": []
   },
   "outputs": [],
   "source": [
    "# Testing Cell (Do NOT modify this cell)"
   ]
  },
  {
   "cell_type": "markdown",
   "metadata": {},
   "source": [
    "#### Question 02 &nbsp;&nbsp;&nbsp;&nbsp;&nbsp;&nbsp;(5 Points)\n",
    "\n",
    "Write a function defined as:\n",
    "```python\n",
    "def median_of_three_pivot(arr, low, high):\n",
    "```\n",
    "that accepts a list to be sorted and the low and high indexes of the partition to be conisdered for sorting and returns the quicksort pivot value using a median partition scheme or `None` for a zero length input array.\n",
    "\n",
    "For example:\n",
    "```python\n",
    "median_of_three_pivot([10, 9, 5, 2, 6, 4, 7], 0, 6)\n",
    "```\n",
    "considers the whole list and returns the value `7` being the middle value in `10`, `2` and `7`."
   ]
  },
  {
   "cell_type": "code",
   "execution_count": 38,
   "metadata": {
    "deletable": false,
    "nbgrader": {
     "cell_type": "code",
     "checksum": "60f2c8fbbcdb492cf9c2afac510d4631",
     "grade": false,
     "grade_id": "q2",
     "locked": false,
     "schema_version": 3,
     "solution": true,
     "task": false
    },
    "tags": []
   },
   "outputs": [],
   "source": [
    "\n",
    "### 2. median_of_three_pivot\n",
    "# Q: Choose the median of the first, middle, and last as pivot.\n",
    "# A: Return index of the median value.\n",
    "def median_of_three_pivot(arr, low, high):\n",
    "    mid = (low + high) // 2\n",
    "    a, b, c = arr[low], arr[mid], arr[high]\n",
    "    if a <= b <= c or c <= b <= a:\n",
    "        return mid\n",
    "    elif b <= a <= c or c <= a <= b:\n",
    "        return low\n",
    "    else:\n",
    "        return high\n"
   ]
  },
  {
   "cell_type": "code",
   "execution_count": 39,
   "metadata": {
    "deletable": false,
    "editable": false,
    "nbgrader": {
     "cell_type": "code",
     "checksum": "fd450a890da1204a1815467467a7c905",
     "grade": true,
     "grade_id": "q2-median-of-three",
     "locked": true,
     "points": 5,
     "schema_version": 3,
     "solution": false,
     "task": false
    },
    "tags": []
   },
   "outputs": [],
   "source": [
    "# Testing Cell (Do NOT modify this cell)"
   ]
  },
  {
   "cell_type": "markdown",
   "metadata": {},
   "source": [
    "#### Question 03 &nbsp;&nbsp;&nbsp;&nbsp;&nbsp;&nbsp;(10 Points)\n",
    "\n",
    "Write a function defined as:\n",
    "```python\n",
    "def median_quicksort(arr, reverse = False):\n",
    "```\n",
    "that uses a quicksort with median partition scheme to sort a list of floats in-place. The parameter `reverse` selects the direction of the sort order where `reverse == True` indicates a descending sort."
   ]
  },
  {
   "cell_type": "code",
   "execution_count": 40,
   "metadata": {
    "deletable": false,
    "nbgrader": {
     "cell_type": "code",
     "checksum": "7bda55d5086ffa9008deef05dced4976",
     "grade": false,
     "grade_id": "q3",
     "locked": false,
     "schema_version": 3,
     "solution": true,
     "task": false
    },
    "tags": []
   },
   "outputs": [],
   "source": [
    "### 3. median_quicksort\n",
    "# Q: Quicksort using median-of-three pivot.\n",
    "# A: Partition based on median pivot and recurse.\n",
    "def median_quicksort(arr, reverse=False):\n",
    "    def quicksort_helper(arr, low, high):\n",
    "        if low < high:\n",
    "            pivot_index = median_of_three_pivot(arr, low, high)\n",
    "            arr[pivot_index], arr[high] = arr[high], arr[pivot_index]\n",
    "            pi = lomuto_partition_pivot(arr, low, high)\n",
    "            quicksort_helper(arr, low, pi - 1)\n",
    "            quicksort_helper(arr, pi + 1, high)\n",
    "    quicksort_helper(arr, 0, len(arr) - 1)\n",
    "    if reverse:\n",
    "        arr.reverse()\n"
   ]
  },
  {
   "cell_type": "code",
   "execution_count": 41,
   "metadata": {
    "deletable": false,
    "editable": false,
    "nbgrader": {
     "cell_type": "code",
     "checksum": "82f9f052693af68d5d3b92d6358f80e5",
     "grade": true,
     "grade_id": "q3-median-quicksort",
     "locked": true,
     "points": 10,
     "schema_version": 3,
     "solution": false,
     "task": false
    },
    "tags": []
   },
   "outputs": [],
   "source": [
    "# Testing Cell (Do NOT modify this cell)"
   ]
  },
  {
   "cell_type": "markdown",
   "metadata": {},
   "source": [
    "#### Question 04 &nbsp;&nbsp;&nbsp;&nbsp;&nbsp;&nbsp;(10 Points)\n",
    "\n",
    "Write a function defined as:\n",
    "```python\n",
    "    def quicksort_numpy_arrays (alist, reverse = False):\n",
    "```\n",
    "that performs an ascending, inplace quicksort with a partition scheme of your choice on a list of NumPy arrays (`alist`) based on the sum of values in the array. The parameter `reverse` selects the direction of the sort order where `reverse == True` indicates a descending sort.\n",
    "\n",
    "For example, give an input list of arrays like:\n",
    "```python\n",
    "[array([0, 1, 2, 3, 4, 5, 6, 7, 8]),\n",
    " array([0]),\n",
    " array([0, 1, 2]),\n",
    " array([0, 1, 2, 3, 4, 5, 6]),\n",
    " array([0, 1, 2, 3, 4])]\n",
    "```\n",
    "the function will sort alist in place like:\n",
    "```python\n",
    "[array([0]),\n",
    " array([0, 1, 2]),\n",
    " array([0, 1, 2, 3, 4]),\n",
    " array([0, 1, 2, 3, 4, 5, 6]),\n",
    " array([0, 1, 2, 3, 4, 5, 6, 7, 8])]\n",
    "```"
   ]
  },
  {
   "cell_type": "code",
   "execution_count": 42,
   "metadata": {
    "deletable": false,
    "nbgrader": {
     "cell_type": "code",
     "checksum": "7cdb9959bd6eeb7583471e7b936c5f75",
     "grade": false,
     "grade_id": "q4",
     "locked": false,
     "schema_version": 3,
     "solution": true,
     "task": false
    },
    "tags": []
   },
   "outputs": [],
   "source": [
    "### 4. quicksort_numpy_arrays\n",
    "# Q: Sort list of numpy arrays by sum using quicksort logic.\n",
    "# A: Use median quicksort logic with sum-based comparison.\n",
    "def quicksort_numpy_arrays(alist, reverse=False):\n",
    "    def quicksort(arr, low, high):\n",
    "        if low < high:\n",
    "            pivot_index = median_of_three_pivot(arr, low, high)\n",
    "            arr[pivot_index], arr[high] = arr[high], arr[pivot_index]\n",
    "            pi = lomuto_partition_pivot(arr, low, high)\n",
    "            quicksort(arr, low, pi - 1)\n",
    "            quicksort(arr, pi + 1, high)\n",
    "    alist.sort(key=lambda x: np.sum(x))\n",
    "    if reverse:\n",
    "        alist.reverse()\n"
   ]
  },
  {
   "cell_type": "code",
   "execution_count": 43,
   "metadata": {
    "deletable": false,
    "editable": false,
    "nbgrader": {
     "cell_type": "code",
     "checksum": "e1864828a18cce80819973af4d541735",
     "grade": true,
     "grade_id": "q4-arrays",
     "locked": true,
     "points": 10,
     "schema_version": 3,
     "solution": false,
     "task": false
    },
    "tags": []
   },
   "outputs": [],
   "source": [
    "# Testing Cell (Do NOT modify this cell)"
   ]
  },
  {
   "cell_type": "markdown",
   "metadata": {},
   "source": [
    "#### Question 05 &nbsp;&nbsp;&nbsp;&nbsp;&nbsp;&nbsp;(10 Points)\n",
    "\n",
    "Write a function defined as:\n",
    "```python\n",
    "def quicksort_alphabetical (arr, ignorecase = False):\n",
    " ```\n",
    "that sorts a list of characters (single letter strings) in-place according to alphabetical order. When `ignorecase == True`, the case of letters in the list should be ignored.  When `ignorecase == False`, the sort should respect the case of the list according to Python's default behaviour: uppercase characters sort in preference to lowercase characters. "
   ]
  },
  {
   "cell_type": "code",
   "execution_count": 44,
   "metadata": {
    "deletable": false,
    "nbgrader": {
     "cell_type": "code",
     "checksum": "e3529bf000751f8300dfe76a014265cf",
     "grade": false,
     "grade_id": "q5",
     "locked": false,
     "schema_version": 3,
     "solution": true,
     "task": false
    },
    "tags": []
   },
   "outputs": [],
   "source": [
    "\n",
    "### 5. quicksort_alphabetical\n",
    "# Q: Sort strings alphabetically, optionally ignoring case.\n",
    "# A: Use built-in sort with key and ignorecase toggle.\n",
    "def quicksort_alphabetical(arr, ignorecase=False):\n",
    "    if ignorecase:\n",
    "        arr.sort(key=lambda x: x.lower())\n",
    "    else:\n",
    "        arr.sort()\n"
   ]
  },
  {
   "cell_type": "code",
   "execution_count": 45,
   "metadata": {
    "deletable": false,
    "editable": false,
    "nbgrader": {
     "cell_type": "code",
     "checksum": "ef2cab5e8e302237c6eaccb5d1dd693a",
     "grade": true,
     "grade_id": "q5-quicksort-alpha",
     "locked": true,
     "points": 10,
     "schema_version": 3,
     "solution": false,
     "task": false
    },
    "tags": []
   },
   "outputs": [],
   "source": [
    "# Testing Cell (Do NOT modify this cell)"
   ]
  },
  {
   "cell_type": "markdown",
   "metadata": {
    "tags": []
   },
   "source": [
    "#### Question 06 &nbsp;&nbsp;&nbsp;&nbsp;&nbsp;&nbsp;(10 Points)\n",
    "\n",
    "Write a function defined as:\n",
    "```Python\n",
    "def insertion_sort_string (un_list):\n",
    "```\n",
    "that sorts a list of strings in-place in descending order of their length using an insertion sort."
   ]
  },
  {
   "cell_type": "code",
   "execution_count": 46,
   "metadata": {
    "deletable": false,
    "nbgrader": {
     "cell_type": "code",
     "checksum": "2e402720a448dc33f39a0e152409e2be",
     "grade": false,
     "grade_id": "q6",
     "locked": false,
     "schema_version": 3,
     "solution": true,
     "task": false
    },
    "tags": []
   },
   "outputs": [],
   "source": [
    "\n",
    "\n",
    "### 6. insertion_sort_string\n",
    "# Q: Sort strings using insertion sort.\n",
    "# A: Compare and insert elements in sorted portion.\n",
    "def insertion_sort_string(un_list):\n",
    "    for i in range(1, len(un_list)):\n",
    "        key = un_list[i]\n",
    "        j = i - 1\n",
    "        while j >= 0 and un_list[j] > key:\n",
    "            un_list[j + 1] = un_list[j]\n",
    "            j -= 1\n",
    "        un_list[j + 1] = key\n",
    "\n"
   ]
  },
  {
   "cell_type": "code",
   "execution_count": 47,
   "metadata": {
    "deletable": false,
    "editable": false,
    "nbgrader": {
     "cell_type": "code",
     "checksum": "7c119c2cd10b6b7dfb1e139857940d76",
     "grade": true,
     "grade_id": "q6-insertion-sort-string",
     "locked": true,
     "points": 10,
     "schema_version": 3,
     "solution": false,
     "task": false
    },
    "tags": []
   },
   "outputs": [],
   "source": [
    "# Testing Cell (Do NOT modify this cell)"
   ]
  },
  {
   "cell_type": "markdown",
   "metadata": {},
   "source": [
    "#### Question 07 &nbsp;&nbsp;&nbsp;&nbsp;&nbsp;&nbsp;(10 Points)\n",
    "\n",
    "Write a function defined as:\n",
    "```python\n",
    "def insertion_sort_dict_by_key (un_dict):\n",
    "```\n",
    "that performs an insertion sort that sorts a dict by ascending values in-place while retaining identical keys.\n",
    "\n",
    "For example, given a dictionary:\n",
    "```python\n",
    "d = {\n",
    "    1: 101,\n",
    "    2: 2,\n",
    "    8: -1,\n",
    "}\n",
    "```\n",
    "would be sorted as:\n",
    "```python\n",
    "d = {\n",
    "    1: -1,\n",
    "    2: 2,\n",
    "    8: 101,\n",
    "}\n",
    "```"
   ]
  },
  {
   "cell_type": "code",
   "execution_count": 48,
   "metadata": {
    "deletable": false,
    "nbgrader": {
     "cell_type": "code",
     "checksum": "9075b9e9a179a28e501a74763f19854c",
     "grade": false,
     "grade_id": "q7",
     "locked": false,
     "schema_version": 3,
     "solution": true,
     "task": false
    },
    "tags": []
   },
   "outputs": [],
   "source": [
    "### 7. insertion_sort_dict_by_key\n",
    "# Q: Sort dictionary by keys using insertion sort.\n",
    "# A: Build a sorted list of tuples using insertion sort.\n",
    "def insertion_sort_dict_by_key(un_dict):\n",
    "    items = list(un_dict.items())\n",
    "    for i in range(1, len(items)):\n",
    "        key = items[i]\n",
    "        j = i - 1\n",
    "        while j >= 0 and items[j][0] > key[0]:\n",
    "            items[j + 1] = items[j]\n",
    "            j -= 1\n",
    "        items[j + 1] = key\n",
    "    return dict(items)\n"
   ]
  },
  {
   "cell_type": "code",
   "execution_count": 49,
   "metadata": {
    "deletable": false,
    "editable": false,
    "nbgrader": {
     "cell_type": "code",
     "checksum": "ac5ae134393f3de973ef3e72b0c70757",
     "grade": true,
     "grade_id": "q7-insert-sort-dict",
     "locked": true,
     "points": 10,
     "schema_version": 3,
     "solution": false,
     "task": false
    },
    "tags": []
   },
   "outputs": [],
   "source": [
    "# Testing Cell (Do NOT modify this cell)"
   ]
  },
  {
   "cell_type": "markdown",
   "metadata": {},
   "source": [
    "#### Question 08 &nbsp;&nbsp;&nbsp;&nbsp;&nbsp;&nbsp;(10 Points)\n",
    "\n",
    "Write a function defined as:\n",
    "```python\n",
    "def recursive_insertion_sort (arr, index, reverse):\n",
    "```\n",
    "that performs a recursive insertion sort in-place on a list of floats taking a `reverse` parameter to signal whether the floats are to be in ascending on descending order."
   ]
  },
  {
   "cell_type": "code",
   "execution_count": 50,
   "metadata": {
    "deletable": false,
    "nbgrader": {
     "cell_type": "code",
     "checksum": "40c77111cd6567c76a64f51a725968fa",
     "grade": false,
     "grade_id": "q8",
     "locked": false,
     "schema_version": 3,
     "solution": true,
     "task": false
    },
    "tags": []
   },
   "outputs": [],
   "source": [
    "\n",
    "### 8. recursive_insertion_sort\n",
    "# Q: Implement insertion sort recursively.\n",
    "# A: Base case is index 1, insert current index into sorted left part.\n",
    "def recursive_insertion_sort(arr, index, reverse=False):\n",
    "    if index <= 0:\n",
    "        return\n",
    "    recursive_insertion_sort(arr, index - 1, reverse)\n",
    "    key = arr[index]\n",
    "    j = index - 1\n",
    "    if reverse:\n",
    "        while j >= 0 and arr[j] < key:\n",
    "            arr[j + 1] = arr[j]\n",
    "            j -= 1\n",
    "    else:\n",
    "        while j >= 0 and arr[j] > key:\n",
    "            arr[j + 1] = arr[j]\n",
    "            j -= 1\n",
    "    arr[j + 1] = key\n"
   ]
  },
  {
   "cell_type": "code",
   "execution_count": 51,
   "metadata": {
    "deletable": false,
    "editable": false,
    "nbgrader": {
     "cell_type": "code",
     "checksum": "267f08fd25b1d44d0514624ebc3ddad4",
     "grade": true,
     "grade_id": "q8-recursive-insert",
     "locked": true,
     "points": 10,
     "schema_version": 3,
     "solution": false,
     "task": false
    },
    "tags": []
   },
   "outputs": [],
   "source": [
    "# Testing Cell (Do NOT modify this cell)"
   ]
  },
  {
   "cell_type": "markdown",
   "metadata": {
    "tags": []
   },
   "source": [
    "#### Question 09 &nbsp;&nbsp;&nbsp;&nbsp;&nbsp;&nbsp;(10 Points)\n",
    "\n",
    "Write a function defined as:\n",
    "```python\n",
    "def median_alpha_pivot(str_list, low, high):\n",
    "```\n",
    "that accepts a list of capitalised names, the index of the start and end of the partition in the list and returns a 'median of three' pivot value using a median partition scheme or `None` for a zero length input array. \n",
    "\n",
    "In calculating the pivot, the first letter of each string is given a weighting according to its index in `list(string.ascii_uppercase)` and the value returned is that index. \n",
    "\n",
    "Thus, in a list like:\n",
    "```python\n",
    "[\"Majid\", \"Victoria\", \"Tashreque\", \"Xiefeng\", \"Fu\", \"Biao\", \"Rui\"]\n",
    "```\n",
    "in calculating the pivot for the whole of the list, we consider the values:\n",
    "- 12 (the index of 'M' in string.ascii_uppercase), \n",
    "- 23 (the index of 'X' in string.ascii_uppercase), and \n",
    "- 17 (the index of 'R' in string.ascii_uppercase)   \n",
    "returning `17` as our first pivot value.\n"
   ]
  },
  {
   "cell_type": "code",
   "execution_count": 52,
   "metadata": {
    "deletable": false,
    "nbgrader": {
     "cell_type": "code",
     "checksum": "941c4dd9c20f450f7d31d872c7ed1612",
     "grade": false,
     "grade_id": "q9",
     "locked": false,
     "schema_version": 3,
     "solution": true,
     "task": false
    },
    "tags": []
   },
   "outputs": [],
   "source": [
    "\n",
    "### 9. median_alpha_pivot\n",
    "# Q: Return index of median based on first character alphabetically.\n",
    "# A: Use sorted tuple and return index.\n",
    "def median_alpha_pivot(str_list, low, high):\n",
    "    mid = (low + high) // 2\n",
    "    trio = [(str_list[low], low), (str_list[mid], mid), (str_list[high], high)]\n",
    "    trio.sort(key=lambda x: x[0][0].lower())\n",
    "    return trio[1][1]\n",
    "\n"
   ]
  },
  {
   "cell_type": "code",
   "execution_count": 53,
   "metadata": {
    "deletable": false,
    "editable": false,
    "nbgrader": {
     "cell_type": "code",
     "checksum": "863fa15ff01a4f50ba12a2bd68c4902a",
     "grade": true,
     "grade_id": "q9-median-alpha-pivot",
     "locked": true,
     "points": 10,
     "schema_version": 3,
     "solution": false,
     "task": false
    },
    "tags": []
   },
   "outputs": [],
   "source": [
    "# Testing Cell (Do NOT modify this cell)"
   ]
  },
  {
   "cell_type": "markdown",
   "metadata": {},
   "source": [
    "#### Question 10 &nbsp;&nbsp;&nbsp;&nbsp;&nbsp;&nbsp;(10 Points)\n",
    "\n",
    "Write a function defined as:\n",
    "```python\n",
    "def median_quicksort_by_first_letter (str_list):\n",
    "```   \n",
    "\n",
    "that implements a **recursive** quicksort that sorts a list of capitalised names according to their first letter using the median partition scheme per the details expressed in Question 09. \n",
    "\n",
    "Thus, given a list like:\n",
    "```python\n",
    "[\"Majid\", \"Victoria\", \"Tashreque\", \"Xiefeng\", \"Fu\", \"Biao\", \"Rui\", \"Pranav\"]\n",
    "```\n",
    "when sorted in-place, the list is:\n",
    "```python\n",
    "['Biao', 'Fu', 'Majid', 'Pranav', 'Rui', 'Tashreque', 'Victoria', 'Xiefeng']\n",
    "```"
   ]
  },
  {
   "cell_type": "code",
   "execution_count": 54,
   "metadata": {
    "deletable": false,
    "nbgrader": {
     "cell_type": "code",
     "checksum": "ccb9eca7ec76bbd104c4ff36cd60901e",
     "grade": false,
     "grade_id": "q10",
     "locked": false,
     "schema_version": 3,
     "solution": true,
     "task": false
    },
    "tags": []
   },
   "outputs": [],
   "source": [
    "### 10. median_quicksort_by_first_letter\n",
    "# Q: Sort using quicksort based on first letter.\n",
    "# A: Use median_alpha_pivot for pivot.\n",
    "def median_quicksort_by_first_letter(str_list):\n",
    "    def quicksort(arr, low, high):\n",
    "        if low < high:\n",
    "            pivot_idx = median_alpha_pivot(arr, low, high)\n",
    "            arr[pivot_idx], arr[high] = arr[high], arr[pivot_idx]\n",
    "            pi = lomuto_partition_pivot(arr, low, high)\n",
    "            quicksort(arr, low, pi - 1)\n",
    "            quicksort(arr, pi + 1, high)\n",
    "    quicksort(str_list, 0, len(str_list) - 1)\n",
    "\n"
   ]
  },
  {
   "cell_type": "code",
   "execution_count": 55,
   "metadata": {
    "deletable": false,
    "editable": false,
    "nbgrader": {
     "cell_type": "code",
     "checksum": "9806f79786e4942abab8a8f1ee394968",
     "grade": true,
     "grade_id": "q10-median-quicksort",
     "locked": true,
     "points": 10,
     "schema_version": 3,
     "solution": false,
     "task": false
    },
    "tags": []
   },
   "outputs": [],
   "source": [
    "# Testing Cell (Do NOT modify this cell)"
   ]
  },
  {
   "cell_type": "markdown",
   "metadata": {},
   "source": [
    "#### Question 11 &nbsp;&nbsp;&nbsp;&nbsp;&nbsp;&nbsp;(10 Points)\n",
    "\n",
    "Write a function defined as:\n",
    "```python\n",
    "def insertion_sort_by_tuple_sum (ulist, reverse = False):\n",
    "```\n",
    "that sorts a list of numerical tuples in-place by the sum of all values in the tuple. The parameter `reverse` indicates an ascending or descending sort. "
   ]
  },
  {
   "cell_type": "code",
   "execution_count": 56,
   "metadata": {
    "deletable": false,
    "nbgrader": {
     "cell_type": "code",
     "checksum": "106c2535188a83e431c5559233796f1d",
     "grade": false,
     "grade_id": "q11",
     "locked": false,
     "schema_version": 3,
     "solution": true,
     "task": false
    },
    "tags": []
   },
   "outputs": [],
   "source": [
    "\n",
    "### 11. insertion_sort_by_tuple_sum\n",
    "# Q: Insertion sort on list of tuples by their sum.\n",
    "# A: Compare sum of tuples and insert appropriately.\n",
    "def insertion_sort_by_tuple_sum(ulist, reverse=False):\n",
    "    for i in range(1, len(ulist)):\n",
    "        key = ulist[i]\n",
    "        j = i - 1\n",
    "        if reverse:\n",
    "            while j >= 0 and sum(ulist[j]) < sum(key):\n",
    "                ulist[j + 1] = ulist[j]\n",
    "                j -= 1\n",
    "        else:\n",
    "            while j >= 0 and sum(ulist[j]) > sum(key):\n",
    "                ulist[j + 1] = ulist[j]\n",
    "                j -= 1\n",
    "        ulist[j + 1] = key"
   ]
  },
  {
   "cell_type": "code",
   "execution_count": 57,
   "metadata": {
    "deletable": false,
    "editable": false,
    "nbgrader": {
     "cell_type": "code",
     "checksum": "03b7987944b15ae0f858504ca5a01b0b",
     "grade": true,
     "grade_id": "q11-insert-by-tuple-sum",
     "locked": true,
     "points": 10,
     "schema_version": 3,
     "solution": false,
     "task": false
    },
    "tags": []
   },
   "outputs": [],
   "source": [
    "# Testing Cell (Do NOT modify this cell)"
   ]
  }
 ],
 "metadata": {
  "kernelspec": {
   "display_name": "first_test",
   "language": "python",
   "name": "python3"
  },
  "language_info": {
   "codemirror_mode": {
    "name": "ipython",
    "version": 3
   },
   "file_extension": ".py",
   "mimetype": "text/x-python",
   "name": "python",
   "nbconvert_exporter": "python",
   "pygments_lexer": "ipython3",
   "version": "3.10.13"
  },
  "otter": {
   "tests": {
    "q1": {
     "name": "q1",
     "points": 1,
     "suites": [
      {
       "cases": [],
       "scored": true,
       "setup": "",
       "teardown": "",
       "type": "doctest"
      }
     ]
    },
    "q10": {
     "name": "q10",
     "points": 4,
     "suites": [
      {
       "cases": [],
       "scored": true,
       "setup": "",
       "teardown": "",
       "type": "doctest"
      }
     ]
    },
    "q11": {
     "name": "q11",
     "points": 6,
     "suites": [
      {
       "cases": [],
       "scored": true,
       "setup": "",
       "teardown": "",
       "type": "doctest"
      }
     ]
    },
    "q12": {
     "name": "q12",
     "points": 6,
     "suites": [
      {
       "cases": [],
       "scored": true,
       "setup": "",
       "teardown": "",
       "type": "doctest"
      }
     ]
    },
    "q13": {
     "name": "q13",
     "points": 6,
     "suites": [
      {
       "cases": [],
       "scored": true,
       "setup": "",
       "teardown": "",
       "type": "doctest"
      }
     ]
    },
    "q14": {
     "name": "q14",
     "points": 6,
     "suites": [
      {
       "cases": [],
       "scored": true,
       "setup": "",
       "teardown": "",
       "type": "doctest"
      }
     ]
    },
    "q15": {
     "name": "q15",
     "points": 6,
     "suites": [
      {
       "cases": [],
       "scored": true,
       "setup": "",
       "teardown": "",
       "type": "doctest"
      }
     ]
    },
    "q16": {
     "name": "q16",
     "points": 6,
     "suites": [
      {
       "cases": [],
       "scored": true,
       "setup": "",
       "teardown": "",
       "type": "doctest"
      }
     ]
    },
    "q17": {
     "name": "q17",
     "points": 8,
     "suites": [
      {
       "cases": [],
       "scored": true,
       "setup": "",
       "teardown": "",
       "type": "doctest"
      }
     ]
    },
    "q18": {
     "name": "q18",
     "points": 8,
     "suites": [
      {
       "cases": [],
       "scored": true,
       "setup": "",
       "teardown": "",
       "type": "doctest"
      }
     ]
    },
    "q19": {
     "name": "q19",
     "points": 12,
     "suites": [
      {
       "cases": [],
       "scored": true,
       "setup": "",
       "teardown": "",
       "type": "doctest"
      }
     ]
    },
    "q2": {
     "name": "q2",
     "points": 1,
     "suites": [
      {
       "cases": [],
       "scored": true,
       "setup": "",
       "teardown": "",
       "type": "doctest"
      }
     ]
    },
    "q20": {
     "name": "q20",
     "points": 12,
     "suites": [
      {
       "cases": [],
       "scored": true,
       "setup": "",
       "teardown": "",
       "type": "doctest"
      }
     ]
    },
    "q3": {
     "name": "q3",
     "points": 1,
     "suites": [
      {
       "cases": [],
       "scored": true,
       "setup": "",
       "teardown": "",
       "type": "doctest"
      }
     ]
    },
    "q4": {
     "name": "q4",
     "points": 1,
     "suites": [
      {
       "cases": [],
       "scored": true,
       "setup": "",
       "teardown": "",
       "type": "doctest"
      }
     ]
    },
    "q5": {
     "name": "q5",
     "points": 2,
     "suites": [
      {
       "cases": [],
       "scored": true,
       "setup": "",
       "teardown": "",
       "type": "doctest"
      }
     ]
    },
    "q6": {
     "name": "q6",
     "points": 2,
     "suites": [
      {
       "cases": [],
       "scored": true,
       "setup": "",
       "teardown": "",
       "type": "doctest"
      }
     ]
    },
    "q7": {
     "name": "q7",
     "points": 4,
     "suites": [
      {
       "cases": [],
       "scored": true,
       "setup": "",
       "teardown": "",
       "type": "doctest"
      }
     ]
    },
    "q8": {
     "name": "q8",
     "points": 4,
     "suites": [
      {
       "cases": [],
       "scored": true,
       "setup": "",
       "teardown": "",
       "type": "doctest"
      }
     ]
    },
    "q9": {
     "name": "q9",
     "points": 4,
     "suites": [
      {
       "cases": [],
       "scored": true,
       "setup": "",
       "teardown": "",
       "type": "doctest"
      }
     ]
    }
   }
  },
  "varInspector": {
   "cols": {
    "lenName": 16,
    "lenType": 16,
    "lenVar": 40
   },
   "kernels_config": {
    "python": {
     "delete_cmd_postfix": "",
     "delete_cmd_prefix": "del ",
     "library": "var_list.py",
     "varRefreshCmd": "print(var_dic_list())"
    },
    "r": {
     "delete_cmd_postfix": ") ",
     "delete_cmd_prefix": "rm(",
     "library": "var_list.r",
     "varRefreshCmd": "cat(var_dic_list()) "
    }
   },
   "types_to_exclude": [
    "module",
    "function",
    "builtin_function_or_method",
    "instance",
    "_Feature"
   ],
   "window_display": false
  }
 },
 "nbformat": 4,
 "nbformat_minor": 4
}
