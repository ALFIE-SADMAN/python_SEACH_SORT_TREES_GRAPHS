{
 "cells": [
  {
   "cell_type": "markdown",
   "metadata": {},
   "source": [
    "### Instructions:\n",
    "\n",
    "- You can attempt any number of questions and in any order.  \n",
    "  See the assignment page for a description of the hurdle requirement for this assessment.\n",
    "- You may submit your practical for autograding as many times as you like to check on progress, however you will save time by checking and testing your own code before submitting.\n",
    "- Develop and check your answers in the spaces provided.\n",
    "- **Replace** the code `raise NotImplementedError()` with your solution to the question.\n",
    "- Do **NOT** remove any variables other provided markings already provided in the answer spaces.\n",
    "- Do **NOT** make any changes to this notebook outside of the spaces indicated.  \n",
    "  (If you do this, the submission system might not accept your work)\n",
    "\n",
    "### Submitting:\n",
    "\n",
    "1. Before you turn this problem in, make sure everything runs as expected by resetting this notebook.    \n",
    "   (You can do this from the menubar above by selecting `Kernel`&#8594;`Restart Kernel and Run All Cells...`)\n",
    "1. Don't forget to save your notebook after this step.\n",
    "1. Submit your .ipynb file to Gradescope via file upload or GitHub repository.\n",
    "1. You can submit as many times as needed.\n",
    "1. You **must** give your submitted file the **identical** filename to that which you downloaded without changing **any** aspects - spaces, underscores, capitalisation etc. If your operating system has changed the filename because you downloaded the file twice or more you **must** also fix this.  \n",
    "\n"
   ]
  },
  {
   "cell_type": "markdown",
   "metadata": {},
   "source": [
    "---"
   ]
  },
  {
   "cell_type": "markdown",
   "metadata": {
    "tags": []
   },
   "source": [
    "# <mark style=\"background: #843fa1; color: #ffffff;\" >&nbsp;G&nbsp;</mark>&ensp;Topic 12: Graphs & Trees"
   ]
  },
  {
   "cell_type": "markdown",
   "metadata": {},
   "source": [
    "## Shortest Path First\n",
    "\n",
    "This practical assumes that you are familiar with the object-oriented sample implementation of graphs presented in the course. This reference code is provided to allow you to extend the provided classes using (single or multi-level) inheritance. Do **not** modify this base code as it is used by the autograder but rather extend the classes in order to answer the questions below. You are not compelled to make use of the provided code and may answer the questions as you see fit."
   ]
  },
  {
   "cell_type": "code",
   "execution_count": 1,
   "metadata": {
    "deletable": false,
    "editable": false,
    "nbgrader": {
     "cell_type": "code",
     "checksum": "2c513a91118d722355db0103de2dfd45",
     "grade": false,
     "grade_id": "cell-625e4cbf06599666",
     "locked": true,
     "schema_version": 3,
     "solution": false,
     "task": false
    },
    "tags": []
   },
   "outputs": [],
   "source": [
    "import heapq\n",
    "import math\n",
    "\n",
    "# --- Vertex Class ---\n",
    "class Vertex:\n",
    "    def __init__(self, vertex_id):\n",
    "        self.id = vertex_id\n",
    "        self.adjacent = {}  # neighbor_id -> weight\n",
    "        self.distance = math.inf\n",
    "        self.previous = None\n",
    "\n",
    "    def add_neighbor(self, neighbor, weight):\n",
    "        self.adjacent[neighbor] = weight\n",
    "\n",
    "    def get_id(self):\n",
    "        return self.id\n",
    "\n",
    "    def get_previous(self):\n",
    "        return self.previous\n",
    "\n",
    "    def get_distance(self):\n",
    "        return self.distance\n",
    "\n",
    "# --- Graph Class with Dijkstra ---\n",
    "class DijkstraGraph:\n",
    "    def __init__(self):\n",
    "        self.vertices = {}\n",
    "\n",
    "    def add_vertex(self, vertex_id):\n",
    "        if vertex_id not in self.vertices:\n",
    "            self.vertices[vertex_id] = Vertex(vertex_id)\n",
    "        return self.vertices[vertex_id]\n",
    "\n",
    "    def add_edge(self, frm, to, cost):\n",
    "        self.add_vertex(frm)\n",
    "        self.add_vertex(to)\n",
    "        self.vertices[frm].add_neighbor(to, cost)\n",
    "\n",
    "    def get_vertex(self, vertex_id):\n",
    "        return self.vertices.get(vertex_id)\n",
    "\n",
    "    def dijkstra_spf(self, start_vertex):\n",
    "        # Reset all distances and paths\n",
    "        for v in self.vertices.values():\n",
    "            v.distance = math.inf\n",
    "            v.previous = None\n",
    "\n",
    "        start_vertex.distance = 0\n",
    "        heap = [(0, start_vertex.get_id())]  # min-heap of (distance, vertex_id)\n",
    "\n",
    "        while heap:\n",
    "            current_distance, current_id = heapq.heappop(heap)\n",
    "            current_vertex = self.vertices[current_id]\n",
    "\n",
    "            # Skip outdated entries in heap\n",
    "            if current_distance > current_vertex.get_distance():\n",
    "                continue\n",
    "\n",
    "            for neighbor_id, weight in current_vertex.adjacent.items():\n",
    "                neighbor = self.vertices[neighbor_id]\n",
    "                new_dist = current_distance + weight\n",
    "\n",
    "                if new_dist < neighbor.get_distance():\n",
    "                    neighbor.distance = new_dist\n",
    "                    neighbor.previous = current_vertex\n",
    "                    heapq.heappush(heap, (new_dist, neighbor_id))\n",
    "\n",
    "# --- Shortest Path Retrieval Function ---\n",
    "def shortest_path(edges, vstart, vfinish):\n",
    "    graph = DijkstraGraph()\n",
    "\n",
    "    # Build the graph\n",
    "    for frm, to, cost in edges:\n",
    "        graph.add_edge(frm, to, cost)\n",
    "\n",
    "    start_vertex = graph.get_vertex(vstart)\n",
    "    target_vertex = graph.get_vertex(vfinish)\n",
    "\n",
    "    # Run Dijkstra’s algorithm\n",
    "    graph.dijkstra_spf(start_vertex)\n",
    "\n",
    "    # Reconstruct path\n",
    "    path = []\n",
    "    current = target_vertex\n",
    "\n",
    "    while current:\n",
    "        path.insert(0, current.get_id())\n",
    "        current = current.get_previous()\n",
    "\n",
    "    total_weight = target_vertex.get_distance()\n",
    "\n",
    "    if len(path) < 2 or total_weight == math.inf:\n",
    "        return [], math.inf  # No valid path found\n",
    "\n",
    "    return path, total_weight\n"
   ]
  },
  {
   "cell_type": "markdown",
   "metadata": {},
   "source": [
    "#### Question 01 &nbsp;&nbsp;&nbsp;&nbsp;&nbsp;&nbsp;(10 Points)\n",
    "\n",
    "Given an undirected, edge-weighted graph:</br>\n",
    "<img src=\"https://zschub.github.io/img/edge_weighted_graph.png\" alt=\"edge-weighted graph\" style=\"align: left\"></br>\n",
    "write a function defined as:\n",
    "```python\n",
    "def undirected_shortest_path (edges, vstart, vfinish):\n",
    "    ...\n",
    "``` \n",
    "that:\n",
    "* accepts a list of `edges` in the form of tuples `(vertex1, vertex2, weight)`,\n",
    "* accepts `vstart` and `vfinish` as the IDs of start and stop vertices,\n",
    "* returns a tuple `(path, weight)` that provides a list of vertex id's along the shortest path from start to finish and the summed weight of edges along the path using Dijkstra's Shortest Path First algorithm, and\n",
    "* where no path exists, returns an empty list and an infinite distance.\n",
    "\n",
    "For example, assuming the graph above, the call:\n",
    "```python\n",
    "path, distance = directed_shortest_path (edges, '4', '3')\n",
    "```\n",
    "would return:\n",
    "```python\n",
    "(['4', '0', '2', '3'], 0.81)\n",
    "```"
   ]
  },
  {
   "cell_type": "code",
   "execution_count": null,
   "metadata": {
    "deletable": false,
    "editable": false,
    "nbgrader": {
     "cell_type": "code",
     "checksum": "72c928620677763c2eaa452a51e4daba",
     "grade": false,
     "grade_id": "cell-9146366223c48aea",
     "locked": true,
     "schema_version": 3,
     "solution": false,
     "task": false
    },
    "tags": []
   },
   "outputs": [],
   "source": [
    "class DirectedDijkstraGraph(DijkstraGraph):\n",
    "    def add_edge(self, frm, to, cost=0):\n",
    "        \"\"\"\n",
    "        Q: What does this method do?\n",
    "        A: Adds a directed edge from vertex `frm` to vertex `to` with the given `cost`.\n",
    "        \"\"\"\n",
    "\n",
    "        # Q: Ensure both vertices exist in the graph\n",
    "        if frm not in self.vertices:\n",
    "            self.add_vertex(frm)\n",
    "        if to not in self.vertices:\n",
    "            self.add_vertex(to)\n",
    "\n",
    "        # Q: Add a directed edge (frm → to) with the given cost\n",
    "        # A: Only one direction is stored in a directed graph\n",
    "        self.vertices[frm].add_neighbor(to, cost)\n"
   ]
  },
  {
   "cell_type": "code",
   "execution_count": null,
   "metadata": {
    "deletable": false,
    "nbgrader": {
     "cell_type": "code",
     "checksum": "1284672debf082ff349097a1b8635f52",
     "grade": false,
     "grade_id": "q1",
     "locked": false,
     "schema_version": 3,
     "solution": true,
     "task": false
    },
    "tags": []
   },
   "outputs": [],
   "source": [
    "import math\n",
    "\n",
    "def directed_shortest_path(edges, vstart, vfinish):\n",
    "    \"\"\"\n",
    "    Q: What does this function do?\n",
    "    A: Builds a directed, weighted graph using Dijkstra's algorithm,\n",
    "       finds the shortest path from vstart to vfinish, and returns:\n",
    "       - path: a list of vertex IDs from start to finish\n",
    "       - total_weight: the sum of weights along that path\n",
    "    \"\"\"\n",
    "\n",
    "    graph = DirectedDijkstraGraph()\n",
    "\n",
    "    # Step 1: Add edges to the graph\n",
    "    for frm, to, cost in edges:\n",
    "        graph.add_edge(frm, to, cost)\n",
    "\n",
    "    # Step 2: Get the start and finish vertex objects\n",
    "    start_vertex = graph.get_vertex(vstart)\n",
    "    target_vertex = graph.get_vertex(vfinish)\n",
    "\n",
    "    # Step 3: Handle case where either vertex doesn't exist\n",
    "    if start_vertex is None or target_vertex is None:\n",
    "        return [], math.inf\n",
    "\n",
    "    # Step 4: Run Dijkstra from the starting vertex\n",
    "    graph.dijkstra_spf(start_vertex)\n",
    "\n",
    "    # Step 5: Reconstruct the path by following .get_previous() pointers\n",
    "    path = []\n",
    "    current = target_vertex\n",
    "    while current:\n",
    "        path.insert(0, current.get_id())\n",
    "        current = current.get_previous()\n",
    "\n",
    "    # Step 6: Get the total weight from start to finish\n",
    "    total_weight = target_vertex.get_distance()\n",
    "\n",
    "    # Step 7: If no real path exists (e.g., disconnected), return empty\n",
    "    if len(path) < 2 or total_weight == math.inf:\n",
    "        return [], math.inf\n",
    "\n",
    "    return path, total_weight\n"
   ]
  },
  {
   "cell_type": "code",
   "execution_count": 4,
   "metadata": {},
   "outputs": [],
   "source": [
    "class WeightedDirectedGraph(DirectedDijkstraGraph):\n",
    "    def add_edge(self, frm, to, cost=0):\n",
    "        super().add_edge(frm, to, cost)\n",
    "        super().add_edge(to, frm, cost)"
   ]
  },
  {
   "cell_type": "code",
   "execution_count": 6,
   "metadata": {
    "deletable": false,
    "editable": false,
    "nbgrader": {
     "cell_type": "code",
     "checksum": "c36545ca8e2829d5f4c4582efb5625eb",
     "grade": true,
     "grade_id": "q1-undirected-spf",
     "locked": true,
     "points": 10,
     "schema_version": 3,
     "solution": false,
     "task": false
    },
    "tags": []
   },
   "outputs": [],
   "source": [
    "class TreeVertex(Vertex):\n",
    "    def __init__(self, node):\n",
    "        super().__init__(node)\n",
    "        self._parent = None\n",
    "\n",
    "    def set_parent(self, parent):\n",
    "        self._parent = parent\n",
    "\n",
    "    def get_parent(self):\n",
    "        return self._parent\n",
    "\n",
    "class TreeGraph(DijkstraGraph):\n",
    "    def add_edge(self, frm, to, cost=0):\n",
    "        if frm not in self._vertices:\n",
    "            self.add_vertex(frm)\n",
    "        if to not in self._vertices:\n",
    "            self.add_vertex(to)\n",
    "\n",
    "        self._vertices[frm].add_neighbour(self._vertices[to], cost)\n",
    "        self._vertices[to].set_parent(self._vertices[frm])"
   ]
  },
  {
   "cell_type": "markdown",
   "metadata": {},
   "source": [
    "#### Question 02 &nbsp;&nbsp;&nbsp;&nbsp;&nbsp;&nbsp;(15 Points)\n",
    "\n",
    "Given a directed, edge-weighted graph:</br>\n",
    "<img src=\"https://zschub.github.io/img/directed-edge-weighted.png\" alt=\"edge-weighted directed graph\" style=\"height: 307px; width: 503px; align: left\"></br>\n",
    "write a function defined as:\n",
    "```python\n",
    "def directed_shortest_path (dedges, vstart, vfinish):\n",
    "    ...\n",
    "``` \n",
    "that:\n",
    "* accepts a list of directed edges in the form of tuples `(vertex1, vertex2, weight)`,\n",
    "* accepts `vstart` and `vfinish` as the IDs of start and stop vertices, and\n",
    "* returns a tuple `(path, weight)` that provides a list of vertex id's along the directed path from start to finish and the summed weight of edges along the path using Dijkstra's Shortest Path First algorithm.\n",
    "\n",
    "For example, the call:\n",
    "```python\n",
    "path, distance = directed_shortest_path (directed_edges, 'G', 'C')\n",
    "```\n",
    "would return:\n",
    "```python\n",
    "(['G', 'D', 'A', 'B', 'C'], 7)\n",
    "```\n",
    "If no path exists, the function must return an empty list and a distance (edge-weight) of `math.inf`."
   ]
  },
  {
   "cell_type": "code",
   "execution_count": 7,
   "metadata": {
    "deletable": false,
    "editable": false,
    "nbgrader": {
     "cell_type": "code",
     "checksum": "a4cc4744c18be91e6154365d5a24f154",
     "grade": false,
     "grade_id": "cell-35d49ccd113ed184",
     "locked": true,
     "schema_version": 3,
     "solution": false,
     "task": false
    },
    "tags": []
   },
   "outputs": [],
   "source": [
    "def tree_path(graph, vstart, vfinish):\n",
    "    path = []\n",
    "    current = graph.get_vertex(vfinish)\n",
    "    while current:\n",
    "        path.insert(0, current.get_id())\n",
    "        if current.get_id() == vstart:\n",
    "            break\n",
    "        current = current.get_parent()\n",
    "    else:\n",
    "        return [], math.inf\n",
    "\n",
    "    return path, len(path) - 1"
   ]
  },
  {
   "cell_type": "code",
   "execution_count": null,
   "metadata": {
    "deletable": false,
    "nbgrader": {
     "cell_type": "code",
     "checksum": "4bc1fe19aca61040f0dddafc9779800d",
     "grade": false,
     "grade_id": "q2",
     "locked": false,
     "schema_version": 3,
     "solution": true,
     "task": false
    },
    "tags": []
   },
   "outputs": [],
   "source": [
    "class BinaryTreeGraph(TreeGraph):\n",
    "    def add_edge(self, frm, to, cost=0, side='left'):\n",
    "        \"\"\"\n",
    "        Q: What does this method do?\n",
    "        A: Adds a directional edge (parent → child) to a binary tree graph,\n",
    "           connecting `frm` to `to` on either the left or right side.\n",
    "\n",
    "        Parameters:\n",
    "        - frm: parent node ID\n",
    "        - to: child node ID\n",
    "        - cost: (not used here but maintained for signature compatibility)\n",
    "        - side: either 'left' or 'right', indicating child side\n",
    "        \"\"\"\n",
    "\n",
    "        # Create frm vertex if it doesn't exist\n",
    "        if frm not in self._vertices:\n",
    "            self.add_vertex(frm)\n",
    "\n",
    "        # Create to vertex if it doesn't exist\n",
    "        if to not in self._vertices:\n",
    "            self.add_vertex(to)\n",
    "\n",
    "        # Set left or right child based on the `side` parameter\n",
    "        if side == 'left':\n",
    "            self._vertices[frm].left = self._vertices[to]\n",
    "        else:\n",
    "            self._vertices[frm].right = self._vertices[to]\n",
    "\n",
    "        # Set the parent pointer in the child vertex\n",
    "        self._vertices[to].set_parent(self._vertices[frm])\n"
   ]
  },
  {
   "cell_type": "code",
   "execution_count": 9,
   "metadata": {},
   "outputs": [
    {
     "ename": "NameError",
     "evalue": "name 'directed_edges' is not defined",
     "output_type": "error",
     "traceback": [
      "\u001b[1;31m---------------------------------------------------------------------------\u001b[0m",
      "\u001b[1;31mNameError\u001b[0m                                 Traceback (most recent call last)",
      "Cell \u001b[1;32mIn[9], line 3\u001b[0m\n\u001b[0;32m      1\u001b[0m \u001b[38;5;66;03m# Test cases based on the list directed_edges\u001b[39;00m\n\u001b[1;32m----> 3\u001b[0m p, d \u001b[38;5;241m=\u001b[39m directed_shortest_path (\u001b[43mdirected_edges\u001b[49m, \u001b[38;5;124m'\u001b[39m\u001b[38;5;124mG\u001b[39m\u001b[38;5;124m'\u001b[39m, \u001b[38;5;124m'\u001b[39m\u001b[38;5;124mC\u001b[39m\u001b[38;5;124m'\u001b[39m)\n\u001b[0;32m      4\u001b[0m \u001b[38;5;28;01massert\u001b[39;00m p \u001b[38;5;241m==\u001b[39m [\u001b[38;5;124m'\u001b[39m\u001b[38;5;124mG\u001b[39m\u001b[38;5;124m'\u001b[39m, \u001b[38;5;124m'\u001b[39m\u001b[38;5;124mD\u001b[39m\u001b[38;5;124m'\u001b[39m, \u001b[38;5;124m'\u001b[39m\u001b[38;5;124mA\u001b[39m\u001b[38;5;124m'\u001b[39m, \u001b[38;5;124m'\u001b[39m\u001b[38;5;124mB\u001b[39m\u001b[38;5;124m'\u001b[39m, \u001b[38;5;124m'\u001b[39m\u001b[38;5;124mC\u001b[39m\u001b[38;5;124m'\u001b[39m] \u001b[38;5;129;01mand\u001b[39;00m d \u001b[38;5;241m==\u001b[39m \u001b[38;5;241m7\u001b[39m\n\u001b[0;32m      6\u001b[0m p, d \u001b[38;5;241m=\u001b[39m directed_shortest_path (directed_edges, \u001b[38;5;124m'\u001b[39m\u001b[38;5;124mF\u001b[39m\u001b[38;5;124m'\u001b[39m, \u001b[38;5;124m'\u001b[39m\u001b[38;5;124mE\u001b[39m\u001b[38;5;124m'\u001b[39m)\n",
      "\u001b[1;31mNameError\u001b[0m: name 'directed_edges' is not defined"
     ]
    }
   ],
   "source": [
    "# Test cases based on the list directed_edges\n",
    "\n",
    "p, d = directed_shortest_path (directed_edges, 'G', 'C')\n",
    "assert p == ['G', 'D', 'A', 'B', 'C'] and d == 7\n",
    "\n",
    "p, d = directed_shortest_path (directed_edges, 'F', 'E')\n",
    "assert p == [] and d == math.inf\n"
   ]
  },
  {
   "cell_type": "code",
   "execution_count": null,
   "metadata": {
    "deletable": false,
    "editable": false,
    "nbgrader": {
     "cell_type": "code",
     "checksum": "8768288b435c56285952859c0ae5215f",
     "grade": true,
     "grade_id": "q2-directed-spf",
     "locked": true,
     "points": 15,
     "schema_version": 3,
     "solution": false,
     "task": false
    },
    "tags": []
   },
   "outputs": [],
   "source": [
    "# Testing Cell (Do NOT modify this cell)"
   ]
  },
  {
   "cell_type": "markdown",
   "metadata": {},
   "source": [
    "## Trees\n",
    "\n",
    "As for graphs, this reference code is provided to allow you to extend the classes using (single or multi-level) inheritance. Do **not** modify this base code as it is used by the autograder but rather extend the classes in order to answer the questions below. You are not compelled to make use of the provided code and may answer the questions as you see fit."
   ]
  },
  {
   "cell_type": "code",
   "execution_count": null,
   "metadata": {
    "deletable": false,
    "editable": false,
    "nbgrader": {
     "cell_type": "code",
     "checksum": "c180898c32e55a074aa994be94a6c7c6",
     "grade": false,
     "grade_id": "cell-787b72914fafa14a",
     "locked": true,
     "schema_version": 3,
     "solution": false,
     "task": false
    },
    "tags": []
   },
   "outputs": [],
   "source": [
    "# Do NOT modify - please extend or ignore.\n",
    "\n",
    "class TreeVertex:\n",
    "\n",
    "    def __init__ (self, _value = None):\n",
    "        # User domain payload of the TreeVertex\n",
    "        self._value = _value\n",
    "        \n",
    "        # Left and right sided children\n",
    "        self._left = None\n",
    "        self._right = None\n",
    "        \n",
    "    def get_value (self):\n",
    "        return self._value\n",
    "    \n",
    "    def set_value (self, _value):\n",
    "        self._value = _value\n",
    "        \n",
    "    def get_left (self):\n",
    "        return self._left\n",
    "\n",
    "    def set_left (self, new_left):\n",
    "        self._left = new_left\n",
    "        \n",
    "    def get_right (self):\n",
    "        return self._right\n",
    "    \n",
    "    def set_right (self, new_right):\n",
    "        self._right = new_right\n",
    "\n",
    "\n",
    "class BinarySearchTree:\n",
    "         \n",
    "    def __init__(self):\n",
    "        self._root = None        "
   ]
  },
  {
   "cell_type": "markdown",
   "metadata": {},
   "source": [
    "#### Question 03 &nbsp;&nbsp;&nbsp;&nbsp;&nbsp;&nbsp;(10 Points)\n",
    "\n",
    "Write a class `Q3Vertex` as a subclass of `TreeVertex` whose constructor accepts a word as a mixed case string containing only the letters of the alphabet such as `'Hidden'` or `'valley'` and stores this as a protected instance variable. Add an `insert_word` function that positions an inserted word in a leaf vertex sorted alphabetically ignoring case.\n",
    "```python\n",
    "class Q3Vertex(TreeVertex):\n",
    "\n",
    "    def __init__ (self, word = \"\"):\n",
    "        self._value = word\n",
    "\n",
    "    def insert_word (self, word):\n",
    "        '''\n",
    "        Insert a word as a leaf vertex in either left or right subtree with in-order position\n",
    "        determined alphabetically ignoring case.\n",
    "        '''\n",
    "```\n",
    "For example:\n",
    "```python\n",
    "vertex = Q3Vertex(\"Hidden\")\n",
    "vertex.insert_word(\"a\")\n",
    "vertex.insert_word(\"valley\")\n",
    "```\n",
    "would result in a `Q3Vertex` with \"Hidden\" having left lead node \"a\" and right leaf node \"valley\". The in-order description of the tree would be \"a\", \"Hidden\", \"valley\"."
   ]
  },
  {
   "cell_type": "code",
   "execution_count": 2,
   "metadata": {},
   "outputs": [],
   "source": [
    "class TreeVertex:\n",
    "    def __init__(self, value=None):\n",
    "        self._value = value\n",
    "        self._left = None\n",
    "        self._right = None\n",
    "        self._parent = None  # Optional: used for easier upward traversal\n",
    "\n",
    "    def get_value(self):\n",
    "        return self._value\n",
    "\n",
    "    def set_value(self, value):\n",
    "        self._value = value\n",
    "\n",
    "    def get_left(self):\n",
    "        return self._left\n",
    "\n",
    "    def set_left(self, new_left):\n",
    "        self._left = new_left\n",
    "        if new_left:\n",
    "            new_left._parent = self\n",
    "\n",
    "    def get_right(self):\n",
    "        return self._right\n",
    "\n",
    "    def set_right(self, new_right):\n",
    "        self._right = new_right\n",
    "        if new_right:\n",
    "            new_right._parent = self\n",
    "\n",
    "    def get_parent(self):\n",
    "        return self._parent\n",
    "\n",
    "    def set_parent(self, parent):\n",
    "        self._parent = parent\n",
    "\n",
    "    def num_children(self):\n",
    "        count = 0\n",
    "        if self._left:\n",
    "            count += 1\n",
    "        if self._right:\n",
    "            count += 1\n",
    "        return count\n",
    "\n",
    "\n",
    "    def only_child(self):\n",
    "        return self._left if self._left else self._right\n",
    "\n",
    "    def min_value(self):\n",
    "        current = self\n",
    "        while current.get_left():\n",
    "            current = current.get_left()\n",
    "        return current.get_value()\n",
    "\n",
    "    def __str__(self):\n",
    "        return self._value\n"
   ]
  },
  {
   "cell_type": "code",
   "execution_count": 3,
   "metadata": {
    "deletable": false,
    "nbgrader": {
     "cell_type": "code",
     "checksum": "bae070af5f796521ba035654268e5411",
     "grade": false,
     "grade_id": "q3",
     "locked": false,
     "schema_version": 3,
     "solution": true,
     "task": false
    },
    "tags": []
   },
   "outputs": [],
   "source": [
    "class Q3Vertex(TreeVertex):\n",
    "    def __init__(self, word=\"\"):\n",
    "        # Call superclass constructor to initialize TreeVertex\n",
    "        super().__init__(word)\n",
    "\n",
    "    def insert_word(self, word):\n",
    "        # Start from the current node (root)\n",
    "        current = self\n",
    "        new_node = Q3Vertex(word)\n",
    "\n",
    "        while True:\n",
    "            # Compare using lowercase (case-insensitive)\n",
    "            if word.lower() < current.get_value().lower():\n",
    "                # Go left if word is less\n",
    "                if current.get_left() is None:\n",
    "                    current.set_left(new_node)\n",
    "                    break\n",
    "                current = current.get_left()\n",
    "            else:\n",
    "                # Go right if word is greater or equal\n",
    "                if current.get_right() is None:\n",
    "                    current.set_right(new_node)\n",
    "                    break\n",
    "                current = current.get_right()\n"
   ]
  },
  {
   "cell_type": "code",
   "execution_count": 4,
   "metadata": {},
   "outputs": [],
   "source": [
    "# Sample test case\n",
    "\n",
    "vertex = Q3Vertex(\"Hidden\")\n",
    "vertex.insert_word(\"a\")\n",
    "vertex.insert_word(\"valley\")\n",
    "assert vertex.get_left().get_value() == 'a'\n",
    "assert vertex.get_right().get_value() == 'valley'"
   ]
  },
  {
   "cell_type": "code",
   "execution_count": null,
   "metadata": {
    "deletable": false,
    "editable": false,
    "nbgrader": {
     "cell_type": "code",
     "checksum": "fde203d9a623d56ee2536c43488e14d9",
     "grade": true,
     "grade_id": "q3-vertex",
     "locked": true,
     "points": 10,
     "schema_version": 3,
     "solution": false,
     "task": false
    },
    "tags": []
   },
   "outputs": [],
   "source": [
    "# Testing Cell (Do NOT modify this cell)"
   ]
  },
  {
   "cell_type": "markdown",
   "metadata": {},
   "source": [
    "#### Question 04 &nbsp;&nbsp;&nbsp;&nbsp;&nbsp;&nbsp;(15 Points)\n",
    "\n",
    "Extend `Q3Vertex` in a class `Q4Vertex` and add the function:\n",
    "```python\n",
    "    def the_last_word (self):\n",
    "```\n",
    "that returns the last word of an in-order traversal of vertices from the root of any tree or subtree. For example, in the in-order example used above \"a\", \"Hidden\", \"valley\", `vertex.the_last_word()` would return `\"valley\"`."
   ]
  },
  {
   "cell_type": "code",
   "execution_count": 5,
   "metadata": {
    "deletable": false,
    "nbgrader": {
     "cell_type": "code",
     "checksum": "5e1402364d96aed07d7c9f606b8731f1",
     "grade": false,
     "grade_id": "q4",
     "locked": false,
     "schema_version": 3,
     "solution": true,
     "task": false
    },
    "tags": []
   },
   "outputs": [],
   "source": [
    "class Q4Vertex(Q3Vertex):\n",
    "    def the_last_word(self):\n",
    "        '''\n",
    "        Returns the last word in an in-order traversal,\n",
    "        which is the rightmost node in the tree.\n",
    "        '''\n",
    "        current = self\n",
    "        while current.get_right():\n",
    "            current = current.get_right()\n",
    "        return current.get_value()\n"
   ]
  },
  {
   "cell_type": "code",
   "execution_count": 6,
   "metadata": {
    "tags": []
   },
   "outputs": [],
   "source": [
    "# Sample test case\n",
    "\n",
    "vv = Q4Vertex(\"Hidden\")\n",
    "vv.insert_word(\"a\")\n",
    "vv.insert_word(\"valley\")\n",
    "assert vv.the_last_word() == 'valley'"
   ]
  },
  {
   "cell_type": "code",
   "execution_count": null,
   "metadata": {
    "deletable": false,
    "editable": false,
    "nbgrader": {
     "cell_type": "code",
     "checksum": "a26a4cd1f78c75379f780ef9660bfa43",
     "grade": true,
     "grade_id": "q4-last-word",
     "locked": true,
     "points": 15,
     "schema_version": 3,
     "solution": false,
     "task": false
    },
    "tags": []
   },
   "outputs": [],
   "source": [
    "# Testing Cell (Do NOT modify this cell)"
   ]
  },
  {
   "cell_type": "markdown",
   "metadata": {},
   "source": [
    "#### Question 5 &nbsp;&nbsp;&nbsp;&nbsp;&nbsp;&nbsp;(15 Points)\n",
    "\n",
    "Extend `Q4Vertex` in a class `Q5Vertex` that adds a function:\n",
    "```python\n",
    "    def in_order_upper_case (self):\n",
    "```\n",
    "that returns the in-order traversal of the tree and returns the words as a string which concatenates each word separated by a space into a single string.\n",
    "\n",
    "For example:\n",
    "```python\n",
    "    vertex.in_order_upper_case()\n",
    "```\n",
    "would return a string: `'A HIDDEN VALLEY'`."
   ]
  },
  {
   "cell_type": "code",
   "execution_count": 7,
   "metadata": {
    "deletable": false,
    "nbgrader": {
     "cell_type": "code",
     "checksum": "9e2433668a0b0ac514f13b590823be99",
     "grade": false,
     "grade_id": "q5",
     "locked": false,
     "schema_version": 3,
     "solution": true,
     "task": false
    },
    "tags": []
   },
   "outputs": [],
   "source": [
    "class Q5Vertex(Q4Vertex):\n",
    "    def in_order_upper_case(self):\n",
    "        '''\n",
    "        Returns a string of all words in in-order traversal,\n",
    "        converted to uppercase and separated by spaces.\n",
    "        '''\n",
    "        words = []\n",
    "\n",
    "        def in_order(node):\n",
    "            if node:\n",
    "                in_order(node.get_left())                  # Traverse left subtree\n",
    "                words.append(node.get_value().upper())     # Add current word in UPPERCASE\n",
    "                in_order(node.get_right())                 # Traverse right subtree\n",
    "\n",
    "        in_order(self)  # Start from root (self)\n",
    "        return \" \".join(words)  # Concatenate with space\n"
   ]
  },
  {
   "cell_type": "code",
   "execution_count": 8,
   "metadata": {},
   "outputs": [],
   "source": [
    "# Sample test case\n",
    "\n",
    "vv = Q5Vertex(\"Hidden\")\n",
    "vv.insert_word(\"a\")\n",
    "vv.insert_word(\"valley\")\n",
    "assert vv.in_order_upper_case() == 'A HIDDEN VALLEY'"
   ]
  },
  {
   "cell_type": "code",
   "execution_count": null,
   "metadata": {
    "deletable": false,
    "editable": false,
    "nbgrader": {
     "cell_type": "code",
     "checksum": "851c52d42cf86638862fb66dbec66ee2",
     "grade": true,
     "grade_id": "q5-in-order-traversal",
     "locked": true,
     "points": 15,
     "schema_version": 3,
     "solution": false,
     "task": false
    }
   },
   "outputs": [],
   "source": [
    "# Testing Cell (Do NOT modify this cell)"
   ]
  },
  {
   "cell_type": "markdown",
   "metadata": {},
   "source": [
    "#### Question 6 &nbsp;&nbsp;&nbsp;&nbsp;&nbsp;&nbsp;(15 Points)\n",
    "\n",
    "Create a class Q6BinarySearchTree that implements a binary search tree for words in a sentence and sorts them alphabetically ignoring case. The constructor should take a sentence such as:\n",
    "`\"Loveliest of trees the cherry now Is hung with bloom along the bough\"` and separate individual words before adding them to the contained BST.\n",
    "\n",
    "```python\n",
    "class Q6BinarySearchTree(): \n",
    "    def __init__(self, sentence):\n",
    "```   \n",
    "The tree should have a method:\n",
    "```python\n",
    "    def contains(self, word):\n",
    "```   \n",
    "that searches the BST for a word and returns `True` when the word appears in the sentence **ignoring case**. For example, given the sentence above:\n",
    "```python\n",
    "    tree = Q6BinarySearchTree(\"Loveliest of trees the cherry now ...\")\n",
    "    tree.contains(\"the\") == True\n",
    "    tree.contains(\"THE\") == True # Because case ignored\n",
    "    tree.contains(\"python\") == False\n",
    "```"
   ]
  },
  {
   "cell_type": "code",
   "execution_count": 9,
   "metadata": {
    "deletable": false,
    "nbgrader": {
     "cell_type": "code",
     "checksum": "1e3c3880be063e0e9505c9faba3e330d",
     "grade": false,
     "grade_id": "q6",
     "locked": false,
     "schema_version": 3,
     "solution": true,
     "task": false
    },
    "tags": []
   },
   "outputs": [],
   "source": [
    "class Q6BinarySearchTree:\n",
    "    def __init__(self, sentence):\n",
    "        # Split sentence into words and ignore empty strings\n",
    "        words = sentence.split()\n",
    "\n",
    "        # Initialize root with the first word using Q5Vertex\n",
    "        if words:\n",
    "            self.root = Q5Vertex(words[0])\n",
    "            for word in words[1:]:\n",
    "                self.root.insert_word(word)\n",
    "        else:\n",
    "            self.root = None  # Handle empty sentence\n",
    "\n",
    "    def contains(self, word):\n",
    "        '''\n",
    "        Returns True if the word is in the tree, ignoring case.\n",
    "        '''\n",
    "        current = self.root\n",
    "        word_lower = word.lower()\n",
    "\n",
    "        while current:\n",
    "            current_word = current.get_value().lower()\n",
    "\n",
    "            if word_lower == current_word:\n",
    "                return True\n",
    "            elif word_lower < current_word:\n",
    "                current = current.get_left()\n",
    "            else:\n",
    "                current = current.get_right()\n",
    "\n",
    "        return False\n"
   ]
  },
  {
   "cell_type": "code",
   "execution_count": 10,
   "metadata": {},
   "outputs": [],
   "source": [
    "# Sample test cases\n",
    "\n",
    "tree = Q6BinarySearchTree(\"Loveliest of trees the cherry now ...\")\n",
    "assert tree.contains(\"the\")\n",
    "assert tree.contains(\"THE\") # Because case ignored\n",
    "assert not tree.contains(\"python\")"
   ]
  },
  {
   "cell_type": "code",
   "execution_count": null,
   "metadata": {
    "deletable": false,
    "editable": false,
    "nbgrader": {
     "cell_type": "code",
     "checksum": "b212f12f748c913aee9c5853acea9708",
     "grade": true,
     "grade_id": "q6-bst",
     "locked": true,
     "points": 15,
     "schema_version": 3,
     "solution": false,
     "task": false
    }
   },
   "outputs": [],
   "source": [
    "# Testing Cell (Do NOT modify this cell)"
   ]
  },
  {
   "cell_type": "markdown",
   "metadata": {},
   "source": [
    "#### Question 7 &nbsp;&nbsp;&nbsp;&nbsp;&nbsp;&nbsp;(15 Points)\n",
    "\n",
    "Extend `Q6BinarySearchTree` in a class `Q7BinarySearchTree` that is capable of storing at each vertex of the BST both the word and the number of times it occurs in the sentence passed to the constructor. To do this, you will need to create a new vertex class that extends a tree vertex class from a previous question. Words are added to the tree alphabetically in **lower case**. \n",
    "\n",
    "Your class must include a method `frequency` that traverses the tree in order and returns a list of tuples where each tuple consists of the (word, occurrences) - where occurrences is the number of times the word occurs in the sentence.\n",
    "```python\n",
    "class Q7BinarySearchTree(Q6BinarySearchTree):\n",
    "    def __init__(self, sentence):\n",
    "        ''' \n",
    "        Accepts an input sentence, converts it to lowercase and splits into\n",
    "        words which are stored in the BST alphabetically ignoring case.\n",
    "        '''\n",
    "        \n",
    "    def frequency(self):    \n",
    "        '''\n",
    "        Returns a list of tuples containing the in-order traversal of the  \n",
    "        tree and the number of times the word appears in the sentence.\n",
    "        Returned values are in lower case.\n",
    "        '''\n",
    "```\n",
    "For example, given a sentence `\"a A tree repeats\"` the function `frequency` would return a list: </br>\n",
    "`[('a', 2), ('repeats', 1), ('tree', 1)]`</br>\n",
    "because the sentence contains two instances of 'a' when converted to lower case.\n"
   ]
  },
  {
   "cell_type": "code",
   "execution_count": 11,
   "metadata": {
    "deletable": false,
    "nbgrader": {
     "cell_type": "code",
     "checksum": "2037e5e054247efa5e53ce8e5291152a",
     "grade": false,
     "grade_id": "q7",
     "locked": false,
     "schema_version": 3,
     "solution": true,
     "task": false
    },
    "tags": []
   },
   "outputs": [],
   "source": [
    "class Q7Vertex(TreeVertex):\n",
    "    def __init__(self, word):\n",
    "        super().__init__(word.lower())  # Store word in lowercase\n",
    "        self._count = 1                 # First insertion = count 1\n",
    "\n",
    "    def insert_word(self, word):\n",
    "        word = word.lower()\n",
    "        current = self\n",
    "        while True:\n",
    "            if word == current.get_value():\n",
    "                current._count += 1     # Increment if duplicate\n",
    "                break\n",
    "            elif word < current.get_value():\n",
    "                if current.get_left() is None:\n",
    "                    current.set_left(Q7Vertex(word))\n",
    "                    break\n",
    "                current = current.get_left()\n",
    "            else:\n",
    "                if current.get_right() is None:\n",
    "                    current.set_right(Q7Vertex(word))\n",
    "                    break\n",
    "                current = current.get_right()\n",
    "\n",
    "    def get_count(self):\n",
    "        return self._count\n",
    "class Q7BinarySearchTree(Q6BinarySearchTree):\n",
    "    def __init__(self, sentence):\n",
    "        words = sentence.lower().split()\n",
    "        if words:\n",
    "            self.root = Q7Vertex(words[0])\n",
    "            for word in words[1:]:\n",
    "                self.root.insert_word(word)\n",
    "        else:\n",
    "            self.root = None\n",
    "\n",
    "    def frequency(self):\n",
    "        result = []\n",
    "\n",
    "        def in_order(node):\n",
    "            if node:\n",
    "                in_order(node.get_left())\n",
    "                result.append((node.get_value(), node.get_count()))\n",
    "                in_order(node.get_right())\n",
    "\n",
    "        in_order(self.root)\n",
    "        return result\n"
   ]
  },
  {
   "cell_type": "code",
   "execution_count": 12,
   "metadata": {},
   "outputs": [],
   "source": [
    "# Sample test case\n",
    "\n",
    "q7 = Q7BinarySearchTree(\"a A tree repeats\")\n",
    "# This list is ordered by in-order traversal\n",
    "assert q7.frequency() == [('a', 2), ('repeats', 1), ('tree', 1)]\n"
   ]
  },
  {
   "cell_type": "markdown",
   "metadata": {},
   "source": [
    "\n",
    "## 🧪 Q5. Student ID Binary Search Tree (40 Points)\n",
    "\n",
    "You are given an **unsorted list of student IDs** such as:\n",
    "\n",
    "```python\n",
    "['s2023001', 's2023099', 's2023056', 's2023009', 's2023012', 's2023080', 's2023077']\n",
    "```\n",
    "\n",
    "Your task is to implement a **Binary Search Tree (BST)** that stores these student IDs in **sorted order**. You are required to:\n",
    "\n",
    "---\n",
    "\n",
    "### 🔧 Instructions:\n",
    "\n",
    "- Use the provided `TreeVertex` class to represent each node in the tree.\n",
    "- Create a class called `StudentIDSearchTree` that implements the following methods:\n",
    "\n",
    "---\n",
    "\n",
    "### 🧩 Required Methods:\n",
    "\n",
    "| Method | Description |\n",
    "|--------|-------------|\n",
    "| `insert(student_id)` | Inserts a student ID into the tree |\n",
    "| `delete(student_id)` | Deletes a student ID from the tree |\n",
    "| `find(student_id)` | Returns `True` if the ID exists, otherwise `False` |\n",
    "| `all_sorted_ids()` | Returns all student IDs in sorted (in-order) order |\n",
    "| `print_values()` | Prints the student IDs in sorted order or `\"empty root\"` if tree is empty |\n",
    "| `get_height()` | Returns the height (maximum depth) of the tree |\n",
    "| `count_nodes()` | Returns the total number of nodes in the tree |\n",
    "| `is_valid_bst()` | Returns `True` if the tree structure satisfies BST rules |\n",
    "| `trim_tree(low, high)` | Removes nodes not in the specified inclusive range of IDs |\n",
    "\n",
    "> **Note:** You **must** implement these using BST logic — **do not use list sorting functions**.\n",
    "\n",
    "---\n",
    "\n",
    "### ✅ Example Usage:\n",
    "\n",
    "After inserting all student IDs, a call to:\n",
    "\n",
    "```python\n",
    "tree.all_sorted_ids()\n",
    "```\n",
    "\n",
    "Should return:\n",
    "\n",
    "```python\n",
    "['s2023001', 's2023009', 's2023012', 's2023056', 's2023077', 's2023080', 's2023099']\n",
    "```\n",
    "\n",
    "---\n",
    "\n",
    "### 📌 Requirements:\n",
    "\n",
    "- Apply **Object-Oriented Programming (OOP)** principles for both `TreeVertex` and `StudentIDSearchTree` classes.\n",
    "- Provide at least **one test case** for each method.\n",
    "- Ensure all **string comparisons** follow **lexicographical order** (default Python `<`, `>`, `==` behavior for strings).\n"
   ]
  },
  {
   "cell_type": "code",
   "execution_count": 13,
   "metadata": {},
   "outputs": [],
   "source": [
    "class TreeVertex:\n",
    "    def __init__(self, value=None):\n",
    "        self._value = value\n",
    "        self._left = None\n",
    "        self._right = None\n",
    "        self._parent = None  # Optional: used for easier upward traversal\n",
    "\n",
    "    def get_value(self):\n",
    "        return self._value\n",
    "\n",
    "    def set_value(self, value):\n",
    "        self._value = value\n",
    "\n",
    "    def get_left(self):\n",
    "        return self._left\n",
    "\n",
    "    def set_left(self, new_left):\n",
    "        self._left = new_left\n",
    "        if new_left:\n",
    "            new_left._parent = self\n",
    "\n",
    "    def get_right(self):\n",
    "        return self._right\n",
    "\n",
    "    def set_right(self, new_right):\n",
    "        self._right = new_right\n",
    "        if new_right:\n",
    "            new_right._parent = self\n",
    "\n",
    "    def get_parent(self):\n",
    "        return self._parent\n",
    "\n",
    "    def set_parent(self, parent):\n",
    "        self._parent = parent\n",
    "\n",
    "    def num_children(self):\n",
    "        count = 0\n",
    "        if self._left:\n",
    "            count += 1\n",
    "        if self._right:\n",
    "            count += 1\n",
    "        return count\n",
    "\n",
    "\n",
    "    def only_child(self):\n",
    "        return self._left if self._left else self._right\n",
    "\n",
    "    def min_value(self):\n",
    "        current = self\n",
    "        while current.get_left():\n",
    "            current = current.get_left()\n",
    "        return current.get_value()\n",
    "\n",
    "    def __str__(self):\n",
    "        return self._value\n"
   ]
  },
  {
   "cell_type": "code",
   "execution_count": 14,
   "metadata": {},
   "outputs": [],
   "source": [
    "class StudentIDSearchTree:\n",
    "    def __init__(self):\n",
    "        # Initialize the BST with an empty root node\n",
    "        self.root = None\n",
    "\n",
    "    def insert(self, student_id):\n",
    "        # Create a new TreeVertex with the given student ID\n",
    "        new_node = TreeVertex(student_id)\n",
    "\n",
    "        # If the tree is empty, assign root to the new node\n",
    "        if not self.root:\n",
    "            self.root = new_node\n",
    "            return\n",
    "\n",
    "        # Start traversal from the root\n",
    "        current = self.root\n",
    "        while True:\n",
    "            # If the new ID is less than current, go left\n",
    "            if student_id < current.get_value():\n",
    "                # If left child doesn't exist, insert here\n",
    "                if not current.get_left():\n",
    "                    current.set_left(new_node)\n",
    "                    break\n",
    "                # Move to the left child\n",
    "                current = current.get_left()\n",
    "            # If the new ID is greater than current, go right\n",
    "            elif student_id > current.get_value():\n",
    "                # If right child doesn't exist, insert here\n",
    "                if not current.get_right():\n",
    "                    current.set_right(new_node)\n",
    "                    break\n",
    "                # Move to the right child\n",
    "                current = current.get_right()\n",
    "            else:\n",
    "                # Duplicate value found, do not insert\n",
    "                break\n",
    "\n",
    "    def find(self, student_id):\n",
    "        # Start searching from the root\n",
    "        current = self.root\n",
    "        while current:\n",
    "            # Return True if match found\n",
    "            if student_id == current.get_value():\n",
    "                return True\n",
    "            # Go left if target is smaller\n",
    "            elif student_id < current.get_value():\n",
    "                current = current.get_left()\n",
    "            # Go right if target is larger\n",
    "            else:\n",
    "                current = current.get_right()\n",
    "        # If traversal ends, ID not found\n",
    "        return False\n",
    "\n",
    "    def search_vertex(self, value):\n",
    "        # Helper method: returns (found, node, parent)\n",
    "        parent = None\n",
    "        current = self.root\n",
    "        while current:\n",
    "            # Return node and parent if match is found\n",
    "            if current.get_value() == value:\n",
    "                return True, current, parent\n",
    "            # Update parent and go left\n",
    "            elif value < current.get_value():\n",
    "                parent = current\n",
    "                current = current.get_left()\n",
    "            # Update parent and go right\n",
    "            else:\n",
    "                parent = current\n",
    "                current = current.get_right()\n",
    "        # Not found case\n",
    "        return False, None, None\n",
    "\n",
    "    def delete(self, value):\n",
    "        # Search for the node and its parent\n",
    "        found, vertex, parent = self.search_vertex(value)\n",
    "\n",
    "        # If value doesn't exist, return False\n",
    "        if not found:\n",
    "            return False\n",
    "\n",
    "        # Count the number of children the node has\n",
    "        children = vertex.num_children()\n",
    "\n",
    "        if children == 0:\n",
    "            # Case 1: No children (leaf node)\n",
    "            if parent is None:\n",
    "                self.root = None  # Deleting root\n",
    "            elif parent.get_left() == vertex:\n",
    "                parent.set_left(None)  # Remove from left of parent\n",
    "            else:\n",
    "                parent.set_right(None)  # Remove from right of parent\n",
    "\n",
    "        elif children == 1:\n",
    "            # Case 2: One child\n",
    "            child = vertex.only_child()  # Get the only child\n",
    "            if parent is None:\n",
    "                self.root = child  # Replace root with child\n",
    "                child.set_parent(None)\n",
    "            elif parent.get_left() == vertex:\n",
    "                parent.set_left(child)  # Attach child to left of parent\n",
    "            else:\n",
    "                parent.set_right(child)  # Attach child to right of parent\n",
    "\n",
    "        else:\n",
    "            # Case 3: Two children\n",
    "            # Find the in-order successor value (smallest in right subtree)\n",
    "            successor_value = vertex.get_right().min_value()\n",
    "            # Delete that successor node (guaranteed to be leaf or one-child)\n",
    "            self.delete(successor_value)\n",
    "            # Replace current node's value with successor's value\n",
    "            vertex.set_value(successor_value)\n",
    "\n",
    "        return True\n",
    "\n",
    "    def all_sorted_ids(self):\n",
    "        # Returns all student IDs in in-order traversal (sorted)\n",
    "        result = []\n",
    "\n",
    "        def in_order(node):\n",
    "            if node:\n",
    "                in_order(node.get_left())           # Visit left subtree\n",
    "                result.append(node.get_value())     # Visit current node\n",
    "                in_order(node.get_right())          # Visit right subtree\n",
    "\n",
    "        in_order(self.root)\n",
    "        return result\n",
    "\n",
    "    def print_values(self):\n",
    "        # Prints sorted IDs or 'empty root' if tree is empty\n",
    "        if self.root is None:\n",
    "            print(\"empty root\")\n",
    "            return\n",
    "\n",
    "        def in_order(node):\n",
    "            if node:\n",
    "                in_order(node.get_left())           # Traverse left\n",
    "                print(node.get_value(), end=' ')    # Print current node\n",
    "                in_order(node.get_right())          # Traverse right\n",
    "\n",
    "        in_order(self.root)\n",
    "        print()  # Newline after printing\n",
    "\n",
    "    def get_height(self):\n",
    "        # Returns height of the tree (-1 for empty tree)\n",
    "        def height(node):\n",
    "            if node is None:\n",
    "                return -1\n",
    "            return 1 + max(height(node.get_left()), height(node.get_right()))\n",
    "\n",
    "        return height(self.root)\n",
    "\n",
    "    def count_nodes(self):\n",
    "        # Returns total number of nodes in the tree\n",
    "        def count(node):\n",
    "            if node is None:\n",
    "                return 0\n",
    "            return 1 + count(node.get_left()) + count(node.get_right())\n",
    "\n",
    "        return count(self.root)\n",
    "\n",
    "    def is_valid_bst(self):\n",
    "        # Validates whether the tree satisfies BST properties\n",
    "        def validate(node, low, high):\n",
    "            if node is None:\n",
    "                return True\n",
    "            val = node.get_value()\n",
    "            if (low is not None and val <= low) or (high is not None and val >= high):\n",
    "                return False\n",
    "            return validate(node.get_left(), low, val) and validate(node.get_right(), val, high)\n",
    "\n",
    "        return validate(self.root, None, None)\n",
    "\n",
    "    def trim_tree(self, low, high):\n",
    "        # Removes all values not in the range [low, high]\n",
    "\n",
    "        def trim(node):\n",
    "            if node is None:\n",
    "                return None\n",
    "            # If node value is less than low, discard left and trim right\n",
    "            if node.get_value() < low:\n",
    "                return trim(node.get_right())\n",
    "            # If node value is greater than high, discard right and trim left\n",
    "            elif node.get_value() > high:\n",
    "                return trim(node.get_left())\n",
    "            else:\n",
    "                # Recursively trim both sides\n",
    "                node.set_left(trim(node.get_left()))\n",
    "                node.set_right(trim(node.get_right()))\n",
    "                return node\n",
    "\n",
    "        # Update the root with trimmed tree\n",
    "        self.root = trim(self.root)\n"
   ]
  }
 ],
 "metadata": {
  "kernelspec": {
   "display_name": "first_test",
   "language": "python",
   "name": "python3"
  },
  "language_info": {
   "codemirror_mode": {
    "name": "ipython",
    "version": 3
   },
   "file_extension": ".py",
   "mimetype": "text/x-python",
   "name": "python",
   "nbconvert_exporter": "python",
   "pygments_lexer": "ipython3",
   "version": "3.10.13"
  },
  "otter": {
   "tests": {
    "q1": {
     "name": "q1",
     "points": 1,
     "suites": [
      {
       "cases": [],
       "scored": true,
       "setup": "",
       "teardown": "",
       "type": "doctest"
      }
     ]
    },
    "q10": {
     "name": "q10",
     "points": 4,
     "suites": [
      {
       "cases": [],
       "scored": true,
       "setup": "",
       "teardown": "",
       "type": "doctest"
      }
     ]
    },
    "q11": {
     "name": "q11",
     "points": 6,
     "suites": [
      {
       "cases": [],
       "scored": true,
       "setup": "",
       "teardown": "",
       "type": "doctest"
      }
     ]
    },
    "q12": {
     "name": "q12",
     "points": 6,
     "suites": [
      {
       "cases": [],
       "scored": true,
       "setup": "",
       "teardown": "",
       "type": "doctest"
      }
     ]
    },
    "q13": {
     "name": "q13",
     "points": 6,
     "suites": [
      {
       "cases": [],
       "scored": true,
       "setup": "",
       "teardown": "",
       "type": "doctest"
      }
     ]
    },
    "q14": {
     "name": "q14",
     "points": 6,
     "suites": [
      {
       "cases": [],
       "scored": true,
       "setup": "",
       "teardown": "",
       "type": "doctest"
      }
     ]
    },
    "q15": {
     "name": "q15",
     "points": 6,
     "suites": [
      {
       "cases": [],
       "scored": true,
       "setup": "",
       "teardown": "",
       "type": "doctest"
      }
     ]
    },
    "q16": {
     "name": "q16",
     "points": 6,
     "suites": [
      {
       "cases": [],
       "scored": true,
       "setup": "",
       "teardown": "",
       "type": "doctest"
      }
     ]
    },
    "q17": {
     "name": "q17",
     "points": 8,
     "suites": [
      {
       "cases": [],
       "scored": true,
       "setup": "",
       "teardown": "",
       "type": "doctest"
      }
     ]
    },
    "q18": {
     "name": "q18",
     "points": 8,
     "suites": [
      {
       "cases": [],
       "scored": true,
       "setup": "",
       "teardown": "",
       "type": "doctest"
      }
     ]
    },
    "q19": {
     "name": "q19",
     "points": 12,
     "suites": [
      {
       "cases": [],
       "scored": true,
       "setup": "",
       "teardown": "",
       "type": "doctest"
      }
     ]
    },
    "q2": {
     "name": "q2",
     "points": 1,
     "suites": [
      {
       "cases": [],
       "scored": true,
       "setup": "",
       "teardown": "",
       "type": "doctest"
      }
     ]
    },
    "q20": {
     "name": "q20",
     "points": 12,
     "suites": [
      {
       "cases": [],
       "scored": true,
       "setup": "",
       "teardown": "",
       "type": "doctest"
      }
     ]
    },
    "q3": {
     "name": "q3",
     "points": 1,
     "suites": [
      {
       "cases": [],
       "scored": true,
       "setup": "",
       "teardown": "",
       "type": "doctest"
      }
     ]
    },
    "q4": {
     "name": "q4",
     "points": 1,
     "suites": [
      {
       "cases": [],
       "scored": true,
       "setup": "",
       "teardown": "",
       "type": "doctest"
      }
     ]
    },
    "q5": {
     "name": "q5",
     "points": 2,
     "suites": [
      {
       "cases": [],
       "scored": true,
       "setup": "",
       "teardown": "",
       "type": "doctest"
      }
     ]
    },
    "q6": {
     "name": "q6",
     "points": 2,
     "suites": [
      {
       "cases": [],
       "scored": true,
       "setup": "",
       "teardown": "",
       "type": "doctest"
      }
     ]
    },
    "q7": {
     "name": "q7",
     "points": 4,
     "suites": [
      {
       "cases": [],
       "scored": true,
       "setup": "",
       "teardown": "",
       "type": "doctest"
      }
     ]
    },
    "q8": {
     "name": "q8",
     "points": 4,
     "suites": [
      {
       "cases": [],
       "scored": true,
       "setup": "",
       "teardown": "",
       "type": "doctest"
      }
     ]
    },
    "q9": {
     "name": "q9",
     "points": 4,
     "suites": [
      {
       "cases": [],
       "scored": true,
       "setup": "",
       "teardown": "",
       "type": "doctest"
      }
     ]
    }
   }
  },
  "varInspector": {
   "cols": {
    "lenName": 16,
    "lenType": 16,
    "lenVar": 40
   },
   "kernels_config": {
    "python": {
     "delete_cmd_postfix": "",
     "delete_cmd_prefix": "del ",
     "library": "var_list.py",
     "varRefreshCmd": "print(var_dic_list())"
    },
    "r": {
     "delete_cmd_postfix": ") ",
     "delete_cmd_prefix": "rm(",
     "library": "var_list.r",
     "varRefreshCmd": "cat(var_dic_list()) "
    }
   },
   "types_to_exclude": [
    "module",
    "function",
    "builtin_function_or_method",
    "instance",
    "_Feature"
   ],
   "window_display": false
  }
 },
 "nbformat": 4,
 "nbformat_minor": 4
}
