{
 "cells": [
  {
   "cell_type": "markdown",
   "id": "52105c83",
   "metadata": {},
   "source": [
    "# B4_T11 Graph Searching (CLEAN VERSION)\n",
    "\n",
    "_All problems fully solved and codes refactored._"
   ]
  },
  {
   "cell_type": "markdown",
   "id": "af6443e3",
   "metadata": {},
   "source": [
    "### Instructions:\n",
    "\n",
    "- You can attempt any number of questions and in any order.  \n",
    "  See the assignment page for a description of the hurdle requirement for this assessment.\n",
    "- You may submit your practical for autograding as many times as you like to check on progress, however you will save time by checking and testing your own code before submitting.\n",
    "- Develop and check your answers in the spaces provided.\n",
    "- **Replace** the code `raise NotImplementedError()` with your solution to the question.\n",
    "- Do **NOT** remove any variables other provided markings already provided in the answer spaces.\n",
    "- Do **NOT** make any changes to this notebook outside of the spaces indicated.  \n",
    "  (If you do this, the submission system might not accept your work)\n",
    "\n",
    "### Submitting:\n",
    "\n",
    "1. Before you turn this problem in, make sure everything runs as expected by resetting this notebook.    \n",
    "   (You can do this from the menubar above by selecting `Kernel`&#8594;`Restart Kernel and Run All Cells...`)\n",
    "1. Don't forget to save your notebook after this step.\n",
    "1. Submit your .ipynb file to Gradescope via file upload or GitHub repository.\n",
    "1. You can submit as many times as needed.\n",
    "1. You **must** give your submitted file the **identical** filename to that which you downloaded without changing **any** aspects - spaces, underscores, capitalisation etc. If your operating system has changed the filename because you downloaded the file twice or more you **must** also fix this.  \n",
    "\n"
   ]
  },
  {
   "cell_type": "markdown",
   "id": "5eb910e4",
   "metadata": {},
   "source": [
    "---"
   ]
  },
  {
   "cell_type": "markdown",
   "id": "6b438831",
   "metadata": {
    "tags": []
   },
   "source": [
    "# <mark style=\"background: #843fa1; color: #ffffff;\" >&nbsp;B4&nbsp;</mark>&ensp;Topic 11: Graph Searching"
   ]
  },
  {
   "cell_type": "markdown",
   "id": "f1a7d8c7",
   "metadata": {},
   "source": [
    "This practical assumes that you are familiar with the object-oriented sample implementation of graphs presented in the course. This reference code is provided to allow you to extend the provided classes using (single or multi-level) inheritance. Do not modify this base code (which the autograder also relies upon) but rather extend the classes in order to answer the questions below. If you prefer to create your own base classes, simply use different class names.\n",
    "\n",
    "You are not compelled to make use of the provided code and may answer the questions as you see fit."
   ]
  },
  {
   "cell_type": "code",
   "execution_count": 1,
   "id": "8b0ef82f",
   "metadata": {},
   "outputs": [],
   "source": [
    "# Do not modify this cell.\n",
    "\n",
    "class GraphVertex:\n",
    "\n",
    "    def __init__(self, vertex_id = None):\n",
    "        self._id = vertex_id\n",
    "        self._adjacent = dict()\n",
    "\n",
    "    def __str__(self):\n",
    "        return 'id: ' + str(self._id) + ', adjacent: ' + str([x._id for x in self._adjacent.values()])\n",
    "\n",
    "    def add_neighbour(self, neighbour):\n",
    "        self._adjacent[neighbour._id] = neighbour\n",
    "\n",
    "    def get_connections(self):\n",
    "        return self._adjacent.values()\n",
    "\n",
    "    def set_id(self, vertex_id):\n",
    "        self._id = vertex_id\n",
    "\n",
    "    def get_id(self):\n",
    "        return self._id\n",
    "\n",
    "class Graph:\n",
    "\n",
    "    def __init__(self):\n",
    "        self._vertex_dict = dict()\n",
    "\n",
    "    def print_graph(self):\n",
    "        for v in self._vertex_dict.values():\n",
    "            print (v)\n",
    "\n",
    "    def add_vertex(self, vertex_id):\n",
    "        v = GraphVertex(vertex_id)\n",
    "        self._vertex_dict[vertex_id] = v\n",
    "        return v\n",
    "\n",
    "    def get_vertex(self, vertex_id):\n",
    "        return self._vertex_dict[vertex_id]\n",
    "\n",
    "    def get_vertex_dict (self):\n",
    "        return self._vertex_dict\n",
    "\n",
    "    def add_edge (self, v1, v2):\n",
    "        v1.add_neighbour (v2)\n",
    "        v2.add_neighbour (v1)"
   ]
  },
  {
   "cell_type": "markdown",
   "id": "bcb6ad94",
   "metadata": {},
   "source": [
    "#### Question 01 &nbsp;&nbsp;&nbsp;&nbsp;&nbsp;&nbsp;(5 Points)\n",
    "\n",
    "Write a class `Q1Vertex` with protected instance variables `id` and `weight`. Add (or inherit) the following public methods:\n",
    "```python\n",
    "    def set_id (self, vertex_id):\n",
    "        ...\n",
    "    def get_id (self):\n",
    "        ...    \n",
    "    def set_weight (self, weight):\n",
    "        ...\n",
    "    def get_weight (self):\n",
    "        ...    \n",
    "```"
   ]
  },
  {
   "cell_type": "code",
   "execution_count": 2,
   "id": "24b98624",
   "metadata": {},
   "outputs": [],
   "source": [
    "class Q1Vertex:\n",
    "\n",
    "    def __init__(self, vertex_id = None, weight=None):\n",
    "        self._id = vertex_id\n",
    "        self._weight = weight\n",
    "        self._undirect_adjacent = []\n",
    "        self._direct_adjacent = dict()\n",
    "\n",
    "    def set_id (self, vertex_id):\n",
    "        self._id = vertex_id\n",
    "\n",
    "    def get_id (self):\n",
    "        return self._id\n",
    "\n",
    "    def set_weight (self, weight):\n",
    "        self._weight = weight\n",
    "\n",
    "    def get_weight (self):\n",
    "        return self._weight"
   ]
  },
  {
   "cell_type": "code",
   "execution_count": 3,
   "id": "34d8d400",
   "metadata": {},
   "outputs": [],
   "source": [
    "# Testing Cell (Do NOT modify this cell)"
   ]
  },
  {
   "cell_type": "markdown",
   "id": "a1ce8639",
   "metadata": {},
   "source": [
    "#### Question 02 &nbsp;&nbsp;&nbsp;&nbsp;&nbsp;&nbsp;(5 Points)\n",
    "\n",
    "Extend `Q1Vertex` to create a class `Q2Vertex` to allow a neighbour to be added via an undirected, weighted edge as follows:\n",
    "```python\n",
    "class Q2Vertex(Q1Vertex):\n",
    "    ...\n",
    "    def add_undirected (self, vertex, edge_weight):\n",
    "        ''' Add a neighbouring vertex with the given edge weighting.'''\n",
    "        \n",
    "    def get_neighbours (self):\n",
    "        ''' Return a list of neighbours as tuples of (id, edge_weight). '''\n",
    "```\n",
    "For example, given three neighbouring vertices with id's '2', '3' & '4' and weightings to those vertices of '3.4', '4.7' & '1.4' respectively, `get_neighbours` would return a list `[('2', 3.4), ('3', 4.7), ('4', 1.4)]`. \n"
   ]
  },
  {
   "cell_type": "code",
   "execution_count": 4,
   "id": "8bcec9dd",
   "metadata": {},
   "outputs": [],
   "source": [
    "class Q2Vertex(Q1Vertex):\n",
    "\n",
    "\n",
    "    def add_undirected (self, vertex, edge_weight):\n",
    "        self._undirect_adjacent.append((vertex, edge_weight))\n",
    "\n",
    "    def get_neighbours (self):\n",
    "        neighbours = []\n",
    "        for neighbour in self._undirect_adjacent:\n",
    "            neighbours.append((neighbour[0].get_id(), neighbour[1]))\n",
    "        return neighbours"
   ]
  },
  {
   "cell_type": "code",
   "execution_count": 5,
   "id": "4aeb0e88",
   "metadata": {},
   "outputs": [],
   "source": [
    "# Sample test case\n",
    "\n",
    "v1 = Q2Vertex('1')\n",
    "v2 = Q2Vertex('2')\n",
    "v3 = Q2Vertex('3')\n",
    "v4 = Q2Vertex('4')\n",
    "v1.add_undirected (v2, 3.4)\n",
    "v1.add_undirected (v3, 4.7)\n",
    "v1.add_undirected (v4, 1.4)\n",
    "\n",
    "n = v1.get_neighbours()\n",
    "assert ('2', 3.4) in n and ('3', 4.7) in n and ('4', 1.4) in n"
   ]
  },
  {
   "cell_type": "code",
   "execution_count": 6,
   "id": "cb9ff717",
   "metadata": {},
   "outputs": [],
   "source": [
    "# Testing Cell (Do NOT modify this cell)"
   ]
  },
  {
   "cell_type": "markdown",
   "id": "3ac227d4",
   "metadata": {},
   "source": [
    "#### Question 03 &nbsp;&nbsp;&nbsp;&nbsp;&nbsp;&nbsp;(10 Points)\n",
    "\n",
    "Extend `Q2Vertex` to create a class `Q3Vertex` with a function that returns the degree of the vertex:\n",
    "```python\n",
    "class Q3Vertex(Q2Vertex):\n",
    "    def degree(self):\n",
    "        ''' \n",
    "        Return the degree of this vertex as the number of edges\n",
    "        that connect this vertex to others.\n",
    "        '''\n",
    "```    "
   ]
  },
  {
   "cell_type": "code",
   "execution_count": 7,
   "id": "e7a2e27a",
   "metadata": {},
   "outputs": [],
   "source": [
    "class Q3Vertex(Q2Vertex):\n",
    "    def degree(self):\n",
    "        return len(self._undirect_adjacent)"
   ]
  },
  {
   "cell_type": "code",
   "execution_count": 8,
   "id": "1375853a",
   "metadata": {},
   "outputs": [],
   "source": [
    "# Sample test case\n",
    "\n",
    "v1 = Q3Vertex('1')\n",
    "v2 = Q3Vertex('2')\n",
    "v3 = Q3Vertex('3')\n",
    "v4 = Q3Vertex('4')\n",
    "v1.add_undirected (v2, 3.4)\n",
    "v1.add_undirected (v3, 4.7)\n",
    "v1.add_undirected (v4, 1.4)\n",
    "\n",
    "assert v1.degree() == 3"
   ]
  },
  {
   "cell_type": "code",
   "execution_count": 9,
   "id": "45bfbca2",
   "metadata": {},
   "outputs": [],
   "source": [
    "# Testing Cell (Do NOT modify this cell)"
   ]
  },
  {
   "cell_type": "markdown",
   "id": "b125eea5",
   "metadata": {},
   "source": [
    "#### Question 04 &nbsp;&nbsp;&nbsp;&nbsp;&nbsp;&nbsp;(10 Points)\n",
    "\n",
    "Extend `Q3Vertex` to create a class `Q4Vertex` that supports a directed graph with the function `add_directed` that indicates with the flag `traversable` whether the edge can be traversed from `self` to `target_vertex`. Secondly, add a function that returns True when a vertex (**identified by id**) is adjacent and traversable. \n",
    "```python\n",
    "class Q4Vertex(Q3Vertex):\n",
    "    ...\n",
    "    def add_directed (self, target_vertex, edge_weight, traversable):\n",
    "        '''\n",
    "        Add a neighbouring vertex object with the given edge weighting that records if the edge is traversable.\n",
    "        '''\n",
    "    def is_adjacent (self, target_id):\n",
    "        '''\n",
    "        Returns True when the target_id identifies a vertex that is adjacent and traversable. Otherwise False.\n",
    "        '''\n",
    "```\n",
    "For example, given an edge-weighted directed graph:</br>\n",
    "<img src=\"https://i.stack.imgur.com/7C2kD.png\" alt=\"edge-weighted directed graph\" style=\"height: 307px; width: 503px; align: left\"></br>\n",
    "A call to `vertex_B.is_adjacent('C')` would return `True`."
   ]
  },
  {
   "cell_type": "code",
   "execution_count": 10,
   "id": "dcbaf834",
   "metadata": {},
   "outputs": [],
   "source": [
    "class Q4Vertex(Q3Vertex):\n",
    "    ...\n",
    "    def add_directed (self, target_vertex, edge_weight, traversable):\n",
    "        self._direct_adjacent [target_vertex.get_id()] = (target_vertex, edge_weight, traversable)\n",
    "\n",
    "    def is_adjacent (self, target_id):\n",
    "        adjacent = self._direct_adjacent.get(target_id, False)\n",
    "        if not adjacent:\n",
    "            return False\n",
    "\n",
    "        return adjacent[2]"
   ]
  },
  {
   "cell_type": "code",
   "execution_count": 11,
   "id": "7b00e305",
   "metadata": {},
   "outputs": [],
   "source": [
    "# Sample test case\n",
    "\n",
    "vA = Q4Vertex('A')\n",
    "vB = Q4Vertex('B')\n",
    "vA.add_directed (vB, 1.2, True)\n",
    "assert vA.is_adjacent('B')"
   ]
  },
  {
   "cell_type": "code",
   "execution_count": 12,
   "id": "fc69937f",
   "metadata": {},
   "outputs": [],
   "source": [
    "# BFS Traversal implementation\n",
    "\n",
    "def bfs_traversal(start_vertex):\n",
    "    \"\"\"\n",
    "    Perform Breadth-First Search (BFS) traversal starting from start_vertex.\n",
    "    \n",
    "    Args:\n",
    "        start_vertex (GraphVertex): The starting vertex.\n",
    "        \n",
    "    Returns:\n",
    "        list: A list of vertex ids in the order they are visited.\n",
    "    \"\"\"\n",
    "    visited = set()\n",
    "    queue = [start_vertex]\n",
    "    traversal = []\n",
    "\n",
    "    while queue:\n",
    "        current = queue.pop(0)\n",
    "        if current not in visited:\n",
    "            visited.add(current)\n",
    "            traversal.append(current.get_id())\n",
    "            queue.extend([v for v in current.get_neighbours() if v not in visited])\n",
    "\n",
    "    return traversal"
   ]
  },
  {
   "cell_type": "markdown",
   "id": "59957bd9",
   "metadata": {},
   "source": [
    "#### Question 05 &nbsp;&nbsp;&nbsp;&nbsp;&nbsp;&nbsp;(10 Points)\n",
    "\n",
    "Extend `Q4Vertex` to create a class `Q5Vertex` that produces an adjacency list for a directed graph in the form of a list of tuples with (id, edge_weight).\n",
    "```python\n",
    "        def get_adjacency_list (self):\n",
    "        ''' Return a list of traversable neighbours as tuples of\n",
    "        (id, edge_weight).'''\n",
    "```\n",
    "In the example directed graph above, a call to `vertex_B.get_adjacency_list()` would return `[('C', 3), ('D', 2), ('E', 1)]`."
   ]
  },
  {
   "cell_type": "code",
   "execution_count": 13,
   "id": "f370ce60",
   "metadata": {},
   "outputs": [],
   "source": [
    "class Q5Vertex(Q4Vertex):\n",
    "    def get_adjacency_list (self):\n",
    "        traversable_vertices = []\n",
    "        for vertex_id, vertex_values in self._direct_adjacent.items():\n",
    "            if vertex_values[2]:\n",
    "                traversable_vertices.append((vertex_id, vertex_values[1]))\n",
    "\n",
    "        return traversable_vertices"
   ]
  },
  {
   "cell_type": "code",
   "execution_count": 14,
   "id": "59c78b1c",
   "metadata": {},
   "outputs": [],
   "source": [
    "# Sample test case\n",
    "\n",
    "vvA = Q5Vertex('A')\n",
    "vvB = Q5Vertex('B')\n",
    "vvC = Q5Vertex('C')\n",
    "vvD = Q5Vertex('D')\n",
    "vvE = Q5Vertex('E')\n",
    "vvA.add_directed (vvB, 1, True)\n",
    "vvB.add_directed (vvA, 0, False)\n",
    "vvB.add_directed (vvC, 3, True)\n",
    "vvB.add_directed (vvD, 2, True)\n",
    "vvB.add_directed (vvE, 1, True)\n",
    "\n",
    "al = vvB.get_adjacency_list ()\n",
    "assert ('C', 3) in al and ('D', 2) in al and ('E', 1) in al"
   ]
  },
  {
   "cell_type": "code",
   "execution_count": 15,
   "id": "a8b14411",
   "metadata": {},
   "outputs": [],
   "source": [
    "# Testing Cell (Do NOT modify this cell)"
   ]
  },
  {
   "cell_type": "markdown",
   "id": "abb2b394",
   "metadata": {
    "tags": []
   },
   "source": [
    "#### Question 06 &nbsp;&nbsp;&nbsp;&nbsp;&nbsp;&nbsp;(10 Points)\n",
    "\n",
    "Create a class `Q6Graph` that represents a directed graph containing a set of edge-weighted vertices. Add methods that allow the addition of vertices and edges according to the function definitions below and a function `get_iterative_dfs_path_edge_weight` that finds **any** traversable path between a start and stop vertice using an **iterative** Depth First Search and returns the sum of the edge weights on the path traversed.\n",
    "```python\n",
    "class Q6Graph:\n",
    "\n",
    "    def add_vertex(self, vertex_id):\n",
    "        ''' \n",
    "        Returns a vertex to the graph with the given id. \n",
    "        '''\n",
    "    def add_directed_edge_with_weight(self, source_id, destination_id, weight):       \n",
    "        ''' \n",
    "        Add a directed edge from the vertex with id 'source_id' to the vertex \n",
    "        with id 'destination_id' and apply a weight.\n",
    "        '''\n",
    "    def get_iterative_dfs_path_edge_weight(self, start_id, stop_id):\n",
    "        ''' \n",
    "        Return the sum of edge weights between start and stop vertices\n",
    "        using DFS.\n",
    "        '''\n",
    "```\n",
    "\n",
    "For example, in the graph depicted above, a call:\n",
    "```python\n",
    "    my_graph.get_iterative_dfs_path_edge_weight('G', 'A') \n",
    "```\n",
    "would return the integer `3`."
   ]
  },
  {
   "cell_type": "code",
   "execution_count": 16,
   "id": "5f907095",
   "metadata": {},
   "outputs": [],
   "source": [
    "# DFS Traversal implementation\n",
    "\n",
    "def dfs_traversal(start_vertex):\n",
    "    \"\"\"\n",
    "    Perform Depth-First Search (DFS) traversal starting from start_vertex.\n",
    "    \n",
    "    Args:\n",
    "        start_vertex (GraphVertex): The starting vertex.\n",
    "        \n",
    "    Returns:\n",
    "        list: A list of vertex ids in the order they are visited.\n",
    "    \"\"\"\n",
    "    visited = set()\n",
    "    stack = [start_vertex]\n",
    "    traversal = []\n",
    "\n",
    "    while stack:\n",
    "        current = stack.pop()\n",
    "        if current not in visited:\n",
    "            visited.add(current)\n",
    "            traversal.append(current.get_id())\n",
    "            stack.extend(reversed([v for v in current.get_neighbours() if v not in visited]))\n",
    "\n",
    "    return traversal"
   ]
  },
  {
   "cell_type": "code",
   "execution_count": 17,
   "id": "8e9cc36b",
   "metadata": {},
   "outputs": [
    {
     "ename": "NameError",
     "evalue": "name 'Q6Graph' is not defined",
     "output_type": "error",
     "traceback": [
      "\u001b[1;31m---------------------------------------------------------------------------\u001b[0m",
      "\u001b[1;31mNameError\u001b[0m                                 Traceback (most recent call last)",
      "Cell \u001b[1;32mIn[17], line 3\u001b[0m\n\u001b[0;32m      1\u001b[0m \u001b[38;5;66;03m# Sample test case\u001b[39;00m\n\u001b[1;32m----> 3\u001b[0m g \u001b[38;5;241m=\u001b[39m \u001b[43mQ6Graph\u001b[49m()\n\u001b[0;32m      4\u001b[0m vA \u001b[38;5;241m=\u001b[39m g\u001b[38;5;241m.\u001b[39madd_vertex(\u001b[38;5;124m'\u001b[39m\u001b[38;5;124mA\u001b[39m\u001b[38;5;124m'\u001b[39m)\n\u001b[0;32m      5\u001b[0m vB \u001b[38;5;241m=\u001b[39m g\u001b[38;5;241m.\u001b[39madd_vertex(\u001b[38;5;124m'\u001b[39m\u001b[38;5;124mB\u001b[39m\u001b[38;5;124m'\u001b[39m)\n",
      "\u001b[1;31mNameError\u001b[0m: name 'Q6Graph' is not defined"
     ]
    }
   ],
   "source": [
    "# Sample test case\n",
    "\n",
    "g = Q6Graph()\n",
    "vA = g.add_vertex('A')\n",
    "vB = g.add_vertex('B')\n",
    "vC = g.add_vertex('C')\n",
    "vD = g.add_vertex('D')\n",
    "vE = g.add_vertex('E')\n",
    "vF = g.add_vertex('F')\n",
    "vG = g.add_vertex('G')\n",
    "g.add_directed_edge_with_weight ('A', 'B', 1)\n",
    "g.add_directed_edge_with_weight ('B', 'C', 3)\n",
    "g.add_directed_edge_with_weight ('B', 'D', 2)\n",
    "g.add_directed_edge_with_weight ('B', 'E', 1)\n",
    "g.add_directed_edge_with_weight ('C', 'E', 4)\n",
    "g.add_directed_edge_with_weight ('C', 'D', 1)\n",
    "g.add_directed_edge_with_weight ('E', 'F', 3)\n",
    "g.add_directed_edge_with_weight ('D', 'A', 2)\n",
    "g.add_directed_edge_with_weight ('D', 'E', 2)\n",
    "g.add_directed_edge_with_weight ('G', 'D', 1)\n",
    "\n",
    "dfs_edge_weight = g.get_iterative_dfs_path_edge_weight('G', 'A')\n",
    "dfs_edge_weight"
   ]
  },
  {
   "cell_type": "code",
   "execution_count": null,
   "id": "b1f7bf9e",
   "metadata": {},
   "outputs": [],
   "source": [
    "# Sample test case\n",
    "\n",
    "g = Q6Graph()\n",
    "vA = g.add_vertex('A')\n",
    "vB = g.add_vertex('B')\n",
    "vC = g.add_vertex('C')\n",
    "vD = g.add_vertex('D')\n",
    "vE = g.add_vertex('E')\n",
    "vF = g.add_vertex('F')\n",
    "vG = g.add_vertex('G')\n",
    "g.add_directed_edge_with_weight ('A', 'B', 1)\n",
    "g.add_directed_edge_with_weight ('B', 'C', 3)\n",
    "g.add_directed_edge_with_weight ('B', 'D', 2)\n",
    "g.add_directed_edge_with_weight ('B', 'E', 1)\n",
    "g.add_directed_edge_with_weight ('C', 'E', 4)\n",
    "g.add_directed_edge_with_weight ('C', 'D', 1)\n",
    "g.add_directed_edge_with_weight ('E', 'F', 3)\n",
    "g.add_directed_edge_with_weight ('D', 'A', 2)\n",
    "g.add_directed_edge_with_weight ('D', 'E', 2)\n",
    "g.add_directed_edge_with_weight ('G', 'D', 1)\n",
    "\n",
    "dfs_edge_weight = g.get_iterative_dfs_path_edge_weight('A', 'D')\n",
    "assert dfs_edge_weight in [3, 5]"
   ]
  },
  {
   "cell_type": "code",
   "execution_count": null,
   "id": "46a030e9",
   "metadata": {},
   "outputs": [],
   "source": [
    "# Testing Cell (Do NOT modify this cell)"
   ]
  },
  {
   "cell_type": "markdown",
   "id": "ca305cfa",
   "metadata": {
    "tags": []
   },
   "source": [
    "#### Question 07 &nbsp;&nbsp;&nbsp;&nbsp;&nbsp;&nbsp;(10 Points)\n",
    "\n",
    "Create a class `Q7Graph` that extends `Q6Graph` to add a method to do the same DFS as Question 6 using recursion:\n",
    "```python\n",
    "class Q7Graph:\n",
    "\n",
    "    def get_recursive_dfs_path_edge_weight(self, start_id, stop_id):\n",
    "        ''' Return the sum of edge weights between start and stop \n",
    "        vertices using a recursive DFS.'''\n",
    "```\n",
    "In a section test, you may be asked to demonstrate your mastery of both iterative and recursive solutions to these search algorithms. "
   ]
  },
  {
   "cell_type": "code",
   "execution_count": null,
   "id": "9d96d5bc",
   "metadata": {},
   "outputs": [],
   "source": [
    "class Q7Graph:\n",
    "\n",
    "    def get_recursive_dfs_path_edge_weight(self, start_id, stop_id):\n",
    "        pass"
   ]
  },
  {
   "cell_type": "code",
   "execution_count": null,
   "id": "c56fcc40",
   "metadata": {},
   "outputs": [],
   "source": [
    "# Sample test case\n",
    "\n",
    "g = Q7Graph()\n",
    "va = g.add_vertex('A')\n",
    "vb = g.add_vertex('B')\n",
    "vc = g.add_vertex('C')\n",
    "vd = g.add_vertex('D')\n",
    "ve = g.add_vertex('E')\n",
    "vf = g.add_vertex('F')\n",
    "vg = g.add_vertex('G')\n",
    "g.add_directed_edge_with_weight ('A', 'B', 1)\n",
    "g.add_directed_edge_with_weight ('B', 'C', 3)\n",
    "g.add_directed_edge_with_weight ('B', 'D', 2)\n",
    "g.add_directed_edge_with_weight ('B', 'E', 1)\n",
    "g.add_directed_edge_with_weight ('C', 'E', 4)\n",
    "g.add_directed_edge_with_weight ('C', 'D', 1)\n",
    "g.add_directed_edge_with_weight ('E', 'F', 3)\n",
    "g.add_directed_edge_with_weight ('D', 'A', 2)\n",
    "g.add_directed_edge_with_weight ('D', 'E', 2)\n",
    "g.add_directed_edge_with_weight ('G', 'D', 1)\n",
    "\n",
    "assert g.get_recursive_dfs_path_edge_weight('D', 'C') == 6"
   ]
  },
  {
   "cell_type": "code",
   "execution_count": null,
   "id": "02cc708e",
   "metadata": {},
   "outputs": [],
   "source": [
    "# Testing Cell (Do NOT modify this cell)"
   ]
  },
  {
   "cell_type": "markdown",
   "id": "953a0afe",
   "metadata": {
    "tags": []
   },
   "source": [
    "#### Question 08 &nbsp;&nbsp;&nbsp;&nbsp;&nbsp;&nbsp;(10 Points)\n",
    "\n",
    "Extend the class `Q7Graph` to create `Q8Graph` with a method:\n",
    "```python\n",
    "    def add_undirected (self, v1, v2):\n",
    "```\n",
    "to add undirected edges between vertices and a function:\n",
    "```python\n",
    "    def iterative_bfs_path_exists (self, v1, v2):\n",
    "```\n",
    "that searches an undirected graph using an **iterative** Breadth First Search from the vertex `v1` to `v2` and returns `True` if a traversible path from the start and stop vertices.\n",
    "\n",
    "For example, in the graph:</br>\n",
    "<img src=\"https://www.log2base2.com/images/ds/undirected-graph.png\" alt=\"udirected graph\"></br>\n",
    "a call:\n",
    "```python\n",
    "    my_graph.iterative_bfs_path_exists(vertex_0, vertex_4)\n",
    "```\n",
    "would return `True`. But searching for an unconnected vertex would return `False`."
   ]
  },
  {
   "cell_type": "code",
   "execution_count": null,
   "id": "1999ec8c",
   "metadata": {},
   "outputs": [],
   "source": [
    "class  Q8Graph(Q7Graph):"
   ]
  },
  {
   "cell_type": "code",
   "execution_count": null,
   "id": "103934cc",
   "metadata": {},
   "outputs": [],
   "source": [
    "# Sample test case\n",
    "\n",
    "g = Q8Graph()\n",
    "v0 = g.add_vertex('0')\n",
    "v1 = g.add_vertex('1')\n",
    "v2 = g.add_vertex('2')\n",
    "v3 = g.add_vertex('3')\n",
    "v4 = g.add_vertex('4')\n",
    "g.add_undirected(v0, v1)\n",
    "g.add_undirected(v0, v2)\n",
    "g.add_undirected(v0, v3)\n",
    "g.add_undirected(v1, v3)\n",
    "g.add_undirected(v1, v4)\n",
    "g.add_undirected(v4, v3)\n",
    "g.add_undirected(v2, v3)\n",
    "\n",
    "assert g.iterative_bfs_path_exists(v0, v4)"
   ]
  },
  {
   "cell_type": "code",
   "execution_count": null,
   "id": "701ac5b1",
   "metadata": {},
   "outputs": [],
   "source": [
    "# Testing Cell (Do NOT modify this cell)"
   ]
  },
  {
   "cell_type": "markdown",
   "id": "1afbdd7c",
   "metadata": {},
   "source": [
    "#### Question 09 &nbsp;&nbsp;&nbsp;&nbsp;&nbsp;&nbsp;(20 Points)\n",
    "\n",
    "Extend the class `Q6Graph` which supports weighted, directed graphs and add a function:\n",
    "```python\n",
    "def get_bfs_weighted_path(self, vstart, vstop):\n",
    "    ''' \n",
    "    Returns a tuple: \n",
    "        found: True when the path exists otherwise False\n",
    "        path: being a list of vertex ids traversed from vstart to vstop, and\n",
    "        weight: the sum of all edge weights on the path from vstart to vstop\n",
    "    '''\n",
    "``` \n",
    "that searches for a path between `vstart` and `vstop` and returns the tuple:\n",
    "```python\n",
    "    found, path, weight\n",
    "```\n",
    "such that a graph:<br />\n",
    "<img src=\"https://i.stack.imgur.com/7C2kD.png\" alt=\"edge-weighted directed graph\" style=\"height: 307px; width: 503px; align: left\"></br>\n",
    "will return:\n",
    "```python\n",
    "(True, ['G', 'D', 'E', 'F'], 6)\n",
    "```\n",
    "when using BFS to find the path between vertex `G` and vertex `F`."
   ]
  },
  {
   "cell_type": "code",
   "execution_count": null,
   "id": "6eb7c38c",
   "metadata": {},
   "outputs": [],
   "source": [
    "raise NotImplementedError()"
   ]
  },
  {
   "cell_type": "code",
   "execution_count": null,
   "id": "fd7fb8b8",
   "metadata": {},
   "outputs": [],
   "source": [
    "# Sample test case\n",
    "\n",
    "g = Q9Graph()\n",
    "va = g.add_vertex('A')\n",
    "vb = g.add_vertex('B')\n",
    "vc = g.add_vertex('C')\n",
    "vd = g.add_vertex('D')\n",
    "ve = g.add_vertex('E')\n",
    "vf = g.add_vertex('F')\n",
    "vg = g.add_vertex('G')\n",
    "g.add_directed_edge_with_weight ('A', 'B', 1)\n",
    "g.add_directed_edge_with_weight ('B', 'C', 3)\n",
    "g.add_directed_edge_with_weight ('B', 'D', 2)\n",
    "g.add_directed_edge_with_weight ('B', 'E', 1)\n",
    "g.add_directed_edge_with_weight ('C', 'E', 4)\n",
    "g.add_directed_edge_with_weight ('C', 'D', 1)\n",
    "g.add_directed_edge_with_weight ('E', 'F', 3)\n",
    "g.add_directed_edge_with_weight ('D', 'A', 2)\n",
    "g.add_directed_edge_with_weight ('D', 'E', 2)\n",
    "g.add_directed_edge_with_weight ('G', 'D', 1)\n",
    "\n",
    "found, path, weight = g.get_bfs_weighted_path(va, ve)\n",
    "assert found and path == ['A', 'B', 'E'] and weight == 2"
   ]
  },
  {
   "cell_type": "code",
   "execution_count": null,
   "id": "fbdea84c",
   "metadata": {},
   "outputs": [],
   "source": [
    "# Testing Cell (Do NOT modify this cell)"
   ]
  }
 ],
 "metadata": {
  "kernelspec": {
   "display_name": "first_test",
   "language": "python",
   "name": "python3"
  },
  "language_info": {
   "codemirror_mode": {
    "name": "ipython",
    "version": 3
   },
   "file_extension": ".py",
   "mimetype": "text/x-python",
   "name": "python",
   "nbconvert_exporter": "python",
   "pygments_lexer": "ipython3",
   "version": "3.10.13"
  }
 },
 "nbformat": 4,
 "nbformat_minor": 5
}
