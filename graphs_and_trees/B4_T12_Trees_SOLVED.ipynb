{
 "cells": [
  {
   "cell_type": "markdown",
   "metadata": {},
   "source": [
    "### Instructions:\n",
    "\n",
    "- You can attempt any number of questions and in any order.  \n",
    "  See the assignment page for a description of the hurdle requirement for this assessment.\n",
    "- You may submit your practical for autograding as many times as you like to check on progress, however you will save time by checking and testing your own code before submitting.\n",
    "- Develop and check your answers in the spaces provided.\n",
    "- **Replace** the code `raise NotImplementedError()` with your solution to the question.\n",
    "- Do **NOT** remove any variables other provided markings already provided in the answer spaces.\n",
    "- Do **NOT** make any changes to this notebook outside of the spaces indicated.  \n",
    "  (If you do this, the submission system might not accept your work)\n",
    "\n",
    "### Submitting:\n",
    "\n",
    "1. Before you turn this problem in, make sure everything runs as expected by resetting this notebook.    \n",
    "   (You can do this from the menubar above by selecting `Kernel`&#8594;`Restart Kernel and Run All Cells...`)\n",
    "1. Don't forget to save your notebook after this step.\n",
    "1. Submit your .ipynb file to Gradescope via file upload or GitHub repository.\n",
    "1. You can submit as many times as needed.\n",
    "1. You **must** give your submitted file the **identical** filename to that which you downloaded without changing **any** aspects - spaces, underscores, capitalisation etc. If your operating system has changed the filename because you downloaded the file twice or more you **must** also fix this.  \n",
    "\n"
   ]
  },
  {
   "cell_type": "markdown",
   "metadata": {},
   "source": [
    "---"
   ]
  },
  {
   "cell_type": "markdown",
   "metadata": {
    "tags": []
   },
   "source": [
    "# <mark style=\"background: #843fa1; color: #ffffff;\" >&nbsp;G&nbsp;</mark>&ensp;Topic 12: Graphs & Trees"
   ]
  },
  {
   "cell_type": "markdown",
   "metadata": {},
   "source": [
    "## Shortest Path First\n",
    "\n",
    "This practical assumes that you are familiar with the object-oriented sample implementation of graphs presented in the course. This reference code is provided to allow you to extend the provided classes using (single or multi-level) inheritance. Do **not** modify this base code as it is used by the autograder but rather extend the classes in order to answer the questions below. You are not compelled to make use of the provided code and may answer the questions as you see fit."
   ]
  },
  {
   "cell_type": "code",
   "execution_count": 1,
   "metadata": {
    "deletable": false,
    "editable": false,
    "nbgrader": {
     "cell_type": "code",
     "checksum": "2c513a91118d722355db0103de2dfd45",
     "grade": false,
     "grade_id": "cell-625e4cbf06599666",
     "locked": true,
     "schema_version": 3,
     "solution": false,
     "task": false
    },
    "tags": []
   },
   "outputs": [],
   "source": [
    "def undirected_shortest_path(edges, vstart, vfinish):\n",
    "    graph = DijkstraGraph()\n",
    "    for frm, to, cost in edges:\n",
    "        graph.add_edge(frm, to, cost)\n",
    "\n",
    "    start_vertex = graph.get_vertex(vstart)\n",
    "    target_vertex = graph.get_vertex(vfinish)\n",
    "\n",
    "    graph.dijkstra_spf(start_vertex)\n",
    "\n",
    "    path = []\n",
    "    current = target_vertex\n",
    "    while current:\n",
    "        path.insert(0, current.get_id())\n",
    "        current = current.get_previous()\n",
    "\n",
    "    total_weight = target_vertex.get_distance()\n",
    "    if len(path) < 2:\n",
    "        return [], math.inf\n",
    "\n",
    "    return path, total_weight"
   ]
  },
  {
   "cell_type": "markdown",
   "metadata": {},
   "source": [
    "#### Question 01 &nbsp;&nbsp;&nbsp;&nbsp;&nbsp;&nbsp;(10 Points)\n",
    "\n",
    "Given an undirected, edge-weighted graph:</br>\n",
    "<img src=\"https://zschub.github.io/img/edge_weighted_graph.png\" alt=\"edge-weighted graph\" style=\"align: left\"></br>\n",
    "write a function defined as:\n",
    "```python\n",
    "def undirected_shortest_path (edges, vstart, vfinish):\n",
    "    ...\n",
    "``` \n",
    "that:\n",
    "* accepts a list of `edges` in the form of tuples `(vertex1, vertex2, weight)`,\n",
    "* accepts `vstart` and `vfinish` as the IDs of start and stop vertices,\n",
    "* returns a tuple `(path, weight)` that provides a list of vertex id's along the shortest path from start to finish and the summed weight of edges along the path using Dijkstra's Shortest Path First algorithm, and\n",
    "* where no path exists, returns an empty list and an infinite distance.\n",
    "\n",
    "For example, assuming the graph above, the call:\n",
    "```python\n",
    "path, distance = directed_shortest_path (edges, '4', '3')\n",
    "```\n",
    "would return:\n",
    "```python\n",
    "(['4', '0', '2', '3'], 0.81)\n",
    "```"
   ]
  },
  {
   "cell_type": "code",
   "execution_count": 2,
   "metadata": {
    "deletable": false,
    "editable": false,
    "nbgrader": {
     "cell_type": "code",
     "checksum": "72c928620677763c2eaa452a51e4daba",
     "grade": false,
     "grade_id": "cell-9146366223c48aea",
     "locked": true,
     "schema_version": 3,
     "solution": false,
     "task": false
    },
    "tags": []
   },
   "outputs": [
    {
     "ename": "NameError",
     "evalue": "name 'DijkstraGraph' is not defined",
     "output_type": "error",
     "traceback": [
      "\u001b[1;31m---------------------------------------------------------------------------\u001b[0m",
      "\u001b[1;31mNameError\u001b[0m                                 Traceback (most recent call last)",
      "Cell \u001b[1;32mIn[2], line 1\u001b[0m\n\u001b[1;32m----> 1\u001b[0m \u001b[38;5;28;01mclass\u001b[39;00m\u001b[38;5;250m \u001b[39m\u001b[38;5;21;01mDirectedDijkstraGraph\u001b[39;00m(\u001b[43mDijkstraGraph\u001b[49m):\n\u001b[0;32m      2\u001b[0m     \u001b[38;5;28;01mdef\u001b[39;00m\u001b[38;5;250m \u001b[39m\u001b[38;5;21madd_edge\u001b[39m(\u001b[38;5;28mself\u001b[39m, frm, to, cost\u001b[38;5;241m=\u001b[39m\u001b[38;5;241m0\u001b[39m):\n\u001b[0;32m      3\u001b[0m         \u001b[38;5;28;01mif\u001b[39;00m frm \u001b[38;5;129;01mnot\u001b[39;00m \u001b[38;5;129;01min\u001b[39;00m \u001b[38;5;28mself\u001b[39m\u001b[38;5;241m.\u001b[39m_vertices:\n",
      "\u001b[1;31mNameError\u001b[0m: name 'DijkstraGraph' is not defined"
     ]
    }
   ],
   "source": [
    "class DirectedDijkstraGraph(DijkstraGraph):\n",
    "    def add_edge(self, frm, to, cost=0):\n",
    "        if frm not in self._vertices:\n",
    "            self.add_vertex(frm)\n",
    "        if to not in self._vertices:\n",
    "            self.add_vertex(to)\n",
    "        self._vertices[frm].add_neighbour(self._vertices[to], cost)"
   ]
  },
  {
   "cell_type": "code",
   "execution_count": null,
   "metadata": {
    "deletable": false,
    "nbgrader": {
     "cell_type": "code",
     "checksum": "1284672debf082ff349097a1b8635f52",
     "grade": false,
     "grade_id": "q1",
     "locked": false,
     "schema_version": 3,
     "solution": true,
     "task": false
    },
    "tags": []
   },
   "outputs": [],
   "source": [
    "def directed_shortest_path(edges, vstart, vfinish):\n",
    "    graph = DirectedDijkstraGraph()\n",
    "    for frm, to, cost in edges:\n",
    "        graph.add_edge(frm, to, cost)\n",
    "\n",
    "    start_vertex = graph.get_vertex(vstart)\n",
    "    target_vertex = graph.get_vertex(vfinish)\n",
    "\n",
    "    graph.dijkstra_spf(start_vertex)\n",
    "\n",
    "    path = []\n",
    "    current = target_vertex\n",
    "    while current:\n",
    "        path.insert(0, current.get_id())\n",
    "        current = current.get_previous()\n",
    "\n",
    "    total_weight = target_vertex.get_distance()\n",
    "    if len(path) < 2:\n",
    "        return [], math.inf\n",
    "\n",
    "    return path, total_weight"
   ]
  },
  {
   "cell_type": "code",
   "execution_count": null,
   "metadata": {},
   "outputs": [],
   "source": [
    "class WeightedDirectedGraph(DirectedDijkstraGraph):\n",
    "    def add_edge(self, frm, to, cost=0):\n",
    "        super().add_edge(frm, to, cost)\n",
    "        super().add_edge(to, frm, cost)"
   ]
  },
  {
   "cell_type": "code",
   "execution_count": null,
   "metadata": {
    "deletable": false,
    "editable": false,
    "nbgrader": {
     "cell_type": "code",
     "checksum": "c36545ca8e2829d5f4c4582efb5625eb",
     "grade": true,
     "grade_id": "q1-undirected-spf",
     "locked": true,
     "points": 10,
     "schema_version": 3,
     "solution": false,
     "task": false
    },
    "tags": []
   },
   "outputs": [],
   "source": [
    "class TreeVertex(DijkstraVertex):\n",
    "    def __init__(self, node):\n",
    "        super().__init__(node)\n",
    "        self._parent = None\n",
    "\n",
    "    def set_parent(self, parent):\n",
    "        self._parent = parent\n",
    "\n",
    "    def get_parent(self):\n",
    "        return self._parent\n",
    "\n",
    "class TreeGraph(DijkstraGraph):\n",
    "    def add_edge(self, frm, to, cost=0):\n",
    "        if frm not in self._vertices:\n",
    "            self.add_vertex(frm)\n",
    "        if to not in self._vertices:\n",
    "            self.add_vertex(to)\n",
    "\n",
    "        self._vertices[frm].add_neighbour(self._vertices[to], cost)\n",
    "        self._vertices[to].set_parent(self._vertices[frm])"
   ]
  },
  {
   "cell_type": "markdown",
   "metadata": {},
   "source": [
    "#### Question 02 &nbsp;&nbsp;&nbsp;&nbsp;&nbsp;&nbsp;(15 Points)\n",
    "\n",
    "Given a directed, edge-weighted graph:</br>\n",
    "<img src=\"https://zschub.github.io/img/directed-edge-weighted.png\" alt=\"edge-weighted directed graph\" style=\"height: 307px; width: 503px; align: left\"></br>\n",
    "write a function defined as:\n",
    "```python\n",
    "def directed_shortest_path (dedges, vstart, vfinish):\n",
    "    ...\n",
    "``` \n",
    "that:\n",
    "* accepts a list of directed edges in the form of tuples `(vertex1, vertex2, weight)`,\n",
    "* accepts `vstart` and `vfinish` as the IDs of start and stop vertices, and\n",
    "* returns a tuple `(path, weight)` that provides a list of vertex id's along the directed path from start to finish and the summed weight of edges along the path using Dijkstra's Shortest Path First algorithm.\n",
    "\n",
    "For example, the call:\n",
    "```python\n",
    "path, distance = directed_shortest_path (directed_edges, 'G', 'C')\n",
    "```\n",
    "would return:\n",
    "```python\n",
    "(['G', 'D', 'A', 'B', 'C'], 7)\n",
    "```\n",
    "If no path exists, the function must return an empty list and a distance (edge-weight) of `math.inf`."
   ]
  },
  {
   "cell_type": "code",
   "execution_count": 3,
   "metadata": {
    "deletable": false,
    "editable": false,
    "nbgrader": {
     "cell_type": "code",
     "checksum": "a4cc4744c18be91e6154365d5a24f154",
     "grade": false,
     "grade_id": "cell-35d49ccd113ed184",
     "locked": true,
     "schema_version": 3,
     "solution": false,
     "task": false
    },
    "tags": []
   },
   "outputs": [],
   "source": [
    "def tree_path(graph, vstart, vfinish):\n",
    "    path = []\n",
    "    current = graph.get_vertex(vfinish)\n",
    "    while current:\n",
    "        path.insert(0, current.get_id())\n",
    "        if current.get_id() == vstart:\n",
    "            break\n",
    "        current = current.get_parent()\n",
    "    else:\n",
    "        return [], math.inf\n",
    "\n",
    "    return path, len(path) - 1"
   ]
  },
  {
   "cell_type": "code",
   "execution_count": 4,
   "metadata": {
    "deletable": false,
    "nbgrader": {
     "cell_type": "code",
     "checksum": "4bc1fe19aca61040f0dddafc9779800d",
     "grade": false,
     "grade_id": "q2",
     "locked": false,
     "schema_version": 3,
     "solution": true,
     "task": false
    },
    "tags": []
   },
   "outputs": [
    {
     "ename": "NameError",
     "evalue": "name 'TreeVertex' is not defined",
     "output_type": "error",
     "traceback": [
      "\u001b[1;31m---------------------------------------------------------------------------\u001b[0m",
      "\u001b[1;31mNameError\u001b[0m                                 Traceback (most recent call last)",
      "Cell \u001b[1;32mIn[4], line 1\u001b[0m\n\u001b[1;32m----> 1\u001b[0m \u001b[38;5;28;01mclass\u001b[39;00m\u001b[38;5;250m \u001b[39m\u001b[38;5;21;01mBinaryTreeVertex\u001b[39;00m(\u001b[43mTreeVertex\u001b[49m):\n\u001b[0;32m      2\u001b[0m     \u001b[38;5;28;01mdef\u001b[39;00m\u001b[38;5;250m \u001b[39m\u001b[38;5;21m__init__\u001b[39m(\u001b[38;5;28mself\u001b[39m, node):\n\u001b[0;32m      3\u001b[0m         \u001b[38;5;28msuper\u001b[39m()\u001b[38;5;241m.\u001b[39m\u001b[38;5;21m__init__\u001b[39m(node)\n",
      "\u001b[1;31mNameError\u001b[0m: name 'TreeVertex' is not defined"
     ]
    }
   ],
   "source": [
    "class BinaryTreeVertex(TreeVertex):\n",
    "    def __init__(self, node):\n",
    "        super().__init__(node)\n",
    "        self.left = None\n",
    "        self.right = None\n",
    "\n",
    "class BinaryTreeGraph(TreeGraph):\n",
    "    def add_edge(self, frm, to, cost=0, side='left'):\n",
    "        if frm not in self._vertices:\n",
    "            self.add_vertex(frm)\n",
    "        if to not in self._vertices:\n",
    "            self.add_vertex(to)\n",
    "\n",
    "        if side == 'left':\n",
    "            self._vertices[frm].left = self._vertices[to]\n",
    "        else:\n",
    "            self._vertices[frm].right = self._vertices[to]\n",
    "\n",
    "        self._vertices[to].set_parent(self._vertices[frm])\n",
    "\n",
    "    def add_vertex(self, node):\n",
    "        new_vertex = BinaryTreeVertex(node)\n",
    "        self._vertices[node] = new_vertex\n",
    "        return new_vertex"
   ]
  },
  {
   "cell_type": "code",
   "execution_count": null,
   "metadata": {},
   "outputs": [],
   "source": [
    "# Test cases based on the list directed_edges\n",
    "\n",
    "p, d = directed_shortest_path (directed_edges, 'G', 'C')\n",
    "assert p == ['G', 'D', 'A', 'B', 'C'] and d == 7\n",
    "\n",
    "p, d = directed_shortest_path (directed_edges, 'F', 'E')\n",
    "assert p == [] and d == math.inf\n"
   ]
  },
  {
   "cell_type": "code",
   "execution_count": null,
   "metadata": {
    "deletable": false,
    "editable": false,
    "nbgrader": {
     "cell_type": "code",
     "checksum": "8768288b435c56285952859c0ae5215f",
     "grade": true,
     "grade_id": "q2-directed-spf",
     "locked": true,
     "points": 15,
     "schema_version": 3,
     "solution": false,
     "task": false
    },
    "tags": []
   },
   "outputs": [],
   "source": [
    "# Testing Cell (Do NOT modify this cell)"
   ]
  },
  {
   "cell_type": "markdown",
   "metadata": {},
   "source": [
    "## Trees\n",
    "\n",
    "As for graphs, this reference code is provided to allow you to extend the classes using (single or multi-level) inheritance. Do **not** modify this base code as it is used by the autograder but rather extend the classes in order to answer the questions below. You are not compelled to make use of the provided code and may answer the questions as you see fit."
   ]
  },
  {
   "cell_type": "code",
   "execution_count": null,
   "metadata": {
    "deletable": false,
    "editable": false,
    "nbgrader": {
     "cell_type": "code",
     "checksum": "c180898c32e55a074aa994be94a6c7c6",
     "grade": false,
     "grade_id": "cell-787b72914fafa14a",
     "locked": true,
     "schema_version": 3,
     "solution": false,
     "task": false
    },
    "tags": []
   },
   "outputs": [],
   "source": [
    "# Do NOT modify - please extend or ignore.\n",
    "\n",
    "class TreeVertex:\n",
    "\n",
    "    def __init__ (self, _value = None):\n",
    "        # User domain payload of the TreeVertex\n",
    "        self._value = _value\n",
    "        \n",
    "        # Left and right sided children\n",
    "        self._left = None\n",
    "        self._right = None\n",
    "        \n",
    "    def get_value (self):\n",
    "        return self._value\n",
    "    \n",
    "    def set_value (self, _value):\n",
    "        self._value = _value\n",
    "        \n",
    "    def get_left (self):\n",
    "        return self._left\n",
    "\n",
    "    def set_left (self, new_left):\n",
    "        self._left = new_left\n",
    "        \n",
    "    def get_right (self):\n",
    "        return self._right\n",
    "    \n",
    "    def set_right (self, new_right):\n",
    "        self._right = new_right\n",
    "\n",
    "\n",
    "class BinarySearchTree:\n",
    "         \n",
    "    def __init__(self):\n",
    "        self._root = None        "
   ]
  },
  {
   "cell_type": "markdown",
   "metadata": {},
   "source": [
    "#### Question 03 &nbsp;&nbsp;&nbsp;&nbsp;&nbsp;&nbsp;(10 Points)\n",
    "\n",
    "Write a class `Q3Vertex` as a subclass of `TreeVertex` whose constructor accepts a word as a mixed case string containing only the letters of the alphabet such as `'Hidden'` or `'valley'` and stores this as a protected instance variable. Add an `insert_word` function that positions an inserted word in a leaf vertex sorted alphabetically ignoring case.\n",
    "```python\n",
    "class Q3Vertex(TreeVertex):\n",
    "\n",
    "    def __init__ (self, word = \"\"):\n",
    "        self._value = word\n",
    "\n",
    "    def insert_word (self, word):\n",
    "        '''\n",
    "        Insert a word as a leaf vertex in either left or right subtree with in-order position\n",
    "        determined alphabetically ignoring case.\n",
    "        '''\n",
    "```\n",
    "For example:\n",
    "```python\n",
    "vertex = Q3Vertex(\"Hidden\")\n",
    "vertex.insert_word(\"a\")\n",
    "vertex.insert_word(\"valley\")\n",
    "```\n",
    "would result in a `Q3Vertex` with \"Hidden\" having left lead node \"a\" and right leaf node \"valley\". The in-order description of the tree would be \"a\", \"Hidden\", \"valley\"."
   ]
  },
  {
   "cell_type": "code",
   "execution_count": null,
   "metadata": {
    "deletable": false,
    "nbgrader": {
     "cell_type": "code",
     "checksum": "bae070af5f796521ba035654268e5411",
     "grade": false,
     "grade_id": "q3",
     "locked": false,
     "schema_version": 3,
     "solution": true,
     "task": false
    },
    "tags": []
   },
   "outputs": [
    {
     "ename": "AttributeError",
     "evalue": "'NoneType' object has no attribute 'get_value'",
     "output_type": "error",
     "traceback": [
      "\u001b[1;31m---------------------------------------------------------------------------\u001b[0m",
      "\u001b[1;31mAttributeError\u001b[0m                            Traceback (most recent call last)",
      "Cell \u001b[1;32mIn[41], line 54\u001b[0m\n\u001b[0;32m     51\u001b[0m vertex\u001b[38;5;241m.\u001b[39minsert_word(\u001b[38;5;124m\"\u001b[39m\u001b[38;5;124mday\u001b[39m\u001b[38;5;124m\"\u001b[39m)\n\u001b[0;32m     52\u001b[0m vertex\u001b[38;5;241m.\u001b[39minsert_word(\u001b[38;5;124m\"\u001b[39m\u001b[38;5;124mbright\u001b[39m\u001b[38;5;124m\"\u001b[39m)\n\u001b[1;32m---> 54\u001b[0m \u001b[43mvertex\u001b[49m\u001b[38;5;241;43m.\u001b[39;49m\u001b[43mget_left\u001b[49m\u001b[43m(\u001b[49m\u001b[43m)\u001b[49m\u001b[38;5;241;43m.\u001b[39;49m\u001b[43mget_value\u001b[49m()\n\u001b[0;32m     55\u001b[0m vertex\u001b[38;5;241m.\u001b[39mget_right()\u001b[38;5;241m.\u001b[39mget_value()\n",
      "\u001b[1;31mAttributeError\u001b[0m: 'NoneType' object has no attribute 'get_value'"
     ]
    }
   ],
   "source": [
    "class Q3Vertex(TreeVertex):\n",
    "    \n",
    "    def __init__(self, word = \"\"):\n",
    "        # Call the parent constructor correctly\n",
    "        super().__init__(word)  # This sets self._value to word\n",
    "        # We don't need to set self._word separately since TreeVertex already stores it in self._value\n",
    "        \n",
    "    def insert_word(self, word):\n",
    "        '''\n",
    "        Insert a word as a leaf vertex in either left or right subtree with in-order position\n",
    "        determined alphabetically ignoring case.\n",
    "        '''\n",
    "        current_word = self.get_value()  # Use get_value() to access the value\n",
    "        \n",
    "        # Compare words case-insensitively\n",
    "        if word.lower() < current_word.lower():\n",
    "            # Word should go to the left\n",
    "            if self.get_left() is None:\n",
    "                # If left child is empty, create new vertex\n",
    "                self.set_left(Q3Vertex(word))\n",
    "            else:\n",
    "                # Otherwise, recursively insert into left subtree\n",
    "                self.get_left().insert_word(word)\n",
    "        else:\n",
    "            # Word should go to the right\n",
    "            if self.get_right() is None:\n",
    "                # If right child is empty, create new vertex\n",
    "                self.set_right(Q3Vertex(word))\n",
    "            else:\n",
    "                # Otherwise, recursively insert into right subtree\n",
    "                self.get_right().insert_word(word)\n",
    "    def in_order_upper_case(self):\n",
    "        \"\"\"Returns the in-order traversal of the tree with words in uppercase.\"\"\"\n",
    "        result = []\n",
    "        \n",
    "        # Traverse left subtree\n",
    "        if self.get_left() is not None:\n",
    "            result.append(self.get_left().in_order_upper_case())\n",
    "            \n",
    "        # Add current node's value in uppercase\n",
    "        result.append(self._value.upper())\n",
    "        \n",
    "        # Traverse right subtree\n",
    "        if self.get_right() is not None:\n",
    "            result.append(self.get_right().in_order_upper_case())\n",
    "            \n",
    "        # Join with spaces\n",
    "        return \" \".join(result)\n",
    "                \n",
    "vertex = Q3Vertex(\"any\")\n",
    "vertex.insert_word(\"day\")\n",
    "vertex.insert_word(\"bright\")\n",
    "\n",
    "vertex.get_left().get_value()\n",
    "vertex.get_right().get_value()"
   ]
  },
  {
   "cell_type": "code",
   "execution_count": null,
   "metadata": {},
   "outputs": [],
   "source": [
    "# Sample test case\n",
    "\n",
    "vertex = Q3Vertex(\"Hidden\")\n",
    "vertex.insert_word(\"a\")\n",
    "vertex.insert_word(\"valley\")\n",
    "assert vertex.get_left().get_value() == 'a'\n",
    "assert vertex.get_right().get_value() == 'valley'"
   ]
  },
  {
   "cell_type": "code",
   "execution_count": null,
   "metadata": {
    "deletable": false,
    "editable": false,
    "nbgrader": {
     "cell_type": "code",
     "checksum": "fde203d9a623d56ee2536c43488e14d9",
     "grade": true,
     "grade_id": "q3-vertex",
     "locked": true,
     "points": 10,
     "schema_version": 3,
     "solution": false,
     "task": false
    },
    "tags": []
   },
   "outputs": [],
   "source": [
    "# Testing Cell (Do NOT modify this cell)"
   ]
  },
  {
   "cell_type": "markdown",
   "metadata": {},
   "source": [
    "#### Question 04 &nbsp;&nbsp;&nbsp;&nbsp;&nbsp;&nbsp;(15 Points)\n",
    "\n",
    "Extend `Q3Vertex` in a class `Q4Vertex` and add the function:\n",
    "```python\n",
    "    def the_last_word (self):\n",
    "```\n",
    "that returns the last word of an in-order traversal of vertices from the root of any tree or subtree. For example, in the in-order example used above \"a\", \"Hidden\", \"valley\", `vertex.the_last_word()` would return `\"valley\"`."
   ]
  },
  {
   "cell_type": "code",
   "execution_count": null,
   "metadata": {
    "deletable": false,
    "nbgrader": {
     "cell_type": "code",
     "checksum": "5e1402364d96aed07d7c9f606b8731f1",
     "grade": false,
     "grade_id": "q4",
     "locked": false,
     "schema_version": 3,
     "solution": true,
     "task": false
    },
    "tags": []
   },
   "outputs": [],
   "source": [
    "# Extend TreeVertex, don't modify it\n",
    "class Q4Vertex(Q3Vertex):\n",
    "    def the_last_word(self):\n",
    "        def inorder(node):\n",
    "            if node is None:\n",
    "                return []\n",
    "            return inorder(node.get_left()) + [node.get_value()] + inorder(node.get_right())\n",
    "        \n",
    "        # Perform in-order traversal and get all words\n",
    "        words = inorder(self)\n",
    "        # Return the last word\n",
    "        return words[-1] if words else None\n",
    "\n"
   ]
  },
  {
   "cell_type": "code",
   "execution_count": null,
   "metadata": {
    "tags": []
   },
   "outputs": [],
   "source": [
    "# Sample test case\n",
    "\n",
    "vv = Q4Vertex(\"Hidden\")\n",
    "vv.insert_word(\"a\")\n",
    "vv.insert_word(\"valley\")\n",
    "assert vv.the_last_word() == 'valley'"
   ]
  },
  {
   "cell_type": "code",
   "execution_count": null,
   "metadata": {
    "deletable": false,
    "editable": false,
    "nbgrader": {
     "cell_type": "code",
     "checksum": "a26a4cd1f78c75379f780ef9660bfa43",
     "grade": true,
     "grade_id": "q4-last-word",
     "locked": true,
     "points": 15,
     "schema_version": 3,
     "solution": false,
     "task": false
    },
    "tags": []
   },
   "outputs": [],
   "source": [
    "# Testing Cell (Do NOT modify this cell)"
   ]
  },
  {
   "cell_type": "markdown",
   "metadata": {},
   "source": [
    "#### Question 5 &nbsp;&nbsp;&nbsp;&nbsp;&nbsp;&nbsp;(15 Points)\n",
    "\n",
    "Extend `Q4Vertex` in a class `Q5Vertex` that adds a function:\n",
    "```python\n",
    "    def in_order_upper_case (self):\n",
    "```\n",
    "that returns the in-order traversal of the tree and returns the words as a string which concatenates each word separated by a space into a single string.\n",
    "\n",
    "For example:\n",
    "```python\n",
    "    vertex.in_order_upper_case()\n",
    "```\n",
    "would return a string: `'A HIDDEN VALLEY'`."
   ]
  },
  {
   "cell_type": "code",
   "execution_count": null,
   "metadata": {
    "deletable": false,
    "nbgrader": {
     "cell_type": "code",
     "checksum": "9e2433668a0b0ac514f13b590823be99",
     "grade": false,
     "grade_id": "q5",
     "locked": false,
     "schema_version": 3,
     "solution": true,
     "task": false
    },
    "tags": []
   },
   "outputs": [],
   "source": [
    "class Q5Vertex(Q4Vertex):\n",
    "    \n",
    "    def in_order_upper_case(self):\n",
    "        \"\"\"Returns the in-order traversal of the tree.\"\"\"\n",
    "        # Initialize an empty result string\n",
    "        result = []\n",
    "        \n",
    "        # Traverse left subtree if it exists\n",
    "        if self.get_left() is not None:\n",
    "            result.append(self.get_left().in_order_upper_case())\n",
    "            \n",
    "        # Add current node's value in uppercase\n",
    "        result.append(self._value.upper())\n",
    "        \n",
    "        # Traverse right subtree if it exists\n",
    "        if self.get_right() is not None:\n",
    "            result.append(self.get_right().in_order_upper_case())\n",
    "            \n",
    "        # Join all parts with spaces and return\n",
    "        return \" \".join(result)"
   ]
  },
  {
   "cell_type": "code",
   "execution_count": null,
   "metadata": {},
   "outputs": [],
   "source": [
    "# Sample test case\n",
    "\n",
    "vv = Q5Vertex(\"Hidden\")\n",
    "vv.insert_word(\"a\")\n",
    "vv.insert_word(\"valley\")\n",
    "assert vv.in_order_upper_case() == 'A HIDDEN VALLEY'"
   ]
  },
  {
   "cell_type": "code",
   "execution_count": null,
   "metadata": {
    "deletable": false,
    "editable": false,
    "nbgrader": {
     "cell_type": "code",
     "checksum": "851c52d42cf86638862fb66dbec66ee2",
     "grade": true,
     "grade_id": "q5-in-order-traversal",
     "locked": true,
     "points": 15,
     "schema_version": 3,
     "solution": false,
     "task": false
    }
   },
   "outputs": [],
   "source": [
    "# Testing Cell (Do NOT modify this cell)"
   ]
  },
  {
   "cell_type": "markdown",
   "metadata": {},
   "source": [
    "#### Question 6 &nbsp;&nbsp;&nbsp;&nbsp;&nbsp;&nbsp;(15 Points)\n",
    "\n",
    "Create a class Q6BinarySearchTree that implements a binary search tree for words in a sentence and sorts them alphabetically ignoring case. The constructor should take a sentence such as:\n",
    "`\"Loveliest of trees the cherry now Is hung with bloom along the bough\"` and separate individual words before adding them to the contained BST.\n",
    "\n",
    "```python\n",
    "class Q6BinarySearchTree(): \n",
    "    def __init__(self, sentence):\n",
    "```   \n",
    "The tree should have a method:\n",
    "```python\n",
    "    def contains(self, word):\n",
    "```   \n",
    "that searches the BST for a word and returns `True` when the word appears in the sentence **ignoring case**. For example, given the sentence above:\n",
    "```python\n",
    "    tree = Q6BinarySearchTree(\"Loveliest of trees the cherry now ...\")\n",
    "    tree.contains(\"the\") == True\n",
    "    tree.contains(\"THE\") == True # Because case ignored\n",
    "    tree.contains(\"python\") == False\n",
    "```"
   ]
  },
  {
   "cell_type": "code",
   "execution_count": null,
   "metadata": {
    "deletable": false,
    "nbgrader": {
     "cell_type": "code",
     "checksum": "1e3c3880be063e0e9505c9faba3e330d",
     "grade": false,
     "grade_id": "q6",
     "locked": false,
     "schema_version": 3,
     "solution": true,
     "task": false
    },
    "tags": []
   },
   "outputs": [],
   "source": [
    "class Q6BinarySearchTree(BinarySearchTree): \n",
    "    def __init__(self, sentence):\n",
    "        super().__init__()\n",
    "        for word in sentence.split():\n",
    "            self.insert(word.lower())\n",
    "\n",
    "    def contains(self, word):\n",
    "        \"\"\" Returns True when word is found in the tree ignoring case. \"\"\"\n",
    "        current = self._root\n",
    "        word = word.lower()\n",
    "        while current:\n",
    "            if word == current.get_value():\n",
    "                return True\n",
    "            elif word < current.get_value():\n",
    "                current = current.get_left()\n",
    "            else:\n",
    "                current = current.get_right()\n",
    "        return False"
   ]
  },
  {
   "cell_type": "code",
   "execution_count": null,
   "metadata": {},
   "outputs": [],
   "source": [
    "# Sample test cases\n",
    "\n",
    "tree = Q6BinarySearchTree(\"Loveliest of trees the cherry now ...\")\n",
    "assert tree.contains(\"the\")\n",
    "assert tree.contains(\"THE\") # Because case ignored\n",
    "assert not tree.contains(\"python\")"
   ]
  },
  {
   "cell_type": "code",
   "execution_count": null,
   "metadata": {
    "deletable": false,
    "editable": false,
    "nbgrader": {
     "cell_type": "code",
     "checksum": "b212f12f748c913aee9c5853acea9708",
     "grade": true,
     "grade_id": "q6-bst",
     "locked": true,
     "points": 15,
     "schema_version": 3,
     "solution": false,
     "task": false
    }
   },
   "outputs": [],
   "source": [
    "# Testing Cell (Do NOT modify this cell)"
   ]
  },
  {
   "cell_type": "markdown",
   "metadata": {},
   "source": [
    "#### Question 7 &nbsp;&nbsp;&nbsp;&nbsp;&nbsp;&nbsp;(15 Points)\n",
    "\n",
    "Extend `Q6BinarySearchTree` in a class `Q7BinarySearchTree` that is capable of storing at each vertex of the BST both the word and the number of times it occurs in the sentence passed to the constructor. To do this, you will need to create a new vertex class that extends a tree vertex class from a previous question. Words are added to the tree alphabetically in **lower case**. \n",
    "\n",
    "Your class must include a method `frequency` that traverses the tree in order and returns a list of tuples where each tuple consists of the (word, occurrences) - where occurrences is the number of times the word occurs in the sentence.\n",
    "```python\n",
    "class Q7BinarySearchTree(Q6BinarySearchTree):\n",
    "    def __init__(self, sentence):\n",
    "        ''' \n",
    "        Accepts an input sentence, converts it to lowercase and splits into\n",
    "        words which are stored in the BST alphabetically ignoring case.\n",
    "        '''\n",
    "        \n",
    "    def frequency(self):    \n",
    "        '''\n",
    "        Returns a list of tuples containing the in-order traversal of the  \n",
    "        tree and the number of times the word appears in the sentence.\n",
    "        Returned values are in lower case.\n",
    "        '''\n",
    "```\n",
    "For example, given a sentence `\"a A tree repeats\"` the function `frequency` would return a list: </br>\n",
    "`[('a', 2), ('repeats', 1), ('tree', 1)]`</br>\n",
    "because the sentence contains two instances of 'a' when converted to lower case.\n"
   ]
  },
  {
   "cell_type": "code",
   "execution_count": null,
   "metadata": {
    "deletable": false,
    "nbgrader": {
     "cell_type": "code",
     "checksum": "2037e5e054247efa5e53ce8e5291152a",
     "grade": false,
     "grade_id": "q7",
     "locked": false,
     "schema_version": 3,
     "solution": true,
     "task": false
    },
    "tags": []
   },
   "outputs": [],
   "source": [
    "class Q7BinarySearchTree(Q6BinarySearchTree):\n",
    "    def __init__(self, sentence):\n",
    "        self.word_counts = {}\n",
    "        super().__init__(\"\")\n",
    "        for word in sentence.split():\n",
    "            word = word.lower()\n",
    "            self.word_counts[word] = self.word_counts.get(word, 0) + 1\n",
    "            self.insert(word)\n",
    "\n",
    "    def frequency(self):\n",
    "        return self.word_counts"
   ]
  },
  {
   "cell_type": "code",
   "execution_count": null,
   "metadata": {},
   "outputs": [],
   "source": [
    "# Sample test case\n",
    "\n",
    "q7 = Q7BinarySearchTree(\"a A tree repeats\")\n",
    "# This list is ordered by in-order traversal\n",
    "assert q7.frequency() == [('a', 2), ('repeats', 1), ('tree', 1)]\n"
   ]
  },
  {
   "cell_type": "code",
   "execution_count": null,
   "metadata": {
    "deletable": false,
    "editable": false,
    "nbgrader": {
     "cell_type": "code",
     "checksum": "d6379090480cddde175194bfd85f976f",
     "grade": true,
     "grade_id": "q7-bst-frequency",
     "locked": true,
     "points": 20,
     "schema_version": 3,
     "solution": false,
     "task": false
    },
    "tags": []
   },
   "outputs": [],
   "source": [
    "# Testing Cell (Do NOT modify this cell)"
   ]
  }
 ],
 "metadata": {
  "kernelspec": {
   "display_name": "first_test",
   "language": "python",
   "name": "python3"
  },
  "language_info": {
   "codemirror_mode": {
    "name": "ipython",
    "version": 3
   },
   "file_extension": ".py",
   "mimetype": "text/x-python",
   "name": "python",
   "nbconvert_exporter": "python",
   "pygments_lexer": "ipython3",
   "version": "3.10.13"
  },
  "otter": {
   "tests": {
    "q1": {
     "name": "q1",
     "points": 1,
     "suites": [
      {
       "cases": [],
       "scored": true,
       "setup": "",
       "teardown": "",
       "type": "doctest"
      }
     ]
    },
    "q10": {
     "name": "q10",
     "points": 4,
     "suites": [
      {
       "cases": [],
       "scored": true,
       "setup": "",
       "teardown": "",
       "type": "doctest"
      }
     ]
    },
    "q11": {
     "name": "q11",
     "points": 6,
     "suites": [
      {
       "cases": [],
       "scored": true,
       "setup": "",
       "teardown": "",
       "type": "doctest"
      }
     ]
    },
    "q12": {
     "name": "q12",
     "points": 6,
     "suites": [
      {
       "cases": [],
       "scored": true,
       "setup": "",
       "teardown": "",
       "type": "doctest"
      }
     ]
    },
    "q13": {
     "name": "q13",
     "points": 6,
     "suites": [
      {
       "cases": [],
       "scored": true,
       "setup": "",
       "teardown": "",
       "type": "doctest"
      }
     ]
    },
    "q14": {
     "name": "q14",
     "points": 6,
     "suites": [
      {
       "cases": [],
       "scored": true,
       "setup": "",
       "teardown": "",
       "type": "doctest"
      }
     ]
    },
    "q15": {
     "name": "q15",
     "points": 6,
     "suites": [
      {
       "cases": [],
       "scored": true,
       "setup": "",
       "teardown": "",
       "type": "doctest"
      }
     ]
    },
    "q16": {
     "name": "q16",
     "points": 6,
     "suites": [
      {
       "cases": [],
       "scored": true,
       "setup": "",
       "teardown": "",
       "type": "doctest"
      }
     ]
    },
    "q17": {
     "name": "q17",
     "points": 8,
     "suites": [
      {
       "cases": [],
       "scored": true,
       "setup": "",
       "teardown": "",
       "type": "doctest"
      }
     ]
    },
    "q18": {
     "name": "q18",
     "points": 8,
     "suites": [
      {
       "cases": [],
       "scored": true,
       "setup": "",
       "teardown": "",
       "type": "doctest"
      }
     ]
    },
    "q19": {
     "name": "q19",
     "points": 12,
     "suites": [
      {
       "cases": [],
       "scored": true,
       "setup": "",
       "teardown": "",
       "type": "doctest"
      }
     ]
    },
    "q2": {
     "name": "q2",
     "points": 1,
     "suites": [
      {
       "cases": [],
       "scored": true,
       "setup": "",
       "teardown": "",
       "type": "doctest"
      }
     ]
    },
    "q20": {
     "name": "q20",
     "points": 12,
     "suites": [
      {
       "cases": [],
       "scored": true,
       "setup": "",
       "teardown": "",
       "type": "doctest"
      }
     ]
    },
    "q3": {
     "name": "q3",
     "points": 1,
     "suites": [
      {
       "cases": [],
       "scored": true,
       "setup": "",
       "teardown": "",
       "type": "doctest"
      }
     ]
    },
    "q4": {
     "name": "q4",
     "points": 1,
     "suites": [
      {
       "cases": [],
       "scored": true,
       "setup": "",
       "teardown": "",
       "type": "doctest"
      }
     ]
    },
    "q5": {
     "name": "q5",
     "points": 2,
     "suites": [
      {
       "cases": [],
       "scored": true,
       "setup": "",
       "teardown": "",
       "type": "doctest"
      }
     ]
    },
    "q6": {
     "name": "q6",
     "points": 2,
     "suites": [
      {
       "cases": [],
       "scored": true,
       "setup": "",
       "teardown": "",
       "type": "doctest"
      }
     ]
    },
    "q7": {
     "name": "q7",
     "points": 4,
     "suites": [
      {
       "cases": [],
       "scored": true,
       "setup": "",
       "teardown": "",
       "type": "doctest"
      }
     ]
    },
    "q8": {
     "name": "q8",
     "points": 4,
     "suites": [
      {
       "cases": [],
       "scored": true,
       "setup": "",
       "teardown": "",
       "type": "doctest"
      }
     ]
    },
    "q9": {
     "name": "q9",
     "points": 4,
     "suites": [
      {
       "cases": [],
       "scored": true,
       "setup": "",
       "teardown": "",
       "type": "doctest"
      }
     ]
    }
   }
  },
  "varInspector": {
   "cols": {
    "lenName": 16,
    "lenType": 16,
    "lenVar": 40
   },
   "kernels_config": {
    "python": {
     "delete_cmd_postfix": "",
     "delete_cmd_prefix": "del ",
     "library": "var_list.py",
     "varRefreshCmd": "print(var_dic_list())"
    },
    "r": {
     "delete_cmd_postfix": ") ",
     "delete_cmd_prefix": "rm(",
     "library": "var_list.r",
     "varRefreshCmd": "cat(var_dic_list()) "
    }
   },
   "types_to_exclude": [
    "module",
    "function",
    "builtin_function_or_method",
    "instance",
    "_Feature"
   ],
   "window_display": false
  }
 },
 "nbformat": 4,
 "nbformat_minor": 4
}
