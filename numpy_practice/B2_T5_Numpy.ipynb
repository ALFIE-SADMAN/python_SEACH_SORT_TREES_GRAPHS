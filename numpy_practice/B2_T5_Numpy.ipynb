{
 "cells": [
  {
   "cell_type": "markdown",
   "metadata": {},
   "source": [
    "### Instructions:\n",
    "\n",
    "- You can attempt any number of questions and in any order.  \n",
    "  See the assignment page for a description of the hurdle requirement for this assessment.\n",
    "- You may submit your practical for autograding as many times as you like to check on progress, however you will save time by checking and testing your own code before submitting.\n",
    "- Develop and check your answers in the spaces provided.\n",
    "- **Replace** the code `raise NotImplementedError()` with your solution to the question.\n",
    "- Do **NOT** remove any variables other provided markings already provided in the answer spaces.\n",
    "- Do **NOT** make any changes to this notebook outside of the spaces indicated.  \n",
    "  (If you do this, the submission system might not accept your work)\n",
    "\n",
    "### Submitting:\n",
    "\n",
    "1. Before you turn this problem in, make sure everything runs as expected by resetting this notebook.    \n",
    "   (You can do this from the menubar above by selecting `Kernel`&#8594;`Restart Kernel and Run All Cells...`)\n",
    "1. Don't forget to save your notebook after this step.\n",
    "1. Submit your .ipynb file to Gradescope via file upload or GitHub repository.\n",
    "1. You can submit as many times as needed.\n",
    "\n"
   ]
  },
  {
   "cell_type": "markdown",
   "metadata": {},
   "source": [
    "---"
   ]
  },
  {
   "cell_type": "markdown",
   "metadata": {
    "tags": []
   },
   "source": [
    "# <mark style=\"background: #801010; color: #ffffff;\" >B2</mark> Topic 5: NumPy Arrays"
   ]
  },
  {
   "cell_type": "markdown",
   "metadata": {},
   "source": [
    "#### Question 01 &nbsp;&nbsp;&nbsp;&nbsp;&nbsp;&nbsp;(2 Points)\n",
    "\n",
    "Create a python program that has a 1-D array with 5 elements. It should contain the numbers 0 to 4 in sequence. Assign this array to `output1`."
   ]
  },
  {
   "cell_type": "code",
   "execution_count": 21,
   "metadata": {
    "deletable": false,
    "nbgrader": {
     "cell_type": "code",
     "checksum": "6744efdb831781d9b4fbb6598bf0f11b",
     "grade": false,
     "grade_id": "q1",
     "locked": false,
     "schema_version": 3,
     "solution": true,
     "task": false
    },
    "tags": []
   },
   "outputs": [
    {
     "name": "stdout",
     "output_type": "stream",
     "text": [
      "[0 1 2 3 4]\n"
     ]
    }
   ],
   "source": [
    "import numpy as np\n",
    "\n",
    "# Creating a 1D NumPy array\n",
    "output1 = np.array([0, 1, 2, 3, 4])\n",
    "\n",
    "# Display the output\n",
    "print(output1)\n"
   ]
  },
  {
   "cell_type": "code",
   "execution_count": 22,
   "metadata": {
    "deletable": false,
    "editable": false,
    "nbgrader": {
     "cell_type": "code",
     "checksum": "da8fc5a2e5b30c9c1036d2751629f3a0",
     "grade": true,
     "grade_id": "q1-1-sequence",
     "locked": true,
     "points": 2,
     "schema_version": 3,
     "solution": false,
     "task": false
    }
   },
   "outputs": [],
   "source": [
    "# Testing Cell (Do NOT modify this cell)"
   ]
  },
  {
   "cell_type": "markdown",
   "metadata": {},
   "source": [
    "#### Question 02 &nbsp;&nbsp;&nbsp;&nbsp;&nbsp;&nbsp;(2 Points)\n",
    "\n",
    "Create a python program that contains a 2-D array with 6 elements (2 rows and 3 columns) that represents the following array. Assign this array to `output2`.\n",
    "\n",
    "$$\\begin{bmatrix} 0 & 1 & 2 \\\\ 3 & 4 & 5 \\end{bmatrix}$$"
   ]
  },
  {
   "cell_type": "code",
   "execution_count": 23,
   "metadata": {
    "deletable": false,
    "nbgrader": {
     "cell_type": "code",
     "checksum": "f7bf1cc802c3812c963c755594726be9",
     "grade": false,
     "grade_id": "q2",
     "locked": false,
     "schema_version": 3,
     "solution": true,
     "task": false
    },
    "tags": []
   },
   "outputs": [
    {
     "name": "stdout",
     "output_type": "stream",
     "text": [
      "[[0 1 2]\n",
      " [3 4 5]]\n"
     ]
    }
   ],
   "source": [
    "import numpy as np\n",
    "\n",
    "# Creating a 2D NumPy array (2 rows, 3 columns)\n",
    "output2 = np.array([[0, 1, 2], [3, 4, 5]])\n",
    "\n",
    "# Display the output\n",
    "print(output2)\n"
   ]
  },
  {
   "cell_type": "code",
   "execution_count": 24,
   "metadata": {
    "deletable": false,
    "editable": false,
    "nbgrader": {
     "cell_type": "code",
     "checksum": "669eba1f32b84470d43e39fdcfc4deab",
     "grade": true,
     "grade_id": "q2-1-2d-array",
     "locked": true,
     "points": 2,
     "schema_version": 3,
     "solution": false,
     "task": false
    }
   },
   "outputs": [],
   "source": [
    "# Testing Cell (Do NOT modify this cell)"
   ]
  },
  {
   "cell_type": "markdown",
   "metadata": {},
   "source": [
    "#### Question 03 &nbsp;&nbsp;&nbsp;&nbsp;&nbsp;&nbsp;(2 Points)\n",
    "Create a python program that has a 2-D array with 6 elements (3 rows and 2 columns) that represents the following array. Assign this array to `output3`.\n",
    "\n",
    "$$\\begin{bmatrix} 0 & 1 \\\\ 2 & 3 \\\\ 4 & 5 \\end{bmatrix}$$"
   ]
  },
  {
   "cell_type": "code",
   "execution_count": 25,
   "metadata": {
    "deletable": false,
    "nbgrader": {
     "cell_type": "code",
     "checksum": "d2e39acbbf1d26399d76ab56f3705665",
     "grade": false,
     "grade_id": "q3",
     "locked": false,
     "schema_version": 3,
     "solution": true,
     "task": false
    },
    "tags": []
   },
   "outputs": [
    {
     "name": "stdout",
     "output_type": "stream",
     "text": [
      "[[0 1]\n",
      " [2 3]\n",
      " [4 5]]\n"
     ]
    }
   ],
   "source": [
    "import numpy as np\n",
    "\n",
    "# Creating a 2D NumPy array (3 rows, 2 columns)\n",
    "output3 = np.array([[0, 1], [2, 3], [4, 5]])\n",
    "\n",
    "# Display the output\n",
    "print(output3)\n"
   ]
  },
  {
   "cell_type": "code",
   "execution_count": 26,
   "metadata": {
    "deletable": false,
    "editable": false,
    "nbgrader": {
     "cell_type": "code",
     "checksum": "d259c0f5bb9f3b46b4a842d5d3f1570e",
     "grade": true,
     "grade_id": "q3-1-2d-array",
     "locked": true,
     "points": 2,
     "schema_version": 3,
     "solution": false,
     "task": false
    },
    "tags": []
   },
   "outputs": [],
   "source": [
    "# Testing Cell (Do NOT modify this cell)"
   ]
  },
  {
   "cell_type": "markdown",
   "metadata": {},
   "source": [
    "#### Question 04 &nbsp;&nbsp;&nbsp;&nbsp;&nbsp;&nbsp;(2 Points)\n",
    "\n",
    "Create a python program that has a 3-D array with 8 elements (2 rows and 2 columns, with a depth of 2) using the `zeros` function. Assign this array to `output4`."
   ]
  },
  {
   "cell_type": "code",
   "execution_count": 27,
   "metadata": {
    "deletable": false,
    "nbgrader": {
     "cell_type": "code",
     "checksum": "cd7ebd5a47671f799b7cfa7a46dd4c6a",
     "grade": false,
     "grade_id": "q4",
     "locked": false,
     "schema_version": 3,
     "solution": true,
     "task": false
    },
    "tags": []
   },
   "outputs": [
    {
     "name": "stdout",
     "output_type": "stream",
     "text": [
      "[[[0. 0.]\n",
      "  [0. 0.]]\n",
      "\n",
      " [[0. 0.]\n",
      "  [0. 0.]]]\n"
     ]
    }
   ],
   "source": [
    "import numpy as np\n",
    "\n",
    "# Creating a 3D NumPy array (2 blocks, 2 rows, 2 columns)\n",
    "output4 = np.zeros((2, 2, 2))\n",
    "\n",
    "# Display the output\n",
    "print(output4)\n"
   ]
  },
  {
   "cell_type": "code",
   "execution_count": 28,
   "metadata": {
    "deletable": false,
    "editable": false,
    "nbgrader": {
     "cell_type": "code",
     "checksum": "4fdf9628dc33e487848ee762bd522405",
     "grade": true,
     "grade_id": "q4-1-zeros",
     "locked": true,
     "points": 2,
     "schema_version": 3,
     "solution": false,
     "task": false
    },
    "tags": []
   },
   "outputs": [],
   "source": [
    "# Testing Cell (Do NOT modify this cell)"
   ]
  },
  {
   "cell_type": "markdown",
   "metadata": {},
   "source": [
    "#### Question 05 &nbsp;&nbsp;&nbsp;&nbsp;&nbsp;&nbsp;(2 Points)\n",
    "\n",
    "You are given a 2-D array of unknown size named `array5`. Create a Python function that finds the size of that array and returns the number of rows."
   ]
  },
  {
   "cell_type": "code",
   "execution_count": 29,
   "metadata": {
    "deletable": false,
    "nbgrader": {
     "cell_type": "code",
     "checksum": "914149c148cc0ed4bd7b771677c055f9",
     "grade": false,
     "grade_id": "q5",
     "locked": false,
     "schema_version": 3,
     "solution": true,
     "task": false
    },
    "tags": []
   },
   "outputs": [
    {
     "name": "stdout",
     "output_type": "stream",
     "text": [
      "3\n"
     ]
    }
   ],
   "source": [
    "import numpy as np\n",
    "\n",
    "def question05(array5):\n",
    "    \"\"\"\n",
    "    This function takes a 2D NumPy array as input and returns the number of rows.\n",
    "    \"\"\"\n",
    "    return array5.shape[0]\n",
    "\n",
    "# Example usage\n",
    "example_array = np.array([[1, 2], [3, 4], [5, 6]])  # 3 rows, 2 columns\n",
    "print(question05(example_array))  # Output: 3\n"
   ]
  },
  {
   "cell_type": "code",
   "execution_count": 30,
   "metadata": {
    "deletable": false,
    "editable": false,
    "nbgrader": {
     "cell_type": "code",
     "checksum": "374aeb3d200528ba2c7ae3782fb764c3",
     "grade": true,
     "grade_id": "q5-1-size",
     "locked": true,
     "points": 2,
     "schema_version": 3,
     "solution": false,
     "task": false
    },
    "tags": []
   },
   "outputs": [],
   "source": [
    "# Testing Cell (Do NOT modify this cell)"
   ]
  },
  {
   "cell_type": "markdown",
   "metadata": {},
   "source": [
    "#### Question 06 &nbsp;&nbsp;&nbsp;&nbsp;&nbsp;&nbsp;(2 Points)\n",
    "\n",
    "Create a python program that performs the following calculation using universal functions. Assign the result to `output6`.\n",
    "\n",
    "$$\\begin{bmatrix} 0 & 1 \\\\ 2 & 3 \\end{bmatrix} + \\begin{bmatrix} 0 & 1 \\\\ 2 & 3 \\end{bmatrix}$$"
   ]
  },
  {
   "cell_type": "code",
   "execution_count": 31,
   "metadata": {
    "deletable": false,
    "nbgrader": {
     "cell_type": "code",
     "checksum": "5bf6e26ab49f89e7f595d85cdb54f10c",
     "grade": false,
     "grade_id": "q6",
     "locked": false,
     "schema_version": 3,
     "solution": true,
     "task": false
    },
    "tags": []
   },
   "outputs": [
    {
     "name": "stdout",
     "output_type": "stream",
     "text": [
      "[[0 2]\n",
      " [4 6]]\n"
     ]
    }
   ],
   "source": [
    "import numpy as np\n",
    "\n",
    "# Defining the matrix\n",
    "matrix = np.array([[0, 1], [2, 3]])\n",
    "\n",
    "# Performing element-wise addition\n",
    "output6 = matrix + matrix\n",
    "\n",
    "# Display the output\n",
    "print(output6)\n"
   ]
  },
  {
   "cell_type": "code",
   "execution_count": 32,
   "metadata": {
    "deletable": false,
    "editable": false,
    "nbgrader": {
     "cell_type": "code",
     "checksum": "289fe9377bccf096ad6f809c97220272",
     "grade": true,
     "grade_id": "q6-1-add",
     "locked": true,
     "points": 2,
     "schema_version": 3,
     "solution": false,
     "task": false
    },
    "tags": []
   },
   "outputs": [],
   "source": [
    "# Testing Cell (Do NOT modify this cell)"
   ]
  },
  {
   "cell_type": "markdown",
   "metadata": {},
   "source": [
    "#### Question 07 &nbsp;&nbsp;&nbsp;&nbsp;&nbsp;&nbsp;(4 Points)\n",
    "You are given two 2-D arrays of that are the same size (`array7_i` and `array7_ii`). Create a python program that multiplies the two arrays together using universal functions. Return a new array containing the result."
   ]
  },
  {
   "cell_type": "code",
   "execution_count": 33,
   "metadata": {
    "deletable": false,
    "nbgrader": {
     "cell_type": "code",
     "checksum": "48e099c1e311b6e4dff196743501114d",
     "grade": false,
     "grade_id": "q7",
     "locked": false,
     "schema_version": 3,
     "solution": true,
     "task": false
    },
    "tags": []
   },
   "outputs": [
    {
     "name": "stdout",
     "output_type": "stream",
     "text": [
      "[[2 4]\n",
      " [6 8]]\n"
     ]
    }
   ],
   "source": [
    "import numpy as np\n",
    "\n",
    "def question07(a1, a2):\n",
    "    \"\"\"\n",
    "    This function takes two 2D NumPy arrays of the same shape and returns\n",
    "    an array where each element is the product of corresponding elements from a1 and a2.\n",
    "    \"\"\"\n",
    "    return np.multiply(a1, a2)\n",
    "\n",
    "# Example usage\n",
    "array1 = np.array([[1, 2], [3, 4]])\n",
    "array2 = np.array([[2, 2], [2, 2]])\n",
    "\n",
    "print(question07(array1, array2))\n"
   ]
  },
  {
   "cell_type": "code",
   "execution_count": 34,
   "metadata": {
    "deletable": false,
    "editable": false,
    "nbgrader": {
     "cell_type": "code",
     "checksum": "c60965412b73e856c3bc553c5b3abcd9",
     "grade": true,
     "grade_id": "q7-1-mult",
     "locked": true,
     "points": 4,
     "schema_version": 3,
     "solution": false,
     "task": false
    },
    "tags": []
   },
   "outputs": [],
   "source": [
    "# Testing Cell (Do NOT modify this cell)"
   ]
  },
  {
   "cell_type": "markdown",
   "metadata": {},
   "source": [
    "#### Question 08 &nbsp;&nbsp;&nbsp;&nbsp;&nbsp;&nbsp;(4 Points)\n",
    "\n",
    "Create a python program that performs the following calculation using universal functions. Assign the result to `output8`.\n",
    "\n",
    "$$\\begin{bmatrix} 0 & 1 \\\\ 2 & 3 \\end{bmatrix} ** 3$$"
   ]
  },
  {
   "cell_type": "code",
   "execution_count": 35,
   "metadata": {
    "deletable": false,
    "nbgrader": {
     "cell_type": "code",
     "checksum": "6b073212af023486b5dde7978f23f1b1",
     "grade": false,
     "grade_id": "q8",
     "locked": false,
     "schema_version": 3,
     "solution": true,
     "task": false
    },
    "tags": []
   },
   "outputs": [
    {
     "name": "stdout",
     "output_type": "stream",
     "text": [
      "[[ 0  1]\n",
      " [ 8 27]]\n"
     ]
    }
   ],
   "source": [
    "import numpy as np\n",
    "\n",
    "# Step 1: Define the given 2x2 matrix\n",
    "matrix = np.array([[0, 1], \n",
    "                   [2, 3]])\n",
    "\n",
    "# Step 2: Perform element-wise exponentiation (raise each element to the power of 3)\n",
    "# - Using either np.power(matrix, 3) or matrix ** 3\n",
    "output8 = matrix ** 3  \n",
    "\n",
    "# Step 3: Print the result to verify correctness\n",
    "print(output8)\n"
   ]
  },
  {
   "cell_type": "code",
   "execution_count": 36,
   "metadata": {
    "deletable": false,
    "editable": false,
    "nbgrader": {
     "cell_type": "code",
     "checksum": "6718348ab6eab9ab9eb8ec98ea0dffb7",
     "grade": true,
     "grade_id": "q8-1-exponent",
     "locked": true,
     "points": 4,
     "schema_version": 3,
     "solution": false,
     "task": false
    },
    "tags": []
   },
   "outputs": [],
   "source": [
    "# Testing Cell (Do NOT modify this cell)"
   ]
  },
  {
   "cell_type": "markdown",
   "metadata": {},
   "source": [
    "#### Question 09 &nbsp;&nbsp;&nbsp;&nbsp;&nbsp;&nbsp;(4 Points)\n",
    "\n",
    "Create a python program that has a 1-D array with 100 elements. It should contain the numbers 0, 2, 4, 6, all the way to 198 in sequence. Assign this array to `output9`."
   ]
  },
  {
   "cell_type": "code",
   "execution_count": 37,
   "metadata": {
    "deletable": false,
    "nbgrader": {
     "cell_type": "code",
     "checksum": "de5e93fd46d033b8730006c28d652021",
     "grade": false,
     "grade_id": "q9",
     "locked": false,
     "schema_version": 3,
     "solution": true,
     "task": false
    },
    "tags": []
   },
   "outputs": [
    {
     "name": "stdout",
     "output_type": "stream",
     "text": [
      "[  0   2   4   6   8  10  12  14  16  18  20  22  24  26  28  30  32  34\n",
      "  36  38  40  42  44  46  48  50  52  54  56  58  60  62  64  66  68  70\n",
      "  72  74  76  78  80  82  84  86  88  90  92  94  96  98 100 102 104 106\n",
      " 108 110 112 114 116 118 120 122 124 126 128 130 132 134 136 138 140 142\n",
      " 144 146 148 150 152 154 156 158 160 162 164 166 168 170 172 174 176 178\n",
      " 180 182 184 186 188 190 192 194 196 198]\n"
     ]
    }
   ],
   "source": [
    "import numpy as np\n",
    "\n",
    "# Step 1: Generate a sequence of numbers from 0 to 198 with step 2\n",
    "output9 = np.arange(0, 200, 2)\n",
    "\n",
    "# Step 2: Print the result to verify correctness\n",
    "print(output9)\n"
   ]
  },
  {
   "cell_type": "code",
   "execution_count": 38,
   "metadata": {
    "deletable": false,
    "editable": false,
    "nbgrader": {
     "cell_type": "code",
     "checksum": "7c1be4c502a86f1c8f6dfdd10c41aa14",
     "grade": true,
     "grade_id": "q9-1-evens",
     "locked": true,
     "points": 4,
     "schema_version": 3,
     "solution": false,
     "task": false
    }
   },
   "outputs": [],
   "source": [
    "# Testing Cell (Do NOT modify this cell)"
   ]
  },
  {
   "cell_type": "markdown",
   "metadata": {},
   "source": [
    "#### Question 10 &nbsp;&nbsp;&nbsp;&nbsp;&nbsp;&nbsp;(4 Points)\n",
    "\n",
    "Create a python program that has a 1-D array with 16 elements. It should contain the numbers 10, 20, 30, 40, all the way to 160 in sequence. Afterwards, change its shape using `reshape` to a 4-D array. Assign this reshaped array to `output10`.\n",
    "\n",
    "***\n",
    "<details>\n",
    "  <summary><span style=\"color:blue\">Click to see Hints</span></summary>\n",
    "   In one of the provided examples, you saw how a 2-D 3-by-3 array. Use that as a basis for reshaping into a 4-D 2-by-2-by-2-by-2 array. \n",
    "</details>"
   ]
  },
  {
   "cell_type": "code",
   "execution_count": 39,
   "metadata": {
    "deletable": false,
    "nbgrader": {
     "cell_type": "code",
     "checksum": "b141feb9b2625d25370d503e18467b65",
     "grade": false,
     "grade_id": "q10",
     "locked": false,
     "schema_version": 3,
     "solution": true,
     "task": false
    },
    "tags": []
   },
   "outputs": [
    {
     "name": "stdout",
     "output_type": "stream",
     "text": [
      "[[[[ 10  20]\n",
      "   [ 30  40]]\n",
      "\n",
      "  [[ 50  60]\n",
      "   [ 70  80]]]\n",
      "\n",
      "\n",
      " [[[ 90 100]\n",
      "   [110 120]]\n",
      "\n",
      "  [[130 140]\n",
      "   [150 160]]]]\n"
     ]
    }
   ],
   "source": [
    "import numpy as np\n",
    "\n",
    "# Step 1: Generate a sequence from 10 to 160 with step 10\n",
    "array_1d = np.arange(10, 170, 10)  # Creates [10, 20, 30, ..., 160]\n",
    "\n",
    "# Step 2: Reshape the 1D array into a 4D array\n",
    "output10 = array_1d.reshape(2, 2, 2, 2)  # Shape (2,2,2,2)\n",
    "\n",
    "# Step 3: Print the reshaped array to verify correctness\n",
    "print(output10)\n"
   ]
  },
  {
   "cell_type": "code",
   "execution_count": 40,
   "metadata": {
    "deletable": false,
    "editable": false,
    "nbgrader": {
     "cell_type": "code",
     "checksum": "47b73e6f2d999289129ea4089d18e0f2",
     "grade": true,
     "grade_id": "q10-1-tens",
     "locked": true,
     "points": 4,
     "schema_version": 3,
     "solution": false,
     "task": false
    },
    "tags": []
   },
   "outputs": [],
   "source": [
    "# Testing Cell (Do NOT modify this cell)"
   ]
  },
  {
   "cell_type": "markdown",
   "metadata": {},
   "source": [
    "#### Question 11 &nbsp;&nbsp;&nbsp;&nbsp;&nbsp;&nbsp;(6 Points)\n",
    "\n",
    "One of the most common models in statistics (and by extention data science) is the normal distribution. In order to graph a normal distribution first the mean and standard deviation of the data must be found. NumPy has functions that allow us to analyse data and obtain these values.\n",
    "\n",
    "You are given an array of unknown size and dimensions named `array11` that represents some data. Create a python program that finds the both the mean and standard deviation (rounded to 4 decimal points) of the data. Return the values in a dictionary of the following structure:\n",
    "```python\n",
    "question11 = {\n",
    "  \"mean\": some_value,\n",
    "  \"standard_deviation\": some_value\n",
    "}\n",
    "```"
   ]
  },
  {
   "cell_type": "code",
   "execution_count": 41,
   "metadata": {
    "deletable": false,
    "nbgrader": {
     "cell_type": "code",
     "checksum": "aa5b0c9f3dae4d8b9c306019e2c0d211",
     "grade": false,
     "grade_id": "q11",
     "locked": false,
     "schema_version": 3,
     "solution": true,
     "task": false
    },
    "tags": []
   },
   "outputs": [
    {
     "name": "stdout",
     "output_type": "stream",
     "text": [
      "{'mean': 5.5, 'standard_deviation': 2.8723}\n"
     ]
    }
   ],
   "source": [
    "import numpy as np\n",
    "\n",
    "def question11(array11):\n",
    "    \"\"\"\n",
    "    This function calculates the mean and standard deviation of a given NumPy array.\n",
    "    The results are rounded to 4 decimal places and returned as a dictionary.\n",
    "    \"\"\"\n",
    "    # Step 1: Compute the mean of the array\n",
    "    mean_value = round(np.mean(array11), 4)  # Rounding to 4 decimal places\n",
    "\n",
    "    # Step 2: Compute the standard deviation of the array\n",
    "    std_value = round(np.std(array11), 4)  # Rounding to 4 decimal places\n",
    "\n",
    "    # Step 3: Store the results in a dictionary and return it\n",
    "    return {\n",
    "        \"mean\": mean_value,\n",
    "        \"standard_deviation\": std_value\n",
    "    }\n",
    "\n",
    "# Example usage\n",
    "example_array = np.array([1, 2, 3, 4, 5, 6, 7, 8, 9, 10])  # Sample data\n",
    "print(question11(example_array))  \n",
    "# Expected Output: {'mean': 5.5, 'standard_deviation': 2.8723}\n"
   ]
  },
  {
   "cell_type": "code",
   "execution_count": 42,
   "metadata": {
    "deletable": false,
    "editable": false,
    "nbgrader": {
     "cell_type": "code",
     "checksum": "a2a45f60a5223f018995e1a0f0b03483",
     "grade": true,
     "grade_id": "q11-1-normal-distrib",
     "locked": true,
     "points": 6,
     "schema_version": 3,
     "solution": false,
     "task": false
    }
   },
   "outputs": [],
   "source": [
    "# Testing Cell (Do NOT modify this cell)"
   ]
  },
  {
   "cell_type": "markdown",
   "metadata": {},
   "source": [
    "#### Question 12 &nbsp;&nbsp;&nbsp;&nbsp;&nbsp;&nbsp;(6 Points)\n",
    "\n",
    "You are given an 1-D array of unknown size named `array12`. Create a python program that finds both the first element and the minimum element in the array determined using a standard function. Return the values in a dictionary of the following structure:\n",
    "```python\n",
    "{\n",
    "  \"first\": some_value,\n",
    "  \"smallest\": some_value\n",
    "}\n",
    "```"
   ]
  },
  {
   "cell_type": "code",
   "execution_count": 43,
   "metadata": {
    "deletable": false,
    "nbgrader": {
     "cell_type": "code",
     "checksum": "8ee9c1b2b567fc0ad09fdff50c0d360c",
     "grade": false,
     "grade_id": "q12",
     "locked": false,
     "schema_version": 3,
     "solution": true,
     "task": false
    },
    "tags": []
   },
   "outputs": [
    {
     "name": "stdout",
     "output_type": "stream",
     "text": [
      "{'first': 12, 'smallest': 1}\n"
     ]
    }
   ],
   "source": [
    "import numpy as np\n",
    "\n",
    "def question12(array12):\n",
    "    \"\"\"\n",
    "    This function takes a 1D NumPy array and returns a dictionary containing:\n",
    "    - The first element of the array.\n",
    "    - The smallest element found using np.min().\n",
    "    \"\"\"\n",
    "    # Step 1: Get the first element of the array\n",
    "    first_element = array12[0]\n",
    "\n",
    "    # Step 2: Find the smallest element in the array using NumPy's min() function\n",
    "    smallest_element = np.min(array12)\n",
    "\n",
    "    # Step 3: Store the results in a dictionary and return it\n",
    "    return {\n",
    "        \"first\": first_element,\n",
    "        \"smallest\": smallest_element\n",
    "    }\n",
    "\n",
    "# Example usage\n",
    "example_array = np.array([12, 4, 56, 1, 9, 7])  # Sample data\n",
    "print(question12(example_array))  \n",
    "# Expected Output: {'first': 12, 'smallest': 1}\n"
   ]
  },
  {
   "cell_type": "code",
   "execution_count": 44,
   "metadata": {
    "deletable": false,
    "editable": false,
    "nbgrader": {
     "cell_type": "code",
     "checksum": "9e511f76edf23127bfd315a209b795f9",
     "grade": true,
     "grade_id": "q12-1-1st-smallest",
     "locked": true,
     "points": 6,
     "schema_version": 3,
     "solution": false,
     "task": false
    },
    "tags": []
   },
   "outputs": [],
   "source": [
    "# Testing Cell (Do NOT modify this cell)"
   ]
  },
  {
   "cell_type": "markdown",
   "metadata": {},
   "source": [
    "#### Question 13 &nbsp;&nbsp;&nbsp;&nbsp;&nbsp;&nbsp;(6 Points)\n",
    "\n",
    "You are given an 2-D array of unknown size named `array13`. Create a python program that finds the first row of data and the maximum number within that row.  Return the values in a dictionary of the following structure:\n",
    "```python\n",
    "question13 = {\n",
    "  \"first_row\": some_value,\n",
    "  \"max_row_value\": some_value\n",
    "}\n",
    "```"
   ]
  },
  {
   "cell_type": "code",
   "execution_count": 45,
   "metadata": {
    "deletable": false,
    "nbgrader": {
     "cell_type": "code",
     "checksum": "13eae852b95db01e8dac9ec9084e5973",
     "grade": false,
     "grade_id": "q13",
     "locked": false,
     "schema_version": 3,
     "solution": true,
     "task": false
    },
    "tags": []
   },
   "outputs": [
    {
     "name": "stdout",
     "output_type": "stream",
     "text": [
      "{'first_row': [3, 8, 1, 7], 'max_row_value': 8}\n"
     ]
    }
   ],
   "source": [
    "import numpy as np\n",
    "\n",
    "def question13(array13):\n",
    "    \"\"\"\n",
    "    This function takes a 2D NumPy array and returns a dictionary containing:\n",
    "    - The first row as a list.\n",
    "    - The maximum value in the first row.\n",
    "    \"\"\"\n",
    "    # Step 1: Get the first row of the 2D array\n",
    "    first_row = array13[0]  # Extracts the first row\n",
    "\n",
    "    # Step 2: Find the maximum value in the first row\n",
    "    max_row_value = np.max(first_row)  # Finds the highest value in the row\n",
    "\n",
    "    # Step 3: Store the results in a dictionary and return it\n",
    "    return {\n",
    "        \"first_row\": first_row.tolist(),  # Convert NumPy array to a list for better readability\n",
    "        \"max_row_value\": max_row_value\n",
    "    }\n",
    "\n",
    "# Example usage\n",
    "example_array = np.array([[3, 8, 1, 7], [2, 5, 9, 6], [4, 10, 12, 0]])  # Sample data\n",
    "print(question13(example_array))  \n",
    "# Expected Output: {'first_row': [3, 8, 1, 7], 'max_row_value': 8}\n"
   ]
  },
  {
   "cell_type": "code",
   "execution_count": 46,
   "metadata": {
    "deletable": false,
    "editable": false,
    "nbgrader": {
     "cell_type": "code",
     "checksum": "bf276a26a89870642e2fa3b42526ecf7",
     "grade": true,
     "grade_id": "q13-1-first-max",
     "locked": true,
     "points": 6,
     "schema_version": 3,
     "solution": false,
     "task": false
    }
   },
   "outputs": [],
   "source": [
    "# Testing Cell (Do NOT modify this cell)\n"
   ]
  },
  {
   "cell_type": "markdown",
   "metadata": {},
   "source": [
    "#### Question 14 &nbsp;&nbsp;&nbsp;&nbsp;&nbsp;&nbsp;(6 Points)\n",
    "\n",
    "You are given an 1-D array of unknown size named `array14`. Create a python program that finds the first 6 entries within that row. Next, split that array into two arrays using the `split` function. Return the values in a dictionary of the following structure:\n",
    "```python\n",
    "question14 = {\n",
    "  \"array\": first_6_entries,\n",
    "  \"part1\": split_first_half,\n",
    "  \"part2\": split_other_half\n",
    "}\n",
    "```"
   ]
  },
  {
   "cell_type": "code",
   "execution_count": 47,
   "metadata": {
    "deletable": false,
    "nbgrader": {
     "cell_type": "code",
     "checksum": "59a5a43783e45e2277b765c00c759b40",
     "grade": false,
     "grade_id": "q14",
     "locked": false,
     "schema_version": 3,
     "solution": true,
     "task": false
    },
    "tags": []
   },
   "outputs": [
    {
     "name": "stdout",
     "output_type": "stream",
     "text": [
      "{'array': [10, 20, 30, 40, 50, 60], 'part1': [10, 20, 30], 'part2': [40, 50, 60]}\n"
     ]
    }
   ],
   "source": [
    "import numpy as np\n",
    "\n",
    "def question14(array14):\n",
    "    \"\"\"\n",
    "    This function extracts the first 6 elements of a given 1D NumPy array.\n",
    "    It then splits this 6-element array into two equal halves using np.split().\n",
    "    The function returns a dictionary containing:\n",
    "    - The first 6 entries as a list.\n",
    "    - The two split halves as lists.\n",
    "    \"\"\"\n",
    "    # Step 1: Get the first 6 elements from the array\n",
    "    first_6_entries = array14[:6]  # Extracts first 6 elements\n",
    "\n",
    "    # Step 2: Split the 6-element array into two equal parts\n",
    "    part1, part2 = np.split(first_6_entries, 2)  # Splits into 2 equal parts\n",
    "\n",
    "    # Step 3: Store the results in a dictionary and return it\n",
    "    return {\n",
    "        \"array\": first_6_entries.tolist(),  # Convert NumPy array to list\n",
    "        \"part1\": part1.tolist(),            # Convert first split part to list\n",
    "        \"part2\": part2.tolist()             # Convert second split part to list\n",
    "    }\n",
    "\n",
    "# Example usage\n",
    "example_array = np.array([10, 20, 30, 40, 50, 60, 70, 80, 90])  # Sample data\n",
    "print(question14(example_array))  \n",
    "# Expected Output: {'array': [10, 20, 30, 40, 50, 60], 'part1': [10, 20, 30], 'part2': [40, 50, 60]}\n"
   ]
  },
  {
   "cell_type": "code",
   "execution_count": 48,
   "metadata": {
    "deletable": false,
    "editable": false,
    "nbgrader": {
     "cell_type": "code",
     "checksum": "c043f1515553ae65cdaab97eee8f4867",
     "grade": true,
     "grade_id": "q14-1-split",
     "locked": true,
     "points": 6,
     "schema_version": 3,
     "solution": false,
     "task": false
    },
    "tags": []
   },
   "outputs": [],
   "source": [
    "# Testing Cell (Do NOT modify this cell)"
   ]
  },
  {
   "cell_type": "markdown",
   "metadata": {},
   "source": [
    "#### Question 15 &nbsp;&nbsp;&nbsp;&nbsp;&nbsp;&nbsp;(6 Points)\n",
    "\n",
    "You are given an 1-D array of 40 elements named `array15`. Create a Python program that finds every second element starting from index 4 and stopping before index 20. Return the result as an array."
   ]
  },
  {
   "cell_type": "code",
   "execution_count": 49,
   "metadata": {
    "deletable": false,
    "nbgrader": {
     "cell_type": "code",
     "checksum": "ab1cfb976842987f27287ebc0304c802",
     "grade": false,
     "grade_id": "q15",
     "locked": false,
     "schema_version": 3,
     "solution": true,
     "task": false
    },
    "tags": []
   },
   "outputs": [
    {
     "name": "stdout",
     "output_type": "stream",
     "text": [
      "[ 4  6  8 10 12 14 16 18]\n"
     ]
    }
   ],
   "source": [
    "import numpy as np\n",
    "\n",
    "def question15(array15):\n",
    "    \"\"\"\n",
    "    This function extracts every second element from a given 1D NumPy array.\n",
    "    - Starts from index 4.\n",
    "    - Stops before index 20.\n",
    "    - Uses a step of 2.\n",
    "    \"\"\"\n",
    "    # Step 1: Extract every second element from index 4 to index 20 (exclusive)\n",
    "    result = array15[4:20:2]  # Start at 4, stop before 20, step by 2\n",
    "\n",
    "    # Step 2: Return the resulting NumPy array\n",
    "    return result\n",
    "\n",
    "# Example usage\n",
    "example_array = np.arange(40)  # Creates an array [0, 1, 2, ..., 39]\n",
    "print(question15(example_array))  \n",
    "# Expected Output: [4, 6, 8, 10, 12, 14, 16, 18]\n"
   ]
  },
  {
   "cell_type": "code",
   "execution_count": 50,
   "metadata": {
    "deletable": false,
    "editable": false,
    "nbgrader": {
     "cell_type": "code",
     "checksum": "acf5c36f792fca9b33923743af6b1ada",
     "grade": true,
     "grade_id": "q15-1-second-element",
     "locked": true,
     "points": 6,
     "schema_version": 3,
     "solution": false,
     "task": false
    },
    "tags": []
   },
   "outputs": [],
   "source": [
    "# Testing Cell (Do NOT modify this cell)"
   ]
  },
  {
   "cell_type": "markdown",
   "metadata": {},
   "source": [
    "#### Question 16 &nbsp;&nbsp;&nbsp;&nbsp;&nbsp;&nbsp;(6 Points)\n",
    "\n",
    "You are given 2 sorted 1-D arrays of 20 elements named `array16_i` and `array16_ii`. Create a python program that concatenates these two arrays by appending `array16_ii` to the end of `array16_i`. Afterwards, sort the new array.\n",
    "Return both the unsorted concatenated array, and the sorted array in a dictionary of the following structure:\n",
    "```python\n",
    "question16 = {\n",
    "  \"concat\": concatenated_array,\n",
    "  \"sorted\": sorted_array\n",
    "}\n",
    "```"
   ]
  },
  {
   "cell_type": "code",
   "execution_count": 51,
   "metadata": {
    "deletable": false,
    "nbgrader": {
     "cell_type": "code",
     "checksum": "0505aa2d27ae40754a911af6cfe74f9e",
     "grade": false,
     "grade_id": "q16",
     "locked": false,
     "schema_version": 3,
     "solution": true,
     "task": false
    },
    "tags": []
   },
   "outputs": [
    {
     "name": "stdout",
     "output_type": "stream",
     "text": [
      "{'concat': array([ 1,  3,  5,  7,  9, 11, 13, 15, 17, 19, 21, 23, 25, 27, 29, 31, 33,\n",
      "       35, 37, 39,  2,  4,  6,  8, 10, 12, 14, 16, 18, 20, 22, 24, 26, 28,\n",
      "       30, 32, 34, 36, 38, 40]), 'sorted': array([ 1,  2,  3,  4,  5,  6,  7,  8,  9, 10, 11, 12, 13, 14, 15, 16, 17,\n",
      "       18, 19, 20, 21, 22, 23, 24, 25, 26, 27, 28, 29, 30, 31, 32, 33, 34,\n",
      "       35, 36, 37, 38, 39, 40])}\n"
     ]
    }
   ],
   "source": [
    "import numpy as np\n",
    "\n",
    "def question16(array16_i, array16_ii):\n",
    "    \"\"\"\n",
    "    This function takes two sorted 1D NumPy arrays, concatenates them,\n",
    "    sorts the new array, and returns both versions in a dictionary.\n",
    "    \"\"\"\n",
    "    # Step 1: Concatenate the two arrays\n",
    "    concatenated_array = np.concatenate((array16_i, array16_ii))  # Appending array16_ii to array16_i\n",
    "\n",
    "    # Step 2: Sort the concatenated array\n",
    "    sorted_array = np.sort(concatenated_array)  # Sorting the combined array\n",
    "\n",
    "    # Step 3: Store the results in a dictionary and return it\n",
    "    return {\n",
    "        \"concat\": concatenated_array,  # Unsorted concatenated array\n",
    "        \"sorted\": sorted_array         # Sorted array\n",
    "    }\n",
    "\n",
    "# Example usage\n",
    "array_a = np.array([1, 3, 5, 7, 9, 11, 13, 15, 17, 19, 21, 23, 25, 27, 29, 31, 33, 35, 37, 39])\n",
    "array_b = np.array([2, 4, 6, 8, 10, 12, 14, 16, 18, 20, 22, 24, 26, 28, 30, 32, 34, 36, 38, 40])\n",
    "\n",
    "print(question16(array_a, array_b))\n"
   ]
  },
  {
   "cell_type": "code",
   "execution_count": 52,
   "metadata": {
    "deletable": false,
    "editable": false,
    "nbgrader": {
     "cell_type": "code",
     "checksum": "50137a91285dded3d3b922f896cd0d89",
     "grade": true,
     "grade_id": "a16-1-concat",
     "locked": true,
     "points": 6,
     "schema_version": 3,
     "solution": false,
     "task": false
    }
   },
   "outputs": [],
   "source": [
    "# Testing Cell (Do NOT modify this cell)"
   ]
  },
  {
   "cell_type": "markdown",
   "metadata": {},
   "source": [
    "#### Question 17 &nbsp;&nbsp;&nbsp;&nbsp;&nbsp;&nbsp;(8 Points)\n",
    "\n",
    "Create a python program that:\n",
    "\n",
    "1. initializes two arrays using the `arange` function followed by the `reshape` functions.\n",
    "   1. The first array should have 2 rows and 5 columns and contain the numbers 0, 1, 2, up to and including 9.\n",
    "   2. The second array should  have 2 rows and 3 columns and contain the numbers 1, 3, 5, up to and including 11.\n",
    "2. concatenates these two arrays by appending along the column axis (creating an array with 2 rows and 8 columns), then transposes the result (creating an array with 8 rows and 2 columns).\n",
    "\n",
    "Assign the end result to `output17`."
   ]
  },
  {
   "cell_type": "code",
   "execution_count": 53,
   "metadata": {
    "deletable": false,
    "nbgrader": {
     "cell_type": "code",
     "checksum": "cf51cce2822460403b110a8e815892ac",
     "grade": false,
     "grade_id": "q17",
     "locked": false,
     "schema_version": 3,
     "solution": true,
     "task": false
    },
    "tags": []
   },
   "outputs": [
    {
     "name": "stdout",
     "output_type": "stream",
     "text": [
      "[[ 0  5]\n",
      " [ 1  6]\n",
      " [ 2  7]\n",
      " [ 3  8]\n",
      " [ 4  9]\n",
      " [ 1  7]\n",
      " [ 3  9]\n",
      " [ 5 11]]\n"
     ]
    }
   ],
   "source": [
    "import numpy as np\n",
    "\n",
    "# Step 1: Create the first array (2 rows, 5 columns) with numbers from 0 to 9\n",
    "# - np.arange(10) generates numbers from 0 to 9\n",
    "# - .reshape(2, 5) converts it into a 2D array with 2 rows and 5 columns\n",
    "array1 = np.arange(10).reshape(2, 5)\n",
    "\n",
    "# Step 2: Create the second array (2 rows, 3 columns) with numbers 1, 3, 5, ..., 11\n",
    "# - np.arange(1, 12, 2) generates numbers from 1 to 11 with a step of 2\n",
    "# - .reshape(2, 3) converts it into a 2D array with 2 rows and 3 columns\n",
    "array2 = np.arange(1, 12, 2).reshape(2, 3)\n",
    "\n",
    "# Step 3: Concatenate the two arrays along the column axis (axis=1), creating a (2, 8) shape\n",
    "# - np.concatenate((array1, array2), axis=1) appends array2 as additional columns to array1\n",
    "concatenated_array = np.concatenate((array1, array2), axis=1)\n",
    "\n",
    "# Step 4: Transpose the array to change the shape from (2, 8) → (8, 2)\n",
    "# - .T transposes the rows and columns, converting (2,8) into (8,2)\n",
    "output17 = concatenated_array.T\n",
    "\n",
    "# Step 5: Print the final result to verify correctness\n",
    "print(output17)\n"
   ]
  },
  {
   "cell_type": "code",
   "execution_count": 54,
   "metadata": {
    "deletable": false,
    "editable": false,
    "nbgrader": {
     "cell_type": "code",
     "checksum": "9198539abde43e894b47d6e69d964ddc",
     "grade": true,
     "grade_id": "q17-1-reshape-and-concat",
     "locked": true,
     "points": 8,
     "schema_version": 3,
     "solution": false,
     "task": false
    },
    "tags": []
   },
   "outputs": [],
   "source": [
    "# Testing Cell (Do NOT modify this cell)"
   ]
  },
  {
   "cell_type": "markdown",
   "metadata": {},
   "source": [
    "#### Question 18 &nbsp;&nbsp;&nbsp;&nbsp;&nbsp;&nbsp;(8 Points)\n",
    "\n",
    "Create a python program that:\n",
    "\n",
    "1. initializes two arrays using the `arange` function followed by the `reshape` functions.\n",
    "   1. The first array should have 4 rows and 2 columns and contain the numbers 0, 1, 2, up to 7.\n",
    "   2. The second array should have 3 rows and 2 columns and contain the numbers 1, 3, 5, up to 11.\n",
    "2. concatenates these two arrays by appending along the row axis.\n",
    "3. afterwards, reshape the new array into a 1-D array and sort it in decending order.\n",
    "\n",
    "Assign the end result to `output18`."
   ]
  },
  {
   "cell_type": "code",
   "execution_count": 55,
   "metadata": {
    "deletable": false,
    "nbgrader": {
     "cell_type": "code",
     "checksum": "6e0b0a1305721b9d3ec8772568e3e9d6",
     "grade": false,
     "grade_id": "q18",
     "locked": false,
     "schema_version": 3,
     "solution": true,
     "task": false
    },
    "tags": []
   },
   "outputs": [
    {
     "name": "stdout",
     "output_type": "stream",
     "text": [
      "[11  9  7  7  6  5  5  4  3  3  2  1  1  0]\n"
     ]
    }
   ],
   "source": [
    "import numpy as np\n",
    "\n",
    "# Step 1: Create the first array (4 rows, 2 columns) with numbers from 0 to 7\n",
    "# - np.arange(8) generates numbers from 0 to 7\n",
    "# - .reshape(4, 2) converts it into a 2D array with 4 rows and 2 columns\n",
    "array1 = np.arange(8).reshape(4, 2)\n",
    "\n",
    "# Step 2: Create the second array (3 rows, 2 columns) with numbers 1, 3, 5, ..., 11\n",
    "# - np.arange(1, 12, 2) generates numbers from 1 to 11 with a step of 2\n",
    "# - .reshape(3, 2) converts it into a 2D array with 3 rows and 2 columns\n",
    "array2 = np.arange(1, 12, 2).reshape(3, 2)\n",
    "\n",
    "# Step 3: Concatenate the two arrays along the row axis (axis=0), creating a (7, 2) shape\n",
    "# - np.concatenate((array1, array2), axis=0) appends array2 as additional rows to array1\n",
    "concatenated_array = np.concatenate((array1, array2), axis=0)\n",
    "\n",
    "# Step 4: Reshape the array into a 1D array\n",
    "# - .reshape(-1) flattens the array into a 1D array\n",
    "flattened_array = concatenated_array.reshape(-1)\n",
    "\n",
    "# Step 5: Sort the 1D array in descending order\n",
    "# - np.sort() sorts in ascending order, so we use [::-1] to reverse it\n",
    "output18 = np.sort(flattened_array)[::-1]\n",
    "\n",
    "# Step 6: Print the final result to verify correctness\n",
    "print(output18)\n"
   ]
  },
  {
   "cell_type": "code",
   "execution_count": 56,
   "metadata": {
    "deletable": false,
    "editable": false,
    "nbgrader": {
     "cell_type": "code",
     "checksum": "7a0c4a1eec461b780ae877b01f508f4c",
     "grade": true,
     "grade_id": "q18-1-1d-descent",
     "locked": true,
     "points": 8,
     "schema_version": 3,
     "solution": false,
     "task": false
    }
   },
   "outputs": [],
   "source": [
    "# Testing Cell (Do NOT modify this cell)"
   ]
  },
  {
   "cell_type": "markdown",
   "metadata": {},
   "source": [
    "#### Question 19 &nbsp;&nbsp;&nbsp;&nbsp;&nbsp;&nbsp;(10 Points)\n",
    "\n",
    "Create a python program that:\n",
    "\n",
    "1. initializes two 2-D arrays as depicted below.\n",
    "$$a1 = \\begin{bmatrix} 70 & 51 & 89 \\\\ 42 & 15 & 8 \\end{bmatrix}, a2 = \\begin{bmatrix} 75 & 12 & 38 \\\\ 99 & 75 & 45 \\end{bmatrix}$$\n",
    "2. performs integer division, by dividing the elements of a1 by a2. Assign this result to `output19_i`.\n",
    "3. sums the three arrays together. Assign this result to `output19_ii`, also assign a copy of the second row to `output19_iii`.\n"
   ]
  },
  {
   "cell_type": "code",
   "execution_count": 57,
   "metadata": {
    "deletable": false,
    "nbgrader": {
     "cell_type": "code",
     "checksum": "e30185ef0d239d72d7b9c3ebe51b63d0",
     "grade": false,
     "grade_id": "q19",
     "locked": false,
     "schema_version": 3,
     "solution": true,
     "task": false
    },
    "tags": []
   },
   "outputs": [
    {
     "name": "stdout",
     "output_type": "stream",
     "text": [
      "Integer Division Result (output19_i):\n",
      " [[0 4 2]\n",
      " [0 0 0]]\n",
      "\n",
      "Sum of Arrays (output19_ii):\n",
      " [[145  67 129]\n",
      " [141  90  53]]\n",
      "\n",
      "Second Row Copy (output19_iii):\n",
      " [141  90  53]\n"
     ]
    }
   ],
   "source": [
    "import numpy as np\n",
    "\n",
    "# Step 1: Initialize the first 2D array (a1)\n",
    "a1 = np.array([[70, 51, 89],\n",
    "               [42, 15,  8]])\n",
    "\n",
    "# Step 2: Initialize the second 2D array (a2)\n",
    "a2 = np.array([[75, 12, 38],\n",
    "               [99, 75, 45]])\n",
    "\n",
    "# Step 3: Perform integer division (element-wise division with floor result)\n",
    "# - Using // operator to perform element-wise integer division\n",
    "output19_i = a1 // a2\n",
    "\n",
    "# Step 4: Sum all three arrays together: a1 + a2 + output19_i\n",
    "output19_ii = a1 + a2 + output19_i\n",
    "\n",
    "# Step 5: Extract the second row of output19_ii\n",
    "output19_iii = output19_ii[1].copy()  # Copy ensures a separate memory location\n",
    "\n",
    "# Step 6: Print results to verify correctness\n",
    "print(\"Integer Division Result (output19_i):\\n\", output19_i)\n",
    "print(\"\\nSum of Arrays (output19_ii):\\n\", output19_ii)\n",
    "print(\"\\nSecond Row Copy (output19_iii):\\n\", output19_iii)\n"
   ]
  },
  {
   "cell_type": "code",
   "execution_count": 58,
   "metadata": {
    "deletable": false,
    "editable": false,
    "nbgrader": {
     "cell_type": "code",
     "checksum": "60007cfdbfd3f96926773c6576d399da",
     "grade": true,
     "grade_id": "q19-1-div-and-sum",
     "locked": true,
     "points": 10,
     "schema_version": 3,
     "solution": false,
     "task": false
    }
   },
   "outputs": [],
   "source": [
    "# Testing Cell (Do NOT modify this cell)"
   ]
  },
  {
   "cell_type": "markdown",
   "metadata": {},
   "source": [
    "#### Question 20 &nbsp;&nbsp;&nbsp;&nbsp;&nbsp;&nbsp;(10 Points)\n",
    "\n",
    "Create a python program that:\n",
    "\n",
    "1. initializes two 2-D arrays as depicted below.\n",
    "$$a1 = \\begin{bmatrix} 48 & 75 & 75 \\\\ 15 & 2 & 46 \\end{bmatrix}, a2 = \\begin{bmatrix} 78 & 15 & 87 \\\\ 0 & 61 & 9 \\end{bmatrix}$$\n",
    "2. multiplies the two arrays together, then slice the result to only assign the last column to `output20` (note: an n-row, 1-column array automatically converts into a 1-row, n-column array, leave your answer like this).\n"
   ]
  },
  {
   "cell_type": "code",
   "execution_count": 59,
   "metadata": {
    "deletable": false,
    "nbgrader": {
     "cell_type": "code",
     "checksum": "07cecfed492ebdb10bfbb1405cd57600",
     "grade": false,
     "grade_id": "q20",
     "locked": false,
     "schema_version": 3,
     "solution": true,
     "task": false
    },
    "tags": []
   },
   "outputs": [
    {
     "name": "stdout",
     "output_type": "stream",
     "text": [
      "[6525  414]\n"
     ]
    }
   ],
   "source": [
    "import numpy as np\n",
    "\n",
    "# Step 1: Initialize the first 2D array (a1)\n",
    "a1 = np.array([[48, 75, 75],\n",
    "               [15,  2, 46]])\n",
    "\n",
    "# Step 2: Initialize the second 2D array (a2)\n",
    "a2 = np.array([[78, 15, 87],\n",
    "               [ 0, 61,  9]])\n",
    "\n",
    "# Step 3: Perform element-wise multiplication of the two arrays\n",
    "# - This multiplies corresponding elements from a1 and a2\n",
    "multiplication_result = a1 * a2\n",
    "\n",
    "# Step 4: Extract only the last column of the multiplied array\n",
    "# - Using [:, -1] to select all rows and only the last column\n",
    "output20 = multiplication_result[:, -1]\n",
    "\n",
    "# Step 5: Print the final result to verify correctness\n",
    "print(output20)\n"
   ]
  },
  {
   "cell_type": "code",
   "execution_count": 60,
   "metadata": {
    "deletable": false,
    "editable": false,
    "nbgrader": {
     "cell_type": "code",
     "checksum": "eaa1909f11bd05673dacf06538522807",
     "grade": true,
     "grade_id": "q20-1-multiply-and-slice",
     "locked": true,
     "points": 10,
     "schema_version": 3,
     "solution": false,
     "task": false
    }
   },
   "outputs": [],
   "source": [
    "# Testing Cell (Do NOT modify this cell)"
   ]
  }
 ],
 "metadata": {
  "kernelspec": {
   "display_name": "first_test",
   "language": "python",
   "name": "python3"
  },
  "language_info": {
   "codemirror_mode": {
    "name": "ipython",
    "version": 3
   },
   "file_extension": ".py",
   "mimetype": "text/x-python",
   "name": "python",
   "nbconvert_exporter": "python",
   "pygments_lexer": "ipython3",
   "version": "3.10.13"
  },
  "varInspector": {
   "cols": {
    "lenName": 16,
    "lenType": 16,
    "lenVar": 40
   },
   "kernels_config": {
    "python": {
     "delete_cmd_postfix": "",
     "delete_cmd_prefix": "del ",
     "library": "var_list.py",
     "varRefreshCmd": "print(var_dic_list())"
    },
    "r": {
     "delete_cmd_postfix": ") ",
     "delete_cmd_prefix": "rm(",
     "library": "var_list.r",
     "varRefreshCmd": "cat(var_dic_list()) "
    }
   },
   "types_to_exclude": [
    "module",
    "function",
    "builtin_function_or_method",
    "instance",
    "_Feature"
   ],
   "window_display": false
  }
 },
 "nbformat": 4,
 "nbformat_minor": 4
}
